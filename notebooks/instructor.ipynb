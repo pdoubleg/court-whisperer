{
 "cells": [
  {
   "cell_type": "code",
   "execution_count": 5,
   "metadata": {},
   "outputs": [],
   "source": [
    "import os\n",
    "from pathlib import Path\n",
    "from tqdm import tqdm\n",
    "import re\n",
    "import pandas as pd\n",
    "import numpy as np\n",
    "from pandas import json_normalize\n",
    "import time\n",
    "\n",
    "from pydantic import BaseModel, Field\n",
    "from typing import List, Optional, Sequence, Literal, Tuple\n",
    "\n",
    "from IPython.display import Markdown, display\n",
    "import warnings\n",
    "warnings.filterwarnings('ignore')\n",
    "pd.set_option('display.max_columns', None)"
   ]
  },
  {
   "cell_type": "code",
   "execution_count": 6,
   "metadata": {},
   "outputs": [],
   "source": [
    "os.chdir(\"..\")"
   ]
  },
  {
   "cell_type": "code",
   "execution_count": 2,
   "metadata": {},
   "outputs": [],
   "source": [
    "from src.language_models.GPT import GPT"
   ]
  },
  {
   "cell_type": "code",
   "execution_count": 3,
   "metadata": {},
   "outputs": [],
   "source": [
    "llm = GPT()"
   ]
  },
  {
   "cell_type": "code",
   "execution_count": 4,
   "metadata": {},
   "outputs": [
    {
     "data": {
      "text/plain": [
       "'Hello! How can I assist you today?'"
      ]
     },
     "execution_count": 4,
     "metadata": {},
     "output_type": "execute_result"
    }
   ],
   "source": [
    "llm(\"hello world!\")"
   ]
  },
  {
   "cell_type": "code",
   "execution_count": 7,
   "metadata": {},
   "outputs": [],
   "source": [
    "df = pd.read_parquet(\"data/reddit_legal_cluster_splade.parquet\")"
   ]
  },
  {
   "cell_type": "code",
   "execution_count": 8,
   "metadata": {},
   "outputs": [
    {
     "name": "stdout",
     "output_type": "stream",
     "text": [
      "I applied for a job and after two interviews I was given for and agreed to an offer letter, had a start date.  The only remaining variable was a drug test, which I prepared myself for by bringing all my prescriptions with me.  \n",
      "\n",
      "I take Adderall, my doctor prescribes me for 3 pills a day, insurance pays for only two a day so that’s what I get.  2 pills a day for 30 days.  \n",
      "\n",
      "However, I don’t need adderall everyday, so I only take it as needed.  My psychiatrist knows this and is okay with it.  I don’t take it everyday so my prescription can last me months, depending on circumstances.  \n",
      "\n",
      "Of course, I happen to take a drug test for a possible new job the day after taking an adderall at work.  No big deal, I have a prescription and it’s never been a big deal in the past.  \n",
      "\n",
      "Except this time it was.  According to the doctor who administrated the test, my prescription was too old.  How old was it, I was prescribed in June and filled the prescription on July 8th, 2019.  I still have about a third of a bottle, I take adderall twice a week on average.  This doctor flipped out.  Not only did she refuse to inspect my prescription bottle when I talked to her in person, she demanded my medical records for all the prescriptions I take.  \n",
      "\n",
      "Both of my doctors complied and when I talked to her on the phone to follow up, her exact words were “You’re prescription is too old, where are you getting it from.”  This pushed back my start date from a definite start to “wait and see” as I was still having my doctors trying to appease the drug test doctor.  \n",
      "\n",
      "I politely tried to explain that I don’t take my adderall everyday because I don’t need to and she would no listen.  So once again, I had my psychiatrist send another letter explaining in more detail.  \n",
      "I didn’t hear anything back after that, and when following up with the perspective employer and now they’re having a “hiring freeze” and won’t be filling the position.  \n",
      "\n",
      "\n",
      "So, in Texas, when is a schedule II drug no longer considered valid?  \n",
      "\n",
      "TL;DR\n",
      "Doctor said my prescription was too old and I must be getting amphetamines from an illegal source.\n"
     ]
    }
   ],
   "source": [
    "test_query = df['body'].head(1).tolist()[0]\n",
    "print(test_query)"
   ]
  },
  {
   "cell_type": "code",
   "execution_count": 9,
   "metadata": {},
   "outputs": [],
   "source": [
    "class LegalIssue(BaseModel):\n",
    "    \"\"\"Identifying information about a legal issue.\"\"\"\n",
    "    topic: str = Field(..., description=\"A concise topic title for the legal issue\")\n",
    "    summary: Optional[str] = Field(None, description=\"A summary of key points\")\n",
    "\n",
    "class LegalIssues(BaseModel):\n",
    "    \"\"\"Identifying information in a text.\"\"\"\n",
    "    issues: Sequence[LegalIssue] = Field(..., description=\"The information of interest in the text\")"
   ]
  },
  {
   "cell_type": "code",
   "execution_count": 11,
   "metadata": {},
   "outputs": [],
   "source": [
    "from langchain.chat_models import ChatOpenAI\n",
    "from langchain.prompts import ChatPromptTemplate"
   ]
  },
  {
   "cell_type": "code",
   "execution_count": 15,
   "metadata": {},
   "outputs": [],
   "source": [
    "test_llm = ChatOpenAI()"
   ]
  },
  {
   "cell_type": "code",
   "execution_count": 12,
   "metadata": {},
   "outputs": [],
   "source": [
    "prompt = ChatPromptTemplate.from_messages(\n",
    "    [\n",
    "        (\n",
    "            \"system\",\n",
    "            \"You are a world class algorithm for extracting information in structured formats.\",\n",
    "        ),\n",
    "        (\n",
    "            \"human\",\n",
    "            \"In an extremely legal tone, summarize from the following input: {input}\",\n",
    "        ),\n",
    "        (\n",
    "            \"human\", \"Tip: Make sure to answer in the correct tone\"),\n",
    "    ]\n",
    ")"
   ]
  },
  {
   "cell_type": "code",
   "execution_count": 13,
   "metadata": {},
   "outputs": [
    {
     "data": {
      "text/plain": [
       "[SystemMessage(content='You are a world class algorithm for extracting information in structured formats.'),\n",
       " HumanMessage(content='In an extremely legal tone, summarize from the following input: I applied for a job and after two interviews I was given for and agreed to an offer letter, had a start date.  The only remaining variable was a drug test, which I prepared myself for by bringing all my prescriptions with me.  \\n\\nI take Adderall, my doctor prescribes me for 3 pills a day, insurance pays for only two a day so that’s what I get.  2 pills a day for 30 days.  \\n\\nHowever, I don’t need adderall everyday, so I only take it as needed.  My psychiatrist knows this and is okay with it.  I don’t take it everyday so my prescription can last me months, depending on circumstances.  \\n\\nOf course, I happen to take a drug test for a possible new job the day after taking an adderall at work.  No big deal, I have a prescription and it’s never been a big deal in the past.  \\n\\nExcept this time it was.  According to the doctor who administrated the test, my prescription was too old.  How old was it, I was prescribed in June and filled the prescription on July 8th, 2019.  I still have about a third of a bottle, I take adderall twice a week on average.  This doctor flipped out.  Not only did she refuse to inspect my prescription bottle when I talked to her in person, she demanded my medical records for all the prescriptions I take.  \\n\\nBoth of my doctors complied and when I talked to her on the phone to follow up, her exact words were “You’re prescription is too old, where are you getting it from.”  This pushed back my start date from a definite start to “wait and see” as I was still having my doctors trying to appease the drug test doctor.  \\n\\nI politely tried to explain that I don’t take my adderall everyday because I don’t need to and she would no listen.  So once again, I had my psychiatrist send another letter explaining in more detail.  \\nI didn’t hear anything back after that, and when following up with the perspective employer and now they’re having a “hiring freeze” and won’t be filling the position.  \\n\\n\\nSo, in Texas, when is a schedule II drug no longer considered valid?  \\n\\nTL;DR\\nDoctor said my prescription was too old and I must be getting amphetamines from an illegal source.'),\n",
       " HumanMessage(content='Tip: Make sure to answer in the correct tone')]"
      ]
     },
     "execution_count": 13,
     "metadata": {},
     "output_type": "execute_result"
    }
   ],
   "source": [
    "prompt.format_messages(input=test_query)"
   ]
  },
  {
   "cell_type": "code",
   "execution_count": 18,
   "metadata": {},
   "outputs": [],
   "source": [
    "test_res = test_llm.predict_messages(prompt.format_messages(input=test_query))"
   ]
  },
  {
   "cell_type": "code",
   "execution_count": 23,
   "metadata": {},
   "outputs": [
    {
     "data": {
      "text/plain": [
       "AIMessage(content='According to the information provided, the individual applied for a job and successfully went through the interview process. They were given an offer letter and had a set start date pending the completion of a drug test. The individual prepared for the drug test by bringing their prescription medications, specifically Adderall. Their doctor prescribed them three pills per day, but their insurance only covered two pills per day. They mentioned that they do not take Adderall every day and that their psychiatrist is aware and approves of this usage pattern. The individual had a drug test the day after taking Adderall, but the doctor administering the test claimed that their prescription was too old. The individual provided the date of their prescription fill, which was July 8th, 2019, and mentioned that they still had a third of a bottle remaining. The doctor refused to inspect the prescription bottle and demanded access to the individual\\'s medical records. The individual\\'s doctors complied, but the situation caused a delay in their start date for the job. Despite attempts to explain their prescription usage, the doctor did not listen. The individual\\'s psychiatrist sent another letter providing further details, but they did not receive any response. When following up with the prospective employer, they were informed of a \"hiring freeze\" and that the position would not be filled.\\n\\nIn the state of Texas, it is unclear from the provided information when a schedule II drug, such as Adderall, is considered no longer valid.')"
      ]
     },
     "execution_count": 23,
     "metadata": {},
     "output_type": "execute_result"
    }
   ],
   "source": [
    "test_res"
   ]
  }
 ],
 "metadata": {
  "kernelspec": {
   "display_name": ".venv",
   "language": "python",
   "name": "python3"
  },
  "language_info": {
   "codemirror_mode": {
    "name": "ipython",
    "version": 3
   },
   "file_extension": ".py",
   "mimetype": "text/x-python",
   "name": "python",
   "nbconvert_exporter": "python",
   "pygments_lexer": "ipython3",
   "version": "3.10.13"
  }
 },
 "nbformat": 4,
 "nbformat_minor": 2
}
