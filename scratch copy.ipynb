{
 "cells": [
  {
   "cell_type": "code",
   "execution_count": 103,
   "metadata": {},
   "outputs": [],
   "source": [
    "import os\n",
    "from tqdm import tqdm\n",
    "import re\n",
    "import pandas as pd\n",
    "import numpy as np\n",
    "from pandas import json_normalize\n",
    "import time\n",
    "import asyncio\n",
    "from dotenv import load_dotenv\n",
    "load_dotenv()\n",
    "import openai\n",
    "from langchain.chat_models import ChatOpenAI\n",
    "from langchain.prompts import ChatPromptTemplate\n",
    "from langchain.schema import StrOutputParser, Document\n",
    "from langchain.schema.runnable import RunnablePassthrough\n",
    "from langchain.embeddings import OpenAIEmbeddings\n",
    "from langchain.prompts import PromptTemplate, ChatPromptTemplate\n",
    "from langchain.chains import LLMChain\n",
    "from langchain.chains.openai_functions import create_structured_output_runnable\n",
    "from langchain.output_parsers import PydanticOutputParser\n",
    "\n",
    "from pydantic import BaseModel, Field\n",
    "from typing import List, Optional, Sequence, Literal, Tuple\n",
    "\n",
    "from IPython.display import Markdown, display\n",
    "import warnings\n",
    "warnings.filterwarnings('ignore')\n",
    "pd.set_option('display.max_columns', None)"
   ]
  },
  {
   "cell_type": "code",
   "execution_count": 2,
   "metadata": {},
   "outputs": [],
   "source": [
    "from src.utils.utils import dataframe_to_lc_documents, lc_documents_to_dataframe\n",
    "from src.utils.pydantic_utils import flatten_pydantic_instance\n",
    "from src.tools.cross_encoder_rerank import rerank_with_cross_encoder\n",
    "\n",
    "from src.parsing.utils import (\n",
    "    extract_numbered_segments,\n",
    "    clean_whitespace,\n",
    "    split_paragraphs,\n",
    "    number_segments, \n",
    "    get_specs,\n",
    "    )\n",
    "\n",
    "from src.tools.relevance_extractor import extract_relevant_passages\n",
    "from src.tools.subquestion_generator import generate_subquestions\n",
    "from src.tools.semantic_search import SemanticSearch\n",
    "from src.parsing.search import eliminate_near_duplicates_df\n",
    "from src.utils.pydantic_utils import OpenAISchema\n",
    "from src.tools.splade_search import SpladeSearch"
   ]
  },
  {
   "cell_type": "code",
   "execution_count": 152,
   "metadata": {},
   "outputs": [],
   "source": [
    "df = pd.read_parquet(\"data/reddit_legal_cluster_splade.parquet\")"
   ]
  },
  {
   "cell_type": "code",
   "execution_count": 153,
   "metadata": {},
   "outputs": [
    {
     "name": "stdout",
     "output_type": "stream",
     "text": [
      "I applied for a job and after two interviews I was given for and agreed to an offer letter, had a start date.  The only remaining variable was a drug test, which I prepared myself for by bringing all my prescriptions with me.  \n",
      "\n",
      "I take Adderall, my doctor prescribes me for 3 pills a day, insurance pays for only two a day so that’s what I get.  2 pills a day for 30 days.  \n",
      "\n",
      "However, I don’t need adderall everyday, so I only take it as needed.  My psychiatrist knows this and is okay with it.  I don’t take it everyday so my prescription can last me months, depending on circumstances.  \n",
      "\n",
      "Of course, I happen to take a drug test for a possible new job the day after taking an adderall at work.  No big deal, I have a prescription and it’s never been a big deal in the past.  \n",
      "\n",
      "Except this time it was.  According to the doctor who administrated the test, my prescription was too old.  How old was it, I was prescribed in June and filled the prescription on July 8th, 2019.  I still have about a third of a bottle, I take adderall twice a week on average.  This doctor flipped out.  Not only did she refuse to inspect my prescription bottle when I talked to her in person, she demanded my medical records for all the prescriptions I take.  \n",
      "\n",
      "Both of my doctors complied and when I talked to her on the phone to follow up, her exact words were “You’re prescription is too old, where are you getting it from.”  This pushed back my start date from a definite start to “wait and see” as I was still having my doctors trying to appease the drug test doctor.  \n",
      "\n",
      "I politely tried to explain that I don’t take my adderall everyday because I don’t need to and she would no listen.  So once again, I had my psychiatrist send another letter explaining in more detail.  \n",
      "I didn’t hear anything back after that, and when following up with the perspective employer and now they’re having a “hiring freeze” and won’t be filling the position.  \n",
      "\n",
      "\n",
      "So, in Texas, when is a schedule II drug no longer considered valid?  \n",
      "\n",
      "TL;DR\n",
      "Doctor said my prescription was too old and I must be getting amphetamines from an illegal source.\n"
     ]
    }
   ],
   "source": [
    "test_query = df['body'].head(1).tolist()[0]\n",
    "print(test_query)"
   ]
  },
  {
   "cell_type": "code",
   "execution_count": 6,
   "metadata": {},
   "outputs": [],
   "source": [
    "class LegalIssue(BaseModel):\n",
    "    \"\"\"Identifying information about a legal issue.\"\"\"\n",
    "    topic: str = Field(..., description=\"A concise topic title for the legal issue\")\n",
    "    summary: Optional[str] = Field(None, description=\"A summary of key points\")\n",
    "\n",
    "class LegalIssues(BaseModel):\n",
    "    \"\"\"Identifying information in a text.\"\"\"\n",
    "    issues: Sequence[LegalIssue] = Field(..., description=\"The information of interest in the text\")\n",
    "\n",
    "\n",
    "async def extract_legal_issues(df: pd.DataFrame, content: str = 'body', metadata: List[str] = None, model_name: str = \"gpt-4-1106-preview\") -> pd.DataFrame:\n",
    "    \"\"\"\n",
    "    Extracts structured data 'legal issues' from text using a language model.\n",
    "\n",
    "    Args:\n",
    "    df (pd.DataFrame): The dataframe to extract legal issues from.\n",
    "    content (str): The column containing the text content.\n",
    "    metadata (list): List of columns to use for metadata.\n",
    "    model_name (str, optional): The name of the language model to use. Defaults to \"gpt-4-1106-preview\".\n",
    "\n",
    "    Returns:\n",
    "    pd.DataFrame: A dataframe containing the extracted legal issues.\n",
    "    \"\"\"\n",
    "    # Check if 'index' column exists in the dataframe, if not, create one based on the actual index\n",
    "    if 'index' not in df.columns:\n",
    "        df['index'] = df.index\n",
    "\n",
    "    lc_docs = dataframe_to_lc_documents(df=df, content=content, id_col=\"index\", metadata=metadata)\n",
    "\n",
    "    llm = ChatOpenAI(model=model_name, temperature=0.0)\n",
    "\n",
    "    prompt = ChatPromptTemplate.from_messages(\n",
    "        [\n",
    "            (\n",
    "                \"system\",\n",
    "                \"You are a world class algorithm for extracting information in structured formats.\",\n",
    "            ),\n",
    "            (\n",
    "                \"human\",\n",
    "                \"Use the given format to extract information from the following input: {input}\",\n",
    "            ),\n",
    "            (\n",
    "                \"human\", \"Tip: Make sure to answer in the correct format\"),\n",
    "        ]\n",
    "    )\n",
    "\n",
    "    runnable = create_structured_output_runnable(LegalIssues, llm, prompt)\n",
    "\n",
    "    results = []\n",
    "    for doc in lc_docs:\n",
    "        res_doc = await runnable.ainvoke({\"input\": doc})\n",
    "        res_doc_flat = flatten_pydantic_instance(res_doc, \"\")\n",
    "        df = pd.DataFrame(res_doc_flat['issues'])\n",
    "        df['id_'] = doc.metadata['id_']\n",
    "        results.append(df)\n",
    "\n",
    "    return pd.concat(results, ignore_index=True)"
   ]
  },
  {
   "cell_type": "code",
   "execution_count": 7,
   "metadata": {},
   "outputs": [],
   "source": [
    "df_sample = df.sample(5)"
   ]
  },
  {
   "cell_type": "code",
   "execution_count": 8,
   "metadata": {},
   "outputs": [],
   "source": [
    "test_res = await extract_legal_issues(df_sample, model_name='gpt-3.5-turbo')"
   ]
  },
  {
   "cell_type": "code",
   "execution_count": 9,
   "metadata": {},
   "outputs": [
    {
     "name": "stdout",
     "output_type": "stream",
     "text": [
      "Shape of df: (17, 3)\n"
     ]
    },
    {
     "data": {
      "text/markdown": [
       "| topic                       | summary                                                                                                                                                                                                                                                    |   id_ |\n",
       "|:----------------------------|:-----------------------------------------------------------------------------------------------------------------------------------------------------------------------------------------------------------------------------------------------------------|------:|\n",
       "| Incident Description        | The user describes a physical altercation between themselves and their girlfriend, as well as a subsequent incident involving a friend of the girlfriend who threatened and physically assaulted the user.                                                 |  5015 |\n",
       "| Evidence                    | The user mentions having proof of the friend's threats and the girlfriend as a witness to the recent incident.                                                                                                                                             |  5015 |\n",
       "| Concern                     | The user is unsure if reporting the incident to the Sonic restaurant where the friend works will result in her being fired.                                                                                                                                |  5015 |\n",
       "| Background                  | The user provides background information about their parents' divorce, custody arrangements, and disputes.                                                                                                                                                 |  4275 |\n",
       "| Father's Situation          | The user explains that their father got injured on the job and now has a lower-paying job. He believes that child support should be proportional to his wage.                                                                                              |  4275 |\n",
       "| Mother's Response           | The user mentions that their mother disagrees with the father's request for proportional child support and encourages him to take up a second job. The mother also does not punish the user's brother for his trouble with the law and academic struggles. |  4275 |\n",
       "| Letter from Mother's Lawyer | The user's father received a letter from the mother's lawyer, which contains requests to change the parenting plan. The user's father wants the user to prepare a counterclaim.                                                                            |  4275 |\n",
       "| User's Concerns             | The user is unsure if they should get involved in the counterclaim and asks for guidance on the format to use.                                                                                                                                             |  4275 |\n",
       "| Inheritance                 | Deceased father left inheritance to his kids. Mother-in-law wants kids to sign money over to her to pay off creditors.                                                                                                                                     |  5466 |\n",
       "| Disputes                    | One relative believes they are entitled to their portion of the inheritance before debts are paid off. Question about legal costs and costs for the disputing relative.                                                                                    |  5466 |"
      ],
      "text/plain": [
       "<IPython.core.display.Markdown object>"
      ]
     },
     "execution_count": 9,
     "metadata": {},
     "output_type": "execute_result"
    }
   ],
   "source": [
    "print(f\"Shape of df: {test_res.shape}\")\n",
    "Markdown(f\"{test_res.head(10).to_markdown(index=False)}\")"
   ]
  },
  {
   "cell_type": "code",
   "execution_count": 10,
   "metadata": {},
   "outputs": [],
   "source": [
    "lc_docs = dataframe_to_lc_documents(df=test_res, content='summary', id_col='id_', metadata=['topic'])"
   ]
  },
  {
   "cell_type": "code",
   "execution_count": 11,
   "metadata": {},
   "outputs": [],
   "source": [
    "reranked = rerank_with_cross_encoder(test_query, lc_docs, 10)"
   ]
  },
  {
   "cell_type": "code",
   "execution_count": 12,
   "metadata": {},
   "outputs": [],
   "source": [
    "reranked_df = lc_documents_to_dataframe(reranked, 'id_')"
   ]
  },
  {
   "cell_type": "code",
   "execution_count": 13,
   "metadata": {},
   "outputs": [
    {
     "name": "stdout",
     "output_type": "stream",
     "text": [
      "Shape of df: (10, 3)\n"
     ]
    },
    {
     "data": {
      "text/markdown": [
       "| topic                                        |   id_ | content                                                                                                                                                                                                                                                    |\n",
       "|:---------------------------------------------|------:|:-----------------------------------------------------------------------------------------------------------------------------------------------------------------------------------------------------------------------------------------------------------|\n",
       "| Letter from Mother's Lawyer                  |  4275 | The user's father received a letter from the mother's lawyer, which contains requests to change the parenting plan. The user's father wants the user to prepare a counterclaim.                                                                            |\n",
       "| Disputes                                     |  5466 | One relative believes they are entitled to their portion of the inheritance before debts are paid off. Question about legal costs and costs for the disputing relative.                                                                                    |\n",
       "| Mother's Response                            |  4275 | The user mentions that their mother disagrees with the father's request for proportional child support and encourages him to take up a second job. The mother also does not punish the user's brother for his trouble with the law and academic struggles. |\n",
       "| Concerns about being mistaken as a pedophile |   620 | The user is worried that their actions may make them look like a pedophile and result in arrest.                                                                                                                                                           |\n",
       "| Engaging with pedophiles                     |   620 | The user has been pretending to be a pedophile and wasting their time.                                                                                                                                                                                     |\n",
       "| Incident Description                         |  5015 | The user describes a physical altercation between themselves and their girlfriend, as well as a subsequent incident involving a friend of the girlfriend who threatened and physically assaulted the user.                                                 |\n",
       "| Request for advice                           |   620 | The user is seeking advice on how to handle the situation and their inability to sleep.                                                                                                                                                                    |\n",
       "| Inheritance                                  |  5466 | Deceased father left inheritance to his kids. Mother-in-law wants kids to sign money over to her to pay off creditors.                                                                                                                                     |\n",
       "| Concern                                      |  5015 | The user is unsure if reporting the incident to the Sonic restaurant where the friend works will result in her being fired.                                                                                                                                |\n",
       "| Pedophile ring on Omegle                     |   620 | There is an undercover pedophile ring on Omegle.                                                                                                                                                                                                           |"
      ],
      "text/plain": [
       "<IPython.core.display.Markdown object>"
      ]
     },
     "execution_count": 13,
     "metadata": {},
     "output_type": "execute_result"
    }
   ],
   "source": [
    "print(f\"Shape of df: {reranked_df.shape}\")\n",
    "Markdown(f\"{reranked_df.to_markdown(index=False)}\")"
   ]
  },
  {
   "cell_type": "code",
   "execution_count": 14,
   "metadata": {},
   "outputs": [
    {
     "name": "stdout",
     "output_type": "stream",
     "text": [
      "<#1#> I applied for a job and after two interviews I was given for and agreed to an offer letter, had a start date.  The only remaining variable was a drug test, which I prepared myself for by bringing all my prescriptions with me.  \n",
      "\n",
      "  <#2#> I take Adderall, my doctor prescribes me for 3 pills a day, insurance pays for only two a day so that’s what I get.  2 pills a day for 30 days.  \n",
      "\n",
      "  <#3#> However, I don’t need adderall everyday, so I only take it as needed.  My psychiatrist knows this and is okay with it. <#4#> I don’t take it everyday so my prescription can last me months, depending on circumstances.  \n",
      "\n",
      "   Of course, I happen to take a drug test for a possible new job the day after taking an adderall at work. <#5#> No big deal, I have a prescription and it’s never been a big deal in the past.  \n",
      "\n",
      "   Except this time it was. <#6#> According to the doctor who administrated the test, my prescription was too old.  How old was it, I was prescribed in June and filled the prescription on July 8th, 2019. <#7#> I still have about a third of a bottle, I take adderall twice a week on average.  This doctor flipped out. <#8#> Not only did she refuse to inspect my prescription bottle when I talked to her in person, she demanded my medical records for all the prescriptions I take.  \n",
      "\n",
      "   Both of my doctors complied and when I talked to her on the phone to follow up, her exact words were “You’re prescription is too old, where are you getting it from.” This pushed back my start date from a definite start to “wait and see” as I was still having my doctors trying to appease the drug test doctor.  \n",
      "\n",
      "  <#9#> I politely tried to explain that I don’t take my adderall everyday because I don’t need to and she would no listen.  So once again, I had my psychiatrist send another letter explaining in more detail. <#10#> I didn’t hear anything back after that, and when following up with the perspective employer and now they’re having a “hiring freeze” and won’t be filling the position.  \n",
      "\n",
      "   So, in Texas, when is a schedule II drug no longer considered valid?  \n",
      "\n",
      "  <#11#> TL;DR Doctor said my prescription was too old and I must be getting amphetamines from an illegal source.\n"
     ]
    }
   ],
   "source": [
    "test_query_clean = clean_whitespace(test_query)\n",
    "numbered_passage = number_segments(test_query_clean, 2)\n",
    "print(numbered_passage)"
   ]
  },
  {
   "cell_type": "code",
   "execution_count": 15,
   "metadata": {},
   "outputs": [],
   "source": [
    "query = \"Tell me about the user's doctor.\"\n",
    "\n",
    "res = extract_relevant_passages(query, test_query, 2)"
   ]
  },
  {
   "cell_type": "code",
   "execution_count": 16,
   "metadata": {},
   "outputs": [
    {
     "name": "stdout",
     "output_type": "stream",
     "text": [
      "I take Adderall, my doctor prescribes me for 3 pills a day, insurance pays for only two a day so that’s what I get.  2 pills a day for 30 days.\n",
      "\n",
      "However, I don’t need adderall everyday, so I only take it as needed.  My psychiatrist knows this and is okay with it.  I don’t take it everyday so my prescription can last me months, depending on circumstances.\n",
      "\n",
      "I still have about a third of a bottle, I take adderall twice a week on average.  This doctor flipped out. \n",
      "\n",
      "I politely tried to explain that I don’t take my adderall everyday because I don’t need to and she would no listen.  So once again, I had my psychiatrist send another letter explaining in more detail. \n"
     ]
    }
   ],
   "source": [
    "print(res)"
   ]
  },
  {
   "cell_type": "code",
   "execution_count": 17,
   "metadata": {},
   "outputs": [],
   "source": [
    "subquestions = generate_subquestions(test_query, \"2 to 3\")"
   ]
  },
  {
   "cell_type": "code",
   "execution_count": 18,
   "metadata": {},
   "outputs": [
    {
     "data": {
      "text/plain": [
       "['What are the rules for prescription drug validity in Texas?',\n",
       " 'How long is a Schedule II drug prescription valid in Texas?',\n",
       " 'What are the consequences of having an expired prescription for a Schedule II drug in Texas?']"
      ]
     },
     "execution_count": 18,
     "metadata": {},
     "output_type": "execute_result"
    }
   ],
   "source": [
    "subquestions"
   ]
  },
  {
   "cell_type": "code",
   "execution_count": 154,
   "metadata": {},
   "outputs": [],
   "source": [
    "semantic_search = SemanticSearch(df, 'embeddings')\n",
    "splade_search = SpladeSearch(df, 'body', 'splade_embeddings')"
   ]
  },
  {
   "cell_type": "code",
   "execution_count": 155,
   "metadata": {},
   "outputs": [],
   "source": [
    "top_k = []\n",
    "\n",
    "for i in range(len(subquestions)):\n",
    "    dense_res = semantic_search.query_similar_documents(subquestions[i], 5, filter_criteria=None)\n",
    "    top_k.append(dense_res)\n",
    "    sparce_res = splade_search.splade_search_df(subquestions[i], 5, filter_criteria=None)\n",
    "    top_k.append(sparce_res)\n",
    "    \n",
    "top_k_df = pd.concat(top_k, ignore_index=True)"
   ]
  },
  {
   "cell_type": "code",
   "execution_count": 156,
   "metadata": {},
   "outputs": [
    {
     "name": "stdout",
     "output_type": "stream",
     "text": [
      "shape: (30, 17)\n"
     ]
    },
    {
     "data": {
      "text/html": [
       "<div>\n",
       "<style scoped>\n",
       "    .dataframe tbody tr th:only-of-type {\n",
       "        vertical-align: middle;\n",
       "    }\n",
       "\n",
       "    .dataframe tbody tr th {\n",
       "        vertical-align: top;\n",
       "    }\n",
       "\n",
       "    .dataframe thead th {\n",
       "        text-align: right;\n",
       "    }\n",
       "</style>\n",
       "<table border=\"1\" class=\"dataframe\">\n",
       "  <thead>\n",
       "    <tr style=\"text-align: right;\">\n",
       "      <th></th>\n",
       "      <th>index</th>\n",
       "      <th>created_utc</th>\n",
       "      <th>full_link</th>\n",
       "      <th>id</th>\n",
       "      <th>body</th>\n",
       "      <th>title</th>\n",
       "      <th>text_label</th>\n",
       "      <th>flair_label</th>\n",
       "      <th>embeddings</th>\n",
       "      <th>token_count</th>\n",
       "      <th>llm_title</th>\n",
       "      <th>State</th>\n",
       "      <th>kmeans_label</th>\n",
       "      <th>topic_title</th>\n",
       "      <th>splade_embeddings</th>\n",
       "      <th>sim_score</th>\n",
       "      <th>sim_score_sparce</th>\n",
       "    </tr>\n",
       "  </thead>\n",
       "  <tbody>\n",
       "    <tr>\n",
       "      <th>0</th>\n",
       "      <td>1078</td>\n",
       "      <td>1575952538</td>\n",
       "      <td>https://www.reddit.com/r/legaladvice/comments/...</td>\n",
       "      <td>e8lsen</td>\n",
       "      <td>I applied for a job and after two interviews I...</td>\n",
       "      <td>Failed a drug test due to amphetamines, I have...</td>\n",
       "      <td>employment</td>\n",
       "      <td>5</td>\n",
       "      <td>[9.475638042064453e-05, 0.0005111666301983955,...</td>\n",
       "      <td>493</td>\n",
       "      <td>\"Validity of Schedule II Drug Prescription in ...</td>\n",
       "      <td>PR</td>\n",
       "      <td>8</td>\n",
       "      <td>Employment Legal Concerns and Issues</td>\n",
       "      <td>[0.0, 0.0, 0.0, 0.0, 0.0, 0.0, 0.0, 0.0, 0.0, ...</td>\n",
       "      <td>0.655581</td>\n",
       "      <td>99.703110</td>\n",
       "    </tr>\n",
       "    <tr>\n",
       "      <th>1</th>\n",
       "      <td>9156</td>\n",
       "      <td>1473870804</td>\n",
       "      <td>https://www.reddit.com/r/legaladvice/comments/...</td>\n",
       "      <td>52rcpe</td>\n",
       "      <td>I'm a Freshman adult, former Texan resident an...</td>\n",
       "      <td>(TN) I'm apparently a POI at my new Uni. Shoul...</td>\n",
       "      <td>criminal</td>\n",
       "      <td>2</td>\n",
       "      <td>[0.01599887962418506, 0.010982281649642614, 0....</td>\n",
       "      <td>546</td>\n",
       "      <td>\"Legal advice needed: Accused of selling Xanax...</td>\n",
       "      <td>MT</td>\n",
       "      <td>9</td>\n",
       "      <td>Legal Consequences of False Accusations</td>\n",
       "      <td>[0.0, 0.0, 0.0, 0.0, 0.0, 0.0, 0.0, 0.0, 0.0, ...</td>\n",
       "      <td>0.610313</td>\n",
       "      <td>20.996323</td>\n",
       "    </tr>\n",
       "  </tbody>\n",
       "</table>\n",
       "</div>"
      ],
      "text/plain": [
       "   index  created_utc                                          full_link  \\\n",
       "0   1078   1575952538  https://www.reddit.com/r/legaladvice/comments/...   \n",
       "1   9156   1473870804  https://www.reddit.com/r/legaladvice/comments/...   \n",
       "\n",
       "       id                                               body  \\\n",
       "0  e8lsen  I applied for a job and after two interviews I...   \n",
       "1  52rcpe  I'm a Freshman adult, former Texan resident an...   \n",
       "\n",
       "                                               title  text_label  flair_label  \\\n",
       "0  Failed a drug test due to amphetamines, I have...  employment            5   \n",
       "1  (TN) I'm apparently a POI at my new Uni. Shoul...    criminal            2   \n",
       "\n",
       "                                          embeddings  token_count  \\\n",
       "0  [9.475638042064453e-05, 0.0005111666301983955,...          493   \n",
       "1  [0.01599887962418506, 0.010982281649642614, 0....          546   \n",
       "\n",
       "                                           llm_title State  kmeans_label  \\\n",
       "0  \"Validity of Schedule II Drug Prescription in ...    PR             8   \n",
       "1  \"Legal advice needed: Accused of selling Xanax...    MT             9   \n",
       "\n",
       "                               topic_title  \\\n",
       "0     Employment Legal Concerns and Issues   \n",
       "1  Legal Consequences of False Accusations   \n",
       "\n",
       "                                   splade_embeddings  sim_score  \\\n",
       "0  [0.0, 0.0, 0.0, 0.0, 0.0, 0.0, 0.0, 0.0, 0.0, ...   0.655581   \n",
       "1  [0.0, 0.0, 0.0, 0.0, 0.0, 0.0, 0.0, 0.0, 0.0, ...   0.610313   \n",
       "\n",
       "   sim_score_sparce  \n",
       "0         99.703110  \n",
       "1         20.996323  "
      ]
     },
     "execution_count": 156,
     "metadata": {},
     "output_type": "execute_result"
    }
   ],
   "source": [
    "print(f\"shape: {top_k_df.shape}\")\n",
    "top_k_df.head(2)"
   ]
  },
  {
   "cell_type": "code",
   "execution_count": 157,
   "metadata": {},
   "outputs": [
    {
     "data": {
      "text/plain": [
       "(30, 18)"
      ]
     },
     "execution_count": 157,
     "metadata": {},
     "output_type": "execute_result"
    }
   ],
   "source": [
    "top_k_df_dedupe = eliminate_near_duplicates_df(top_k_df, 'body')\n",
    "len(top_k_df), len(top_k_df_dedupe)"
   ]
  },
  {
   "cell_type": "code",
   "execution_count": 158,
   "metadata": {},
   "outputs": [],
   "source": [
    "lc_docs = dataframe_to_lc_documents(top_k_df_dedupe, content='body', id_col='index', metadata=['text_label', 'State'])"
   ]
  },
  {
   "cell_type": "code",
   "execution_count": 159,
   "metadata": {},
   "outputs": [
    {
     "data": {
      "text/plain": [
       "18"
      ]
     },
     "execution_count": 159,
     "metadata": {},
     "output_type": "execute_result"
    }
   ],
   "source": [
    "len(lc_docs)"
   ]
  },
  {
   "cell_type": "code",
   "execution_count": 162,
   "metadata": {},
   "outputs": [],
   "source": [
    "def get_documents_by_ids(ids: List[str], docs: List[Document]) -> List[Document]:\n",
    "    \"\"\"\n",
    "    Given a list of ids, return the corresponding Document objects.\n",
    "\n",
    "    Args:\n",
    "        ids (List[str]): List of document ids.\n",
    "        docs (List[Document]): List of Document objects.\n",
    "\n",
    "    Returns:\n",
    "        List[Document]: List of Document objects corresponding to the ids.\n",
    "    \"\"\"\n",
    "    ids = [int(id_) for id_ in ids] \n",
    "    return [doc for doc in docs if doc.metadata['id_'] in ids]\n",
    "\n",
    "\n",
    "def llm_select_relevant_docs(\n",
    "    query: str, docs: List[Document], n_matches: int,\n",
    ") -> List[Document]:\n",
    "    \"\"\"\n",
    "    Given a query and a list of docs, select the docs whose contents match best,\n",
    "        according to the LLM. Use the doc IDs to select the docs.\n",
    "\n",
    "    Args:\n",
    "        query: query string\n",
    "        docs: list of Document objects\n",
    "        n_matches: maximum number of matches to return\n",
    "\n",
    "    Returns:\n",
    "        list of Document objects\n",
    "    \"\"\"\n",
    "    doc_contents = \"\\n\\n\".join(\n",
    "        [f\"DOC: ID={d.metadata['id_']}, CONTENT: {d.page_content}\" for d in docs]\n",
    "    )\n",
    "    prompt = f\"\"\"\n",
    "    Given the following QUERY: \n",
    "    {query}\n",
    "    and the following DOCS with IDs and contents\n",
    "    {doc_contents}\n",
    "    \n",
    "    Find at most {n_matches} DOCs that are most relevant to the QUERY.\n",
    "    Return your answer as a sequence of DOC IDS ONLY, for example: \n",
    "    \"id1 id2 id3...\"\n",
    "    If there are no relevant docs, simply say NONE.\n",
    "    Even if there is only one relevant doc, return it as a single ID.\n",
    "    Do not give any explanations or justifications.\n",
    "    \"\"\"\n",
    "\n",
    "    response = openai.ChatCompletion.create(\n",
    "        model=\"gpt-4\",\n",
    "        messages=[\n",
    "            {\"role\": \"system\", \"content\": \"You are a helpful research assistant helping find relevant documents.\"},\n",
    "            {\"role\": \"user\", \"content\": prompt},        \n",
    "        ],\n",
    "    )\n",
    "    \n",
    "    default_response = Document(page_content=\"NO_ANSWER\")\n",
    "    \n",
    "    if response['choices'][0]['message'].content == 'NONE':\n",
    "        return [default_response]\n",
    "\n",
    "    ids = response['choices'][0]['message'].content.split()\n",
    "    \n",
    "    # Get the documents by ids\n",
    "    relevant_docs = get_documents_by_ids(ids, docs)\n",
    "    \n",
    "    # Add new metadata item\n",
    "    for doc in relevant_docs:\n",
    "        doc.metadata['source'] = 'LLM'\n",
    "    \n",
    "    return relevant_docs"
   ]
  },
  {
   "cell_type": "code",
   "execution_count": 160,
   "metadata": {},
   "outputs": [
    {
     "data": {
      "text/plain": [
       "[Document(page_content='In the 1990s as e-commerce finally started to get going, one of the first things Americans did was buy drugs from Canadian pharmacies. \\n\\nAmerican drug companies like to say they spend the money on R&amp;D and the rest of the world benefits from the drugs at a lower cost while they\\'re forced to charge Americans more to recover their investment. But this makes no sense.  Drugs are developed worldwide, and even the ones developed in the US often undergo heavily government subsidised or even wholly funded research. And why would they sell those drugs to other countries below cost and only recoup those costs in the US? That would be bad business. \\n\\nFor all the boom and clang about a free market, US drug companies want to be able to charge whatever they can for life saving drugs because if you\\'ll die without it you\\'ll pay whatever it takes, right?\\n\\nSo they lobbied the government to put a stop to these cheap drugs coming in from Canada and in 2003 the US federal government passed the Food, Drug and Cosmetics Act.\\n\\nThis act prohibits the \"introduction or delivery for introduction into interstate commerce of any food, drug, device, tobacco product, or cosmetic that is adulterated or misbranded.\" Any Canadian prescriptions sold to Americans are considered \"misbranded\" because they\\'re labelled as approved by Health Canada instead of the FDA, even if they\\'re FDA approved. In many cases it\\'s the identical drug made in the same factory, but with different labels for different markets. \\n\\nSo now a brand of insulin that sells for $32 for a 1 month supply in Canada retails for $300 for an equivalent supply in the US.\\n\\nIf, however, an American drives up to Canada and buys non-prescription items like insulin or epi-pens, they can buy up to a 3 month supply and take it back with them into the US. Technically they\\'re still violating the act but CBP takes the attitude that personal use isn\\'t \"introduction into interstate commerce\". \\n\\nBut the folks in customs that monitor the post office don\\'t seem to agree, and Americans who can\\'t drive up to Canada are SOL. It\\'s still illegal to order those drugs online and have them shipped to the US from Canada because the receiver paid for them, so interstate commerce. \\n\\nSo now I come to my question: if someone were to GIVE them the insulin, it\\'s not understate commerce is it?\\n\\nI don\\'t mean a straw purchase where, say, they buy a crummy drawing of a cat for $32 plus shipping and receive \"free\" insulin normally purchased for that amount. \\n\\nI mean someone in Canada buys insulin and ships it to an American who needs it, absolutely free of charge. Not a cent paid by the American, not even postage.\\n\\nWould that still be considered a violation and the insulin seized, or does it satisfy the act because it isn\\'t commerce?', metadata={'text_label': 'business', 'State': 'NJ', 'id_': 6407}),\n",
       " Document(page_content='Quick question: I know of a couple in a divorce proceeding, with custody of their two children at issue. The man is claiming that the woman is unfit to parent. He has obtained through his insurance company records of the medications she has had filled in her name at various pharmacies. Is that lawful? Is HIPAA relevant? No clue if the insurance company has a policy wherein the insured spouse/dependents of the primary insured party must agree to release mental health and medical information to the primary insured party. Is that a thing?  Thanks.', metadata={'text_label': 'family', 'State': 'ME', 'id_': 5898}),\n",
       " Document(page_content='I purchased a new vehicle here in Texas and have recently gone to pick up my plates from the dealership. They installed the plates for me and gave me the envelope with my registration paper and sticker inside.\\n\\n**My question is, what kind of trouble can I get into for not displaying my registration sticker on my windshield?**\\n\\nI know that, for instance, if you get pulled over and don\\'t have *proof of insurance* on you, it\\'s just a matter of showing documents proving that you were insured at the time. *Would the same go for registration?*\\n\\nI figure that if I get pulled over for not having it, I could just be like, *\"Whoops! I must have forgotten to put it! It\\'s right here in my glove box, officer.\"* and go on my merry way. Advice?\\n\\n--------------------\\n\\n**edit:** Thanks for all the advice! After further digging, I found the following:\\n&gt;Sec. 502.473.  OPERATION OF VEHICLE WITHOUT REGISTRATION INSIGNIA.  (a)   A person commits an offense if the person operates on a public highway during a registration period a motor vehicle that does not properly display the registration insignia issued by the department that establishes that the license plates have been validated for the period.\\n\\n&gt;(b)  A person commits an offense if the person operates on a public highway during a registration period a road tractor, motorcycle, trailer, or semitrailer that does not display a registration insignia issued by the department that establishes that the vehicle is registered for the period.\\n\\n&gt;(c)  This section does not apply to a dealer operating a vehicle as provided by law.\\n\\n&gt;(d)  A court may dismiss a charge brought under Subsection (a) if the defendant pays an administrative fee not to exceed $10 and:\\n\\n&gt;(1)  remedies the defect before the defendant\\'s first court appearance; or\\n\\n&gt;(2)  shows that  the motor vehicle was issued a registration insignia by the department that was attached to the motor vehicle, establishing that the vehicle was registered for the period during which the offense was committed.\\n\\nBasically, it seems to be the same principle that I stated with the *proof of insurance* situation above. As long as you prove that the vehicle was, in fact, registered at the time, the case will be dismissed. If the vehicle was *not* registered but is registered before the court appearance, at most, a $10 fee will be charged.\\n\\nThanks for all the advice, guys!', metadata={'text_label': 'driving', 'State': 'MI', 'id_': 3601}),\n",
       " Document(page_content=\"I'm a 15 year old in Texas who applied to a remote app developer internship that will be less than 40 hours a week. With my 16th birthday being 1-2 months away, what are the legal restrictions of my ability to work at this unpaid internship? The interviewer called his lawyer and they recommended for me to get a work form (didn't specify name). What can I do to be able to work at this position for my age? Is there some work form I can fill out? (Parents give full permission). Or maybe some way I can bypass the 16 rule being so close? I really want this opportunity, but it is such a specific area that I can't find answers on the immediate internet.\", metadata={'text_label': 'employment', 'State': 'KY', 'id_': 5402}),\n",
       " Document(page_content=\"I currently rent a unit in Texas, and when I signed my lease in February I noticed that the lease clearly states that firearms are not allowed in the apartments. I didn't see this as a deal breaker considering I didn't own a firearm at the time (and still don't) and believed I was moving into a safe location.\\n\\nCome move in day mid August, I was hearing about shootings in the area, and before that, I even heard that a shootout occurred in the parking lot of the very complex I'm renting now just before moving in. It was at this time I regretted signing a lease at a location that didn't allow me to have a firearm for self defense just in case. The shootings seem to have stopped, but I often hear of break-ins and thefts that happen near the complex, and it's only making me worry more (I'm on the first floor, and the first unit you see when coming up to the building). Police presence has been incredibly high since moving in, and I learned this is because there are an unreal amount of crime going on under the surface that I didn't even know was happening, even though it's mainly just drug busts this unsettles me.\\n\\nBack to the original question, can a landlord in Texas really restrict your right to possess a firearm on the property you're renting?\", metadata={'text_label': 'housing', 'State': 'DC', 'id_': 1593}),\n",
       " Document(page_content='I have worked a 9-5 Mon-Fri schedule for 6 years. Due to COVID, my supervisor is putting us on alternating 12-hour shifts. I have recently begun a time-release medication for mental health that does not last 12 hours, and one of the side affects is that I am rendered unable to focus/complete work related tasks after this medication wears off. I was told that if I fill out FMLA paperwork to reflect this/have documented confirmation from my physician, I will be told to use my sick leave for the hours I can’t work. Is this legal? Are there any actions I can take regarding this?\\n\\nI live in South Carolina.', metadata={'text_label': 'employment', 'State': 'WA', 'id_': 6631}),\n",
       " Document(page_content=\"I've seen some guidelines (between 3 and 7 days) but besides DC I can't find a legal limit.\", metadata={'text_label': 'housing', 'State': 'FM', 'id_': 7876}),\n",
       " Document(page_content=\"From Colorado, got pulled over on the turnpike doing 78 (yeah), but had my hash pen in the car. Ticket is for speeding and simple possession (requiring an appearance). Original court date was Thursday the 25th, got a call on Wednesday the 24th telling me it was rescheduled for a week later. Realized (after it was too late because I am a dumbass) that it was rescheduled for today the 31st. Court is already closed. I was planning to reschedule because I am between jobs and cannot make it back out there right now. However, now I don't know what to do...\", metadata={'text_label': 'driving', 'State': 'VT', 'id_': 7821}),\n",
       " Document(page_content='Does Texas have a statute of limitations of child support? I’ve googled it and some sites say clearly NO, while other sites say yes, after 10 years from the date the obligation ended. How can different legal sites have completely contradictory information? What’s the truth?', metadata={'text_label': 'family', 'State': 'TN', 'id_': 3334}),\n",
       " Document(page_content='I work for a vacation rental company. I got called up the week before last after 5 weeks of being temporarily laid off and collecting unemployment for that long (3 total payments). I came back to work Thursday (5/7) and worked Thursday and Friday.\\n\\nI was the only one wearing a mask and did not notice any social distancing measures between employees. They *did* have me re-locate to a room upstairs as my normal workspace is in very close proximity to two other employees, but in general, I saw people all day talking face to face and not making any effort to distance themselves. \\n\\nI know Texas recently added an unemployment provision saying you can opt to not return to work and continue to collect unemployment if you’re sick, caring for someone who is sick, or caring for a child. I do have a 5 year old but my Wife only works 1 day a week and can take him to work, so she’s available for childcare. She will go back to a regular schedule in 2 weeks and my son will have to go to daycare.\\n\\nI feel like I don’t qualify for any of the special circumstances in regard to unemployment, but I don’t feel safe at work. Is there anything I can do?', metadata={'text_label': 'employment', 'State': 'AR', 'id_': 1599}),\n",
       " Document(page_content='I sent the time off request two weeks before she scheduled me. I was also not on the schedule but not officially on furlough for about a month until I asked for some details to apply for unemployment. I am in Texas. I don’t know what to do because it’s a family vacation that I can’t miss and I don’t know why she would be trying to get rid of me. Is there anything I can do I. Order to not get fired for not showing up or to make her give me time off? Thanks for any help!', metadata={'text_label': 'employment', 'State': 'NE', 'id_': 1432}),\n",
       " Document(page_content='I rent a property and last week we had a tree fall onto our power lines causing the weather head to be damaged and leading to ONCOR to disconnect our power.\\n\\nThe landlord sent out a repair company the next day  to come make repairs but they did the repairs before pulling the permits. It’s been a week and the company still says they are doing their best to pull the permit and get the inspector to come out.\\n\\nI read that in Texas landlords have 7 days to make repairs and that after 7 days it’s possible to sue for damages.\\n\\nWe’ve been staying in the house for the past 7 days with no electricity and all our food has already gone bad.\\n\\nwhat options do I have? I’d rather try to have action taken against the repair company since they did repairs without pulling the permit ahead of time.', metadata={'text_label': 'housing', 'State': 'GU', 'id_': 6242}),\n",
       " Document(page_content='So in my line of work (aircraft maintenance) we are required to have random drug testing per the DoT and FAA. Per the requirement we are notified only just before the test is to be conducted. Unfortunately our company has been saving money by scheduling the test after our shift, sometimes up to 2 hours after, since we work a graveyard shift. I have monthly doctors appointments and recently the random test came very close to interfering with an appointment that are very necessary and hard to reschedule. If I were to not show up to the drug test do attend my doctors appointments would the company have and grounds to terminate me? They say skipping a test is kin to testing positive, but they are also unnecessarily interfering with our personal lives here just to save money. I live in Ohio if that matters, but most of these regs are federal.', metadata={'text_label': 'employment', 'State': 'CA', 'id_': 3892}),\n",
       " Document(page_content=\"This is her first offense. She was driving on the opposite side the road on a two way street. The bus had a stop sign pulled up, but she failed to stop/realize she had to. She also didn't have her insurance card in her possession. She was handed two court summons. What possible penalties does she face? Will she be forced to do 15 days in jail, community service, or have points on her license? Advice and info is much appreciated. \", metadata={'text_label': 'driving', 'State': 'VI', 'id_': 8159}),\n",
       " Document(page_content='I got divorced in 2015. Uncontested, to save money for lawyers. My ex-husband (32m) is a giant mess. Per our divorce decree, our custody is split 50/50 so that neither of us had to pay child support. I did this to help his dad out, and keep my son in a great school district, but ended up screwing myself in the end. We did 50/50 to keep my boy in his dad\\'s life too. I don\\'t want him to be without his dad, because my son loves him.\\n\\nMy son\\'s father lost his job shortly after the divorce (failure to pass a drug test) then lost his house, then lost his car, then lost his girlfriend\\'s car, then lost the apartment they got together after the house was taken back by the bank... He hasn\\'t had a steady job since 2016 and has been unemployed and living with his grandma for about a year now. He gets money from VA Disability, as he is a Purple Heart Veteran with a traumatic brain injury amongst other issues.\\n(I will point out that I never had to work during the marriage because he made a very decent amount off of disability. That always covered our bills and then some. He lost his house and car because he bought drugs and alcohol and partied constantly.)\\n\\nI filed for divorce because he refused to go to rehab for a prescription drug addiction. \\n\\nHe also has police reports filed because he stalked a boyfriend I had after we divorced, and showed up one day on drugs to try and take my son before our judgement was finalized. \\nHe also has multiple active warrants out for his arrest due to unpaid court fines and failure to appear. Also caught with drugs during a traffic stop. He\\'s also driving his car without a license, in an unlicensed vehicle, with switched tags, that expired in 2018. \\n\\nI could go on and on. \\n\\n**I have no legal way to keep my son from going with his dad. Our legal document says 50/50 custody, so when he shows up to take my son, I legally cannot stop him.**\\n\\nI am physically scared for my son\\'s safety when he goes with his dad. They went to the lake last weekend, and my son can\\'t swim. I specially told his dad that he will be unable to go in the water without a life jacket, so he should pick one up somewhere. \\nMy son comes home to tell me that his cousin pushed him in the lake while no one was watching and his 10 year old cousin had to jump in and save him. His dad was back at the camp site.. \\n\\nHis dad also brought him home that day with his tennis shoes in hand, telling me they needed to be washed \"because he had an accident.\" My son has never, and I mean never, peed his pants. Come to find out, he left my son in his car and my son couldn\\'t get the door open and peed right there in the front seat out of fear. I don\\'t know how long he was in there, or where his dad was. (My son is very intelligent. His dad has a ratty junk jeep and I don\\'t think the passenger side door has a door handle, or they\\'re just too difficult to open. He very much knows how to open and lock/unlock a door.)\\n\\nTonight his dad showed up to get my son with a black eye, making me out to be the bad guy because I confronted him about the lake incident, and begged him not to let my boy go to the lake without a life jacket. \\n\\nI would really appreciate advice on how to file for full custody of my son. I have him 90% of the time, he\\'s registered in my school district and just finished kindergarten at the school with me. His dad went 20 days without so much as a phone call in March, and that\\'s a pretty common thing. He\\'s seen him more in the last two weeks than he has in four months (and he\\'s seen him 5 days over the last two weeks.)\\n\\nI just renewed my lease at a nice, safe apartment. I have a newer car, paid for on my own. I work a good, full-time job, and have been consistently employed since we got divorced. I cannot afford a good lawyer, but I am genuinely trying to prepare myself for my son to not come home to me, and that is NOT fucking okay. So, at this point, I think any lawyer is better than none. \\n\\nAny advice is so appreciated. \\n\\nTLDR; 50/50 custody of my son with his father who has no regard for my son\\'s safety. Need advice for custody battle.', metadata={'text_label': 'family', 'State': 'PR', 'id_': 2894}),\n",
       " Document(page_content='Houston Texas\\nThe DA put a protective order on me and my daughter against my husband but when I received the paperwork I noticed they accidentally wrote that it expires January 2014 instead of January 2015. Is it now completely void? I never wanted this order so I am hoping that it is void due to a clerical error so that my husband can come back home for the holidays. If it is still valid, is it possible for me as the \"victim\" to cancel the order? And if so, how do I do that?\\n', metadata={'text_label': 'criminal', 'State': 'PR', 'id_': 6630}),\n",
       " Document(page_content='Equipment finance LEASE (purchase) in TEXAS with pass-through “Supplier” warranty.\\n\\nIn an email prior to purchase, the manufacturer stated that the component in question is 10% of the total cost of the equipment.\\n\\nI ordered a unique piece of semi-customized equipment (comprising of 2 main) from a manufacturer who is also the lessor. For whatever reason, their parent company is the “Supplier” with regard’s the the warranty.\\n\\nThe limited warranty assigns the 2 components different length warranties on a “straight line amortization schedule”.\\n\\nThe agreement refers to the invoice# as equipment description. Invoice doesn’t itemize the components cost... is the email inadmissible  as extrinsic evidence?\\n\\nWHAT IF the warranty was honored as stated previously, but isn’t being honored now? Does that count as course of dealing or course of performance under UCC 2.202?', metadata={'text_label': 'business', 'State': 'SD', 'id_': 7501}),\n",
       " Document(page_content='I work for a small 501 (c) (3) in Texas. It has under ten employees, but has over $300k in revenue with an unknown amount of grants and donations. There are two employees that work full time, myself being one. Everyone is on a shift schedule ranging with shift ranging from 4-7 hours each. \\n\\nI have worked there for a little over two months, and was recently told that I would receive a 1099 in the mail. I asked my employer, “so that means that we pay the full share of Medicaid and SS?” His response was that it just means that I’m classified as an independent contractor. \\n\\nI never filed a W-2, but that should mean he just claims 0 for exemptions if I’m not mistaken. I read up on the requirement for independent contractors, and it seems that my job does not fit. I have a set schedule, and the employer dictates how I go about my work and the order of tasks to be completed. \\n\\nDue to the the employer not withholding, I have set aside 7.8% to pay taxes, but was not planning on paying the other 7.8%. I only make $10/ hr, so this is a big deal to me. \\n\\nIn addition to the misclassification, I have not been paid overtime. I have kept a detailed record of pay-stubs, and as of now, I have been underpaid  $164, but this number will continue to rise. I am scheduled for 35 hours per week, but I work anywhere between 35 and 50. \\n\\nI usually work longer than my shift because they don’t have enough employees for the amount of work that needs to be done, and this has been encouraged in the past. Today, however, I was told that I can no longer work “as long as I want.” The thing is, I have been staying late to accomplish tasks directly given to me. \\n\\nThe employer seems to dismiss my questions about this as if it’s not true. What are my options at this point? ', metadata={'text_label': 'employment', 'State': 'WY', 'id_': 1850})]"
      ]
     },
     "execution_count": 160,
     "metadata": {},
     "output_type": "execute_result"
    }
   ],
   "source": [
    "lc_docs"
   ]
  },
  {
   "cell_type": "code",
   "execution_count": 163,
   "metadata": {},
   "outputs": [],
   "source": [
    "res = llm_select_relevant_docs(test_query, lc_docs, n_matches=5)"
   ]
  },
  {
   "cell_type": "code",
   "execution_count": 165,
   "metadata": {},
   "outputs": [
    {
     "data": {
      "text/markdown": [
       "I applied for a job and after two interviews I was given for and agreed to an offer letter, had a start date.  The only remaining variable was a drug test, which I prepared myself for by bringing all my prescriptions with me.  \n",
       "\n",
       "I take Adderall, my doctor prescribes me for 3 pills a day, insurance pays for only two a day so that’s what I get.  2 pills a day for 30 days.  \n",
       "\n",
       "However, I don’t need adderall everyday, so I only take it as needed.  My psychiatrist knows this and is okay with it.  I don’t take it everyday so my prescription can last me months, depending on circumstances.  \n",
       "\n",
       "Of course, I happen to take a drug test for a possible new job the day after taking an adderall at work.  No big deal, I have a prescription and it’s never been a big deal in the past.  \n",
       "\n",
       "Except this time it was.  According to the doctor who administrated the test, my prescription was too old.  How old was it, I was prescribed in June and filled the prescription on July 8th, 2019.  I still have about a third of a bottle, I take adderall twice a week on average.  This doctor flipped out.  Not only did she refuse to inspect my prescription bottle when I talked to her in person, she demanded my medical records for all the prescriptions I take.  \n",
       "\n",
       "Both of my doctors complied and when I talked to her on the phone to follow up, her exact words were “You’re prescription is too old, where are you getting it from.”  This pushed back my start date from a definite start to “wait and see” as I was still having my doctors trying to appease the drug test doctor.  \n",
       "\n",
       "I politely tried to explain that I don’t take my adderall everyday because I don’t need to and she would no listen.  So once again, I had my psychiatrist send another letter explaining in more detail.  \n",
       "I didn’t hear anything back after that, and when following up with the perspective employer and now they’re having a “hiring freeze” and won’t be filling the position.  \n",
       "\n",
       "\n",
       "So, in Texas, when is a schedule II drug no longer considered valid?  \n",
       "\n",
       "TL;DR\n",
       "Doctor said my prescription was too old and I must be getting amphetamines from an illegal source."
      ],
      "text/plain": [
       "<IPython.core.display.Markdown object>"
      ]
     },
     "metadata": {},
     "output_type": "display_data"
    }
   ],
   "source": [
    "display(Markdown(f\"{test_query}\"))"
   ]
  },
  {
   "cell_type": "code",
   "execution_count": 166,
   "metadata": {},
   "outputs": [
    {
     "data": {
      "text/markdown": [
       "I currently rent a unit in Texas, and when I signed my lease in February I noticed that the lease clearly states that firearms are not allowed in the apartments. I didn't see this as a deal breaker considering I didn't own a firearm at the time (and still don't) and believed I was moving into a safe location.\n",
       "\n",
       "Come move in day mid August, I was hearing about shootings in the area, and before that, I even heard that a shootout occurred in the parking lot of the very complex I'm renting now just before moving in. It was at this time I regretted signing a lease at a location that didn't allow me to have a firearm for self defense just in case. The shootings seem to have stopped, but I often hear of break-ins and thefts that happen near the complex, and it's only making me worry more (I'm on the first floor, and the first unit you see when coming up to the building). Police presence has been incredibly high since moving in, and I learned this is because there are an unreal amount of crime going on under the surface that I didn't even know was happening, even though it's mainly just drug busts this unsettles me.\n",
       "\n",
       "Back to the original question, can a landlord in Texas really restrict your right to possess a firearm on the property you're renting?"
      ],
      "text/plain": [
       "<IPython.core.display.Markdown object>"
      ]
     },
     "metadata": {},
     "output_type": "display_data"
    },
    {
     "data": {
      "text/markdown": [
       "I have worked a 9-5 Mon-Fri schedule for 6 years. Due to COVID, my supervisor is putting us on alternating 12-hour shifts. I have recently begun a time-release medication for mental health that does not last 12 hours, and one of the side affects is that I am rendered unable to focus/complete work related tasks after this medication wears off. I was told that if I fill out FMLA paperwork to reflect this/have documented confirmation from my physician, I will be told to use my sick leave for the hours I can’t work. Is this legal? Are there any actions I can take regarding this?\n",
       "\n",
       "I live in South Carolina."
      ],
      "text/plain": [
       "<IPython.core.display.Markdown object>"
      ]
     },
     "metadata": {},
     "output_type": "display_data"
    },
    {
     "data": {
      "text/markdown": [
       "I've seen some guidelines (between 3 and 7 days) but besides DC I can't find a legal limit."
      ],
      "text/plain": [
       "<IPython.core.display.Markdown object>"
      ]
     },
     "metadata": {},
     "output_type": "display_data"
    },
    {
     "data": {
      "text/markdown": [
       "So in my line of work (aircraft maintenance) we are required to have random drug testing per the DoT and FAA. Per the requirement we are notified only just before the test is to be conducted. Unfortunately our company has been saving money by scheduling the test after our shift, sometimes up to 2 hours after, since we work a graveyard shift. I have monthly doctors appointments and recently the random test came very close to interfering with an appointment that are very necessary and hard to reschedule. If I were to not show up to the drug test do attend my doctors appointments would the company have and grounds to terminate me? They say skipping a test is kin to testing positive, but they are also unnecessarily interfering with our personal lives here just to save money. I live in Ohio if that matters, but most of these regs are federal."
      ],
      "text/plain": [
       "<IPython.core.display.Markdown object>"
      ]
     },
     "metadata": {},
     "output_type": "display_data"
    },
    {
     "data": {
      "text/markdown": [
       "This is her first offense. She was driving on the opposite side the road on a two way street. The bus had a stop sign pulled up, but she failed to stop/realize she had to. She also didn't have her insurance card in her possession. She was handed two court summons. What possible penalties does she face? Will she be forced to do 15 days in jail, community service, or have points on her license? Advice and info is much appreciated. "
      ],
      "text/plain": [
       "<IPython.core.display.Markdown object>"
      ]
     },
     "metadata": {},
     "output_type": "display_data"
    }
   ],
   "source": [
    "for i in range(len(res)):\n",
    "    display(Markdown(f\"{res[i].page_content}\"))"
   ]
  },
  {
   "cell_type": "code",
   "execution_count": 36,
   "metadata": {},
   "outputs": [],
   "source": [
    "class Query(BaseModel):\n",
    "    \"\"\"Class representing a single question in a query plan.\"\"\"\n",
    "\n",
    "    id: int = Field(..., description=\"Unique id of the query\")\n",
    "    question: str = Field(\n",
    "        ...,\n",
    "        description=\"Question we are asking using a question answer system, if we are asking multiple questions, this question is asked by also providing the answers to the sub questions\",\n",
    "    )\n",
    "    dependencies: List[int] = Field(\n",
    "        default_factory=list,\n",
    "        description=\"List of sub questions that need to be answered before we can ask the question. Use a subquery when anything may be unknown, and we need to ask multiple questions to get the answer. Dependences must only be other queries.\",\n",
    "    )\n",
    "    node_type: Literal['SINGLE_QUESTION', 'MERGE_MULTIPLE_RESPONSES'] = Field(\n",
    "        default='SINGLE_QUESTION',\n",
    "        description=\"Type of question, either a single question or a multi-question merge\",\n",
    "    )\n",
    "\n",
    "class QueryPlan(OpenAISchema):\n",
    "    \"\"\"Container class representing a tree of questions to ask a question answering system.\"\"\"\n",
    "\n",
    "    query_graph: List[Query] = Field(\n",
    "        ..., description=\"The query graph representing the plan\"\n",
    "    )\n",
    "    \n",
    "    def _dependencies(self, ids: List[int]) -> List[Query]:\n",
    "        \"\"\"Returns the dependencies of a query given their ids.\"\"\"\n",
    "        return [q for q in self.query_graph if q.id in ids]\n",
    "\n"
   ]
  },
  {
   "cell_type": "code",
   "execution_count": 37,
   "metadata": {},
   "outputs": [],
   "source": [
    "def query_planner(question: str, n: str='3 to 5') -> QueryPlan:\n",
    "    PLANNING_MODEL = \"gpt-3.5-turbo-0613\"\n",
    "\n",
    "    messages = [\n",
    "        {\n",
    "            \"role\": \"system\",\n",
    "            \"content\": \"You are a world class query planning algorithm capable of breaking apart questions into its dependency queries such that the answers can be used to inform the parent question. Do not answer the questions, simply provide a correct compute graph with good specific questions to ask and relevant dependencies. Before you call the function, think step-by-step to get a better understanding of the problem.\",\n",
    "        },\n",
    "        {\n",
    "            \"role\": \"user\",\n",
    "            \"content\": f\"Consider: {question}\\nGenerate the correct query plan with {n} sub-queries.\",\n",
    "        },\n",
    "    ]\n",
    "\n",
    "    completion = openai.ChatCompletion.create(\n",
    "        model=PLANNING_MODEL,\n",
    "        temperature=0,\n",
    "        functions=[QueryPlan.openai_schema],\n",
    "        function_call={\"name\": QueryPlan.openai_schema[\"name\"]},\n",
    "        messages=messages,\n",
    "        max_tokens=1000,\n",
    "    )\n",
    "    root = QueryPlan.from_response(completion)\n",
    "    return root"
   ]
  },
  {
   "cell_type": "code",
   "execution_count": 38,
   "metadata": {},
   "outputs": [],
   "source": [
    "plan = query_planner(\n",
    "    test_query\n",
    ")"
   ]
  },
  {
   "cell_type": "code",
   "execution_count": 39,
   "metadata": {},
   "outputs": [
    {
     "name": "stdout",
     "output_type": "stream",
     "text": [
      "{'query_graph': [{'dependencies': [],\n",
      "                  'id': 1,\n",
      "                  'node_type': 'SINGLE_QUESTION',\n",
      "                  'question': 'When does a schedule II drug prescription '\n",
      "                              'expire in Texas?'},\n",
      "                 {'dependencies': [1],\n",
      "                  'id': 2,\n",
      "                  'node_type': 'SINGLE_QUESTION',\n",
      "                  'question': \"What is the expiration date of the user's \"\n",
      "                              'Adderall prescription?'},\n",
      "                 {'dependencies': [2],\n",
      "                  'id': 3,\n",
      "                  'node_type': 'SINGLE_QUESTION',\n",
      "                  'question': 'How often does the user take Adderall?'},\n",
      "                 {'dependencies': [2, 3],\n",
      "                  'id': 4,\n",
      "                  'node_type': 'SINGLE_QUESTION',\n",
      "                  'question': \"Is the user's Adderall prescription still \"\n",
      "                              'valid?'},\n",
      "                 {'dependencies': [4],\n",
      "                  'id': 5,\n",
      "                  'node_type': 'SINGLE_QUESTION',\n",
      "                  'question': \"Why did the doctor claim the user's \"\n",
      "                              'prescription was too old?'}]}\n"
     ]
    }
   ],
   "source": [
    "from pprint import pprint\n",
    "\n",
    "pprint(plan.dict())"
   ]
  },
  {
   "cell_type": "code",
   "execution_count": 40,
   "metadata": {},
   "outputs": [
    {
     "data": {
      "text/plain": [
       "QueryPlan(query_graph=[Query(id=1, question='When does a schedule II drug prescription expire in Texas?', dependencies=[], node_type='SINGLE_QUESTION'), Query(id=2, question=\"What is the expiration date of the user's Adderall prescription?\", dependencies=[1], node_type='SINGLE_QUESTION'), Query(id=3, question='How often does the user take Adderall?', dependencies=[2], node_type='SINGLE_QUESTION'), Query(id=4, question=\"Is the user's Adderall prescription still valid?\", dependencies=[2, 3], node_type='SINGLE_QUESTION'), Query(id=5, question=\"Why did the doctor claim the user's prescription was too old?\", dependencies=[4], node_type='SINGLE_QUESTION')])"
      ]
     },
     "execution_count": 40,
     "metadata": {},
     "output_type": "execute_result"
    }
   ],
   "source": [
    "plan"
   ]
  },
  {
   "cell_type": "code",
   "execution_count": 41,
   "metadata": {},
   "outputs": [
    {
     "data": {
      "text/plain": [
       "'When does a schedule II drug prescription expire in Texas?'"
      ]
     },
     "execution_count": 41,
     "metadata": {},
     "output_type": "execute_result"
    }
   ],
   "source": [
    "plan.query_graph[0].question"
   ]
  },
  {
   "cell_type": "code",
   "execution_count": 132,
   "metadata": {},
   "outputs": [
    {
     "data": {
      "text/markdown": [
       "I applied for a job and after two interviews I was given for and agreed to an offer letter, had a start date.  The only remaining variable was a drug test, which I prepared myself for by bringing all my prescriptions with me.  \n",
       "\n",
       "I take Adderall, my doctor prescribes me for 3 pills a day, insurance pays for only two a day so that’s what I get.  2 pills a day for 30 days.  \n",
       "\n",
       "However, I don’t need adderall everyday, so I only take it as needed.  My psychiatrist knows this and is okay with it.  I don’t take it everyday so my prescription can last me months, depending on circumstances.  \n",
       "\n",
       "Of course, I happen to take a drug test for a possible new job the day after taking an adderall at work.  No big deal, I have a prescription and it’s never been a big deal in the past.  \n",
       "\n",
       "Except this time it was.  According to the doctor who administrated the test, my prescription was too old.  How old was it, I was prescribed in June and filled the prescription on July 8th, 2019.  I still have about a third of a bottle, I take adderall twice a week on average.  This doctor flipped out.  Not only did she refuse to inspect my prescription bottle when I talked to her in person, she demanded my medical records for all the prescriptions I take.  \n",
       "\n",
       "Both of my doctors complied and when I talked to her on the phone to follow up, her exact words were “You’re prescription is too old, where are you getting it from.”  This pushed back my start date from a definite start to “wait and see” as I was still having my doctors trying to appease the drug test doctor.  \n",
       "\n",
       "I politely tried to explain that I don’t take my adderall everyday because I don’t need to and she would no listen.  So once again, I had my psychiatrist send another letter explaining in more detail.  \n",
       "I didn’t hear anything back after that, and when following up with the perspective employer and now they’re having a “hiring freeze” and won’t be filling the position.  \n",
       "\n",
       "\n",
       "So, in Texas, when is a schedule II drug no longer considered valid?  \n",
       "\n",
       "TL;DR\n",
       "Doctor said my prescription was too old and I must be getting amphetamines from an illegal source."
      ],
      "text/plain": [
       "<IPython.core.display.Markdown object>"
      ]
     },
     "execution_count": 132,
     "metadata": {},
     "output_type": "execute_result"
    }
   ],
   "source": [
    "Markdown(f\"{test_query}\")"
   ]
  },
  {
   "cell_type": "code",
   "execution_count": 146,
   "metadata": {},
   "outputs": [],
   "source": [
    "splade = SpladeSearch(df, 'body', 'splade_embeddings')"
   ]
  },
  {
   "cell_type": "code",
   "execution_count": 148,
   "metadata": {},
   "outputs": [
    {
     "name": "stdout",
     "output_type": "stream",
     "text": [
      "SPLADE generated 81 expansion terms\n",
      "Top expansion terms: ['frozen', 'dates', 'yes', 'offered', 'variables', 'refused', 'hire', 'dose', 'refusal', 'bottles']\n"
     ]
    }
   ],
   "source": [
    "terms = splade.generate_expansion_terms(test_query)"
   ]
  },
  {
   "cell_type": "code",
   "execution_count": null,
   "metadata": {},
   "outputs": [],
   "source": []
  },
  {
   "cell_type": "code",
   "execution_count": 194,
   "metadata": {},
   "outputs": [],
   "source": [
    "class LegalIssue(BaseModel):\n",
    "    \"\"\"Identifying information about a legal issue.\"\"\"\n",
    "    \n",
    "    topic: str = Field(..., description=\"A concise topic title for the legal issue\")\n",
    "    summary: Optional[str] = Field(None, description=\"A summary of key points\")\n",
    "\n",
    "\n",
    "class LegalIssues(OpenAISchema):\n",
    "    \"\"\"Identifying information in a text.\"\"\"\n",
    "    \n",
    "    issues: Sequence[LegalIssue] = Field(..., description=\"The information of interest in the text\")\n",
    "\n",
    "\n",
    "def extract_structured_legal_issues(df: pd.DataFrame, content: str = 'body', metadata: List[str] = None, model_name: str = \"gpt-4-1106-preview\") -> pd.DataFrame:\n",
    "    \"\"\"\n",
    "    Extracts structured data 'legal issues' from text using a language model.\n",
    "\n",
    "    Args:\n",
    "    df (pd.DataFrame): The dataframe to extract legal issues from.\n",
    "    content (str): The column containing the text content.\n",
    "    metadata (list): List of columns to use for metadata.\n",
    "    model_name (str, optional): The name of the language model to use. Defaults to \"gpt-4-1106-preview\".\n",
    "\n",
    "    Returns:\n",
    "    pd.DataFrame: A dataframe containing the extracted legal issues.\n",
    "    \"\"\"\n",
    "    # Check if 'index' column exists in the dataframe, if not, create one based on the actual index\n",
    "    if 'index' not in df.columns:\n",
    "        df['index'] = df.index\n",
    "\n",
    "    lc_docs = dataframe_to_lc_documents(df=df, content=content, id_col=\"index\", metadata=metadata)\n",
    "\n",
    "    results = []\n",
    "    for doc in lc_docs:\n",
    "        messages = [\n",
    "        {\n",
    "            \"role\": \"system\",\n",
    "            \"content\": \"You are a world class algorithm for extracting information in structured formats.\",\n",
    "        },\n",
    "        {\n",
    "            \"role\": \"user\",\n",
    "            \"content\": f\"Use the given format to extract information from the following input: {doc.page_content}\",\n",
    "        },\n",
    "        ]\n",
    "        completion = openai.ChatCompletion.create(\n",
    "            model=model_name,\n",
    "            temperature=0,\n",
    "            functions=[LegalIssues.openai_schema],\n",
    "            function_call={\"name\": LegalIssues.openai_schema[\"name\"]},\n",
    "            messages=messages,\n",
    "        )\n",
    "        res_doc = LegalIssues.from_response(completion)\n",
    "        res_doc_flat = flatten_pydantic_instance(res_doc, \"\")\n",
    "        df = pd.DataFrame(res_doc_flat['issues'])\n",
    "        df['id_'] = doc.metadata['id_']\n",
    "        results.append(df)\n",
    "\n",
    "    return pd.concat(results, ignore_index=True)"
   ]
  },
  {
   "cell_type": "code",
   "execution_count": 195,
   "metadata": {},
   "outputs": [],
   "source": [
    "test_res = extract_structured_legal_issues(df_sample)"
   ]
  },
  {
   "cell_type": "code",
   "execution_count": 196,
   "metadata": {},
   "outputs": [
    {
     "name": "stdout",
     "output_type": "stream",
     "text": [
      "Shape of df: (15, 3)\n"
     ]
    },
    {
     "data": {
      "text/markdown": [
       "| topic                               | summary                                                                                                                                                                                                                                                 |   id_ |\n",
       "|:------------------------------------|:--------------------------------------------------------------------------------------------------------------------------------------------------------------------------------------------------------------------------------------------------------|------:|\n",
       "| Domestic Violence                   | The individual describes a physical altercation with his girlfriend, involving pushing and slapping each other, which could be considered domestic violence.                                                                                            |  5015 |\n",
       "| Assault Threats                     | The individual received threats of physical violence over text message from his girlfriend's friend, which could be considered assault threats.                                                                                                         |  5015 |\n",
       "| Assault                             | The individual was slapped by his girlfriend's friend while at his place of business, which is an act of assault.                                                                                                                                       |  5015 |\n",
       "| Workplace Violence                  | The incident of being slapped by the girlfriend's friend occurred at the friend's workplace, which raises issues of workplace violence and potential consequences for the employee.                                                                     |  5015 |\n",
       "| Child Support Modification          | Father seeks to modify child support payments due to a decrease in income resulting from a job-related injury and subsequent employment change. Mother opposes the modification, suggesting father should take a second job despite his disability.     |  4275 |\n",
       "| Parenting Plan Dispute              | Father received a letter from mother's lawyer with requests to change the parenting plan. Mother's written responses are allegedly non-factual and slanderous, leading the father to seek assistance in drafting counterclaims.                         |  4275 |\n",
       "| Custody and Behavioral Issues       | Post-divorce, the mother has custody of the children. The younger brother is facing legal troubles and academic failures, with the mother reportedly not disciplining him and discouraging the father from doing so.                                    |  4275 |\n",
       "| Legal Involvement of Family Members | The father is requesting the assistance of his child in drafting counterclaims to the mother's lawyer's letter, raising concerns about the appropriateness of involving family members in legal disputes.                                               |  4275 |\n",
       "| Inheritance and Debt Obligations    | A deceased father left an inheritance to his children, but it is claimed that he owes an amount to creditors that is roughly equal to the inheritance. The mother-in-law wants the children to sign over the inheritance to her to pay off these debts. |  5466 |\n",
       "| Dispute Over Debt Payment           | While some relatives agree to sign over the inheritance to pay the debts, one relative disagrees, believing they are entitled to their share before debts are settled.                                                                                  |  5466 |"
      ],
      "text/plain": [
       "<IPython.core.display.Markdown object>"
      ]
     },
     "execution_count": 196,
     "metadata": {},
     "output_type": "execute_result"
    }
   ],
   "source": [
    "print(f\"Shape of df: {test_res.shape}\")\n",
    "Markdown(f\"{test_res.head(10).to_markdown(index=False)}\")"
   ]
  },
  {
   "cell_type": "code",
   "execution_count": null,
   "metadata": {},
   "outputs": [],
   "source": []
  },
  {
   "cell_type": "code",
   "execution_count": null,
   "metadata": {},
   "outputs": [],
   "source": []
  }
 ],
 "metadata": {
  "kernelspec": {
   "display_name": ".venv",
   "language": "python",
   "name": "python3"
  },
  "language_info": {
   "codemirror_mode": {
    "name": "ipython",
    "version": 3
   },
   "file_extension": ".py",
   "mimetype": "text/x-python",
   "name": "python",
   "nbconvert_exporter": "python",
   "pygments_lexer": "ipython3",
   "version": "3.10.13"
  }
 },
 "nbformat": 4,
 "nbformat_minor": 2
}
