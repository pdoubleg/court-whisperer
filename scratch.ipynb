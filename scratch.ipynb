{
 "cells": [
  {
   "cell_type": "code",
   "execution_count": 1,
   "metadata": {},
   "outputs": [],
   "source": [
    "import os\n",
    "import requests\n",
    "import json\n",
    "from tqdm import tqdm\n",
    "import re\n",
    "import pandas as pd\n",
    "from pandas import json_normalize\n",
    "import time\n",
    "from dotenv import load_dotenv\n",
    "load_dotenv()\n",
    "import openai\n",
    "from openai import OpenAI\n",
    "import instructor\n",
    "import whisper\n",
    "from langchain.chat_models import ChatOpenAI\n",
    "from langchain.prompts import ChatPromptTemplate\n",
    "from langchain.schema import StrOutputParser\n",
    "from langchain.schema.runnable import RunnablePassthrough\n",
    "from langchain.embeddings import OpenAIEmbeddings\n",
    "from langchain.vectorstores import Chroma\n",
    "from langchain.prompts import PromptTemplate, ChatPromptTemplate\n",
    "from langchain.schema import Document\n",
    "from langchain.text_splitter import CharacterTextSplitter\n",
    "from langchain.chains.mapreduce import MapReduceChain\n",
    "from langchain.chains import (\n",
    "                StuffDocumentsChain,\n",
    "                LLMChain,\n",
    "                ReduceDocumentsChain,\n",
    "                MapReduceDocumentsChain,\n",
    "            )\n",
    "from langchain.text_splitter import RecursiveCharacterTextSplitter\n",
    "from langchain.chains.openai_functions import (\n",
    "    create_structured_output_runnable,\n",
    ")\n",
    "from pydantic import BaseModel, Field\n",
    "from typing import List, Optional\n",
    "from typing import Sequence\n",
    "from langchain.pydantic_v1 import BaseModel, Field\n",
    "from langchain.document_loaders import TextLoader\n",
    "from IPython.display import Markdown, display\n",
    "import warnings\n",
    "warnings.filterwarnings('ignore')\n",
    "pd.set_option('display.max_columns', None)"
   ]
  },
  {
   "cell_type": "code",
   "execution_count": 4,
   "metadata": {},
   "outputs": [],
   "source": [
    "import backoff\n",
    "from tqdm import tqdm\n",
    "\n",
    "@backoff.on_exception(backoff.expo, (requests.exceptions.RequestException, requests.exceptions.HTTPError), max_tries=8)\n",
    "def fetch_page(url):\n",
    "    response = requests.get(url)\n",
    "    response.raise_for_status()  # Raises a HTTPError if the status is 4xx, 5xx\n",
    "    return response.json()\n",
    "\n",
    "def fetch_audio_data(base_url, start_page, end_page):\n",
    "    all_results = []\n",
    "    for page in tqdm(range(start_page, end_page + 1)):\n",
    "        url = f\"{base_url}?page={page}\"\n",
    "        data = fetch_page(url)\n",
    "        all_results.extend(data[\"results\"])\n",
    "        time.sleep(1)\n",
    "    df = pd.DataFrame.from_records(all_results)\n",
    "    return df\n"
   ]
  },
  {
   "cell_type": "code",
   "execution_count": 5,
   "metadata": {},
   "outputs": [
    {
     "name": "stderr",
     "output_type": "stream",
     "text": [
      "100%|██████████| 10/10 [00:15<00:00,  1.52s/it]\n"
     ]
    }
   ],
   "source": [
    "# Define the URL for the audio endpoint\n",
    "base_url = \"https://www.courtlistener.com/api/rest/v3/audio/\"\n",
    "\n",
    "# Call the function to fetch the data\n",
    "df = fetch_audio_data(base_url, 1, 10)"
   ]
  },
  {
   "cell_type": "code",
   "execution_count": 6,
   "metadata": {},
   "outputs": [
    {
     "data": {
      "text/plain": [
       "(200, 24)"
      ]
     },
     "execution_count": 6,
     "metadata": {},
     "output_type": "execute_result"
    }
   ],
   "source": [
    "df.shape"
   ]
  },
  {
   "cell_type": "code",
   "execution_count": 7,
   "metadata": {},
   "outputs": [
    {
     "data": {
      "text/html": [
       "<div>\n",
       "<style scoped>\n",
       "    .dataframe tbody tr th:only-of-type {\n",
       "        vertical-align: middle;\n",
       "    }\n",
       "\n",
       "    .dataframe tbody tr th {\n",
       "        vertical-align: top;\n",
       "    }\n",
       "\n",
       "    .dataframe thead th {\n",
       "        text-align: right;\n",
       "    }\n",
       "</style>\n",
       "<table border=\"1\" class=\"dataframe\">\n",
       "  <thead>\n",
       "    <tr style=\"text-align: right;\">\n",
       "      <th></th>\n",
       "      <th>resource_uri</th>\n",
       "      <th>id</th>\n",
       "      <th>absolute_url</th>\n",
       "      <th>panel</th>\n",
       "      <th>docket</th>\n",
       "      <th>date_created</th>\n",
       "      <th>date_modified</th>\n",
       "      <th>source</th>\n",
       "      <th>case_name_short</th>\n",
       "      <th>case_name</th>\n",
       "      <th>...</th>\n",
       "      <th>local_path_mp3</th>\n",
       "      <th>local_path_original_file</th>\n",
       "      <th>filepath_ia</th>\n",
       "      <th>ia_upload_failure_count</th>\n",
       "      <th>duration</th>\n",
       "      <th>processing_complete</th>\n",
       "      <th>date_blocked</th>\n",
       "      <th>blocked</th>\n",
       "      <th>stt_status</th>\n",
       "      <th>stt_google_response</th>\n",
       "    </tr>\n",
       "  </thead>\n",
       "  <tbody>\n",
       "    <tr>\n",
       "      <th>0</th>\n",
       "      <td>https://www.courtlistener.com/api/rest/v3/audi...</td>\n",
       "      <td>89173</td>\n",
       "      <td>/audio/89173/appvion-inc-retirement-savin-v-do...</td>\n",
       "      <td>[]</td>\n",
       "      <td>https://www.courtlistener.com/api/rest/v3/dock...</td>\n",
       "      <td>2023-12-01T14:30:43.486459-08:00</td>\n",
       "      <td>2023-12-01T14:30:43.486469-08:00</td>\n",
       "      <td>C</td>\n",
       "      <td></td>\n",
       "      <td>Appvion, Inc. Retirement Savin v. Douglas Buth</td>\n",
       "      <td>...</td>\n",
       "      <td>mp3/2023/12/01/appvion_inc._retirement_savin_v...</td>\n",
       "      <td>mp3/2023/12/01/appvion_inc._retirement_savin_v...</td>\n",
       "      <td></td>\n",
       "      <td>None</td>\n",
       "      <td>3738.0</td>\n",
       "      <td>True</td>\n",
       "      <td>None</td>\n",
       "      <td>False</td>\n",
       "      <td>0</td>\n",
       "      <td></td>\n",
       "    </tr>\n",
       "    <tr>\n",
       "      <th>1</th>\n",
       "      <td>https://www.courtlistener.com/api/rest/v3/audi...</td>\n",
       "      <td>89172</td>\n",
       "      <td>/audio/89172/denise-evans-v-united-states/</td>\n",
       "      <td>[]</td>\n",
       "      <td>https://www.courtlistener.com/api/rest/v3/dock...</td>\n",
       "      <td>2023-12-01T14:30:37.142049-08:00</td>\n",
       "      <td>2023-12-01T14:30:37.142060-08:00</td>\n",
       "      <td>C</td>\n",
       "      <td></td>\n",
       "      <td>Denise Evans v. United States</td>\n",
       "      <td>...</td>\n",
       "      <td>mp3/2023/12/01/denise_evans_v._united_states_c...</td>\n",
       "      <td>mp3/2023/12/01/denise_evans_v._united_states.mp3</td>\n",
       "      <td></td>\n",
       "      <td>None</td>\n",
       "      <td>1470.0</td>\n",
       "      <td>True</td>\n",
       "      <td>None</td>\n",
       "      <td>False</td>\n",
       "      <td>0</td>\n",
       "      <td></td>\n",
       "    </tr>\n",
       "    <tr>\n",
       "      <th>2</th>\n",
       "      <td>https://www.courtlistener.com/api/rest/v3/audi...</td>\n",
       "      <td>89171</td>\n",
       "      <td>/audio/89171/randall-artis-v-adrian-santos/</td>\n",
       "      <td>[]</td>\n",
       "      <td>https://www.courtlistener.com/api/rest/v3/dock...</td>\n",
       "      <td>2023-12-01T14:30:34.767680-08:00</td>\n",
       "      <td>2023-12-01T14:30:34.767688-08:00</td>\n",
       "      <td>C</td>\n",
       "      <td></td>\n",
       "      <td>Randall Artis v. Adrian Santos</td>\n",
       "      <td>...</td>\n",
       "      <td>mp3/2023/12/01/randall_artis_v._adrian_santos_...</td>\n",
       "      <td>mp3/2023/12/01/randall_artis_v._adrian_santos.mp3</td>\n",
       "      <td></td>\n",
       "      <td>None</td>\n",
       "      <td>1652.0</td>\n",
       "      <td>True</td>\n",
       "      <td>None</td>\n",
       "      <td>False</td>\n",
       "      <td>0</td>\n",
       "      <td></td>\n",
       "    </tr>\n",
       "    <tr>\n",
       "      <th>3</th>\n",
       "      <td>https://www.courtlistener.com/api/rest/v3/audi...</td>\n",
       "      <td>89170</td>\n",
       "      <td>/audio/89170/united-states-v-david-hueston/</td>\n",
       "      <td>[]</td>\n",
       "      <td>https://www.courtlistener.com/api/rest/v3/dock...</td>\n",
       "      <td>2023-12-01T14:30:31.048186-08:00</td>\n",
       "      <td>2023-12-01T14:30:31.048194-08:00</td>\n",
       "      <td>C</td>\n",
       "      <td></td>\n",
       "      <td>United States v. David Hueston</td>\n",
       "      <td>...</td>\n",
       "      <td>mp3/2023/12/01/united_states_v._david_hueston_...</td>\n",
       "      <td>mp3/2023/12/01/united_states_v._david_hueston.mp3</td>\n",
       "      <td></td>\n",
       "      <td>None</td>\n",
       "      <td>1189.0</td>\n",
       "      <td>True</td>\n",
       "      <td>None</td>\n",
       "      <td>False</td>\n",
       "      <td>0</td>\n",
       "      <td></td>\n",
       "    </tr>\n",
       "    <tr>\n",
       "      <th>4</th>\n",
       "      <td>https://www.courtlistener.com/api/rest/v3/audi...</td>\n",
       "      <td>89169</td>\n",
       "      <td>/audio/89169/united-states-v-henry-underwood/</td>\n",
       "      <td>[]</td>\n",
       "      <td>https://www.courtlistener.com/api/rest/v3/dock...</td>\n",
       "      <td>2023-12-01T14:30:28.811338-08:00</td>\n",
       "      <td>2023-12-01T14:30:28.811350-08:00</td>\n",
       "      <td>C</td>\n",
       "      <td></td>\n",
       "      <td>United States v. Henry Underwood</td>\n",
       "      <td>...</td>\n",
       "      <td>mp3/2023/12/01/united_states_v._henry_underwoo...</td>\n",
       "      <td>mp3/2023/12/01/united_states_v._henry_underwoo...</td>\n",
       "      <td></td>\n",
       "      <td>None</td>\n",
       "      <td>1212.0</td>\n",
       "      <td>True</td>\n",
       "      <td>None</td>\n",
       "      <td>False</td>\n",
       "      <td>0</td>\n",
       "      <td></td>\n",
       "    </tr>\n",
       "  </tbody>\n",
       "</table>\n",
       "<p>5 rows × 24 columns</p>\n",
       "</div>"
      ],
      "text/plain": [
       "                                        resource_uri     id  \\\n",
       "0  https://www.courtlistener.com/api/rest/v3/audi...  89173   \n",
       "1  https://www.courtlistener.com/api/rest/v3/audi...  89172   \n",
       "2  https://www.courtlistener.com/api/rest/v3/audi...  89171   \n",
       "3  https://www.courtlistener.com/api/rest/v3/audi...  89170   \n",
       "4  https://www.courtlistener.com/api/rest/v3/audi...  89169   \n",
       "\n",
       "                                        absolute_url panel  \\\n",
       "0  /audio/89173/appvion-inc-retirement-savin-v-do...    []   \n",
       "1         /audio/89172/denise-evans-v-united-states/    []   \n",
       "2        /audio/89171/randall-artis-v-adrian-santos/    []   \n",
       "3        /audio/89170/united-states-v-david-hueston/    []   \n",
       "4      /audio/89169/united-states-v-henry-underwood/    []   \n",
       "\n",
       "                                              docket  \\\n",
       "0  https://www.courtlistener.com/api/rest/v3/dock...   \n",
       "1  https://www.courtlistener.com/api/rest/v3/dock...   \n",
       "2  https://www.courtlistener.com/api/rest/v3/dock...   \n",
       "3  https://www.courtlistener.com/api/rest/v3/dock...   \n",
       "4  https://www.courtlistener.com/api/rest/v3/dock...   \n",
       "\n",
       "                       date_created                     date_modified source  \\\n",
       "0  2023-12-01T14:30:43.486459-08:00  2023-12-01T14:30:43.486469-08:00      C   \n",
       "1  2023-12-01T14:30:37.142049-08:00  2023-12-01T14:30:37.142060-08:00      C   \n",
       "2  2023-12-01T14:30:34.767680-08:00  2023-12-01T14:30:34.767688-08:00      C   \n",
       "3  2023-12-01T14:30:31.048186-08:00  2023-12-01T14:30:31.048194-08:00      C   \n",
       "4  2023-12-01T14:30:28.811338-08:00  2023-12-01T14:30:28.811350-08:00      C   \n",
       "\n",
       "  case_name_short                                       case_name  ...  \\\n",
       "0                  Appvion, Inc. Retirement Savin v. Douglas Buth  ...   \n",
       "1                                   Denise Evans v. United States  ...   \n",
       "2                                  Randall Artis v. Adrian Santos  ...   \n",
       "3                                  United States v. David Hueston  ...   \n",
       "4                                United States v. Henry Underwood  ...   \n",
       "\n",
       "                                      local_path_mp3  \\\n",
       "0  mp3/2023/12/01/appvion_inc._retirement_savin_v...   \n",
       "1  mp3/2023/12/01/denise_evans_v._united_states_c...   \n",
       "2  mp3/2023/12/01/randall_artis_v._adrian_santos_...   \n",
       "3  mp3/2023/12/01/united_states_v._david_hueston_...   \n",
       "4  mp3/2023/12/01/united_states_v._henry_underwoo...   \n",
       "\n",
       "                            local_path_original_file filepath_ia  \\\n",
       "0  mp3/2023/12/01/appvion_inc._retirement_savin_v...               \n",
       "1   mp3/2023/12/01/denise_evans_v._united_states.mp3               \n",
       "2  mp3/2023/12/01/randall_artis_v._adrian_santos.mp3               \n",
       "3  mp3/2023/12/01/united_states_v._david_hueston.mp3               \n",
       "4  mp3/2023/12/01/united_states_v._henry_underwoo...               \n",
       "\n",
       "  ia_upload_failure_count duration processing_complete date_blocked blocked  \\\n",
       "0                    None   3738.0                True         None   False   \n",
       "1                    None   1470.0                True         None   False   \n",
       "2                    None   1652.0                True         None   False   \n",
       "3                    None   1189.0                True         None   False   \n",
       "4                    None   1212.0                True         None   False   \n",
       "\n",
       "   stt_status  stt_google_response  \n",
       "0           0                       \n",
       "1           0                       \n",
       "2           0                       \n",
       "3           0                       \n",
       "4           0                       \n",
       "\n",
       "[5 rows x 24 columns]"
      ]
     },
     "execution_count": 7,
     "metadata": {},
     "output_type": "execute_result"
    }
   ],
   "source": [
    "df.head()"
   ]
  },
  {
   "cell_type": "code",
   "execution_count": 9,
   "metadata": {},
   "outputs": [
    {
     "data": {
      "text/plain": [
       "['https://www.courtlistener.com/api/rest/v3/dockets/67709859/',\n",
       " 'https://www.courtlistener.com/api/rest/v3/dockets/68056321/',\n",
       " 'https://www.courtlistener.com/api/rest/v3/dockets/68056320/',\n",
       " 'https://www.courtlistener.com/api/rest/v3/dockets/68056319/',\n",
       " 'https://www.courtlistener.com/api/rest/v3/dockets/68056318/']"
      ]
     },
     "execution_count": 9,
     "metadata": {},
     "output_type": "execute_result"
    }
   ],
   "source": [
    "df['docket'].head().tolist()"
   ]
  },
  {
   "cell_type": "code",
   "execution_count": 10,
   "metadata": {},
   "outputs": [],
   "source": [
    "def search_insurance(df, column):\n",
    "    df['insurance_found'] = df[column].apply(lambda x: 1 if 'insurance' in x.lower() else 0)\n",
    "    return df\n",
    "\n",
    "df = search_insurance(df, 'case_name')"
   ]
  },
  {
   "cell_type": "code",
   "execution_count": 11,
   "metadata": {},
   "outputs": [
    {
     "name": "stdout",
     "output_type": "stream",
     "text": [
      "(5, 25)\n"
     ]
    },
    {
     "data": {
      "text/plain": [
       "['Mannie v. Illinois Department of Insurance',\n",
       " 'Till v. National Health Insurance Co.',\n",
       " 'Maria Jimenez v. Travelers Commercial Insurance',\n",
       " 'National Fire Insurance Co. v. Sanchez',\n",
       " 'Farm Bureau Property & Casualty Insurance Company v. Cleaver']"
      ]
     },
     "execution_count": 11,
     "metadata": {},
     "output_type": "execute_result"
    }
   ],
   "source": [
    "print(df[df['insurance_found']==1].shape)\n",
    "df[df['insurance_found']==1]['case_name'].tolist()"
   ]
  },
  {
   "cell_type": "code",
   "execution_count": 10,
   "metadata": {},
   "outputs": [],
   "source": [
    "def add_rows_to_excel(input_df, excel_file):\n",
    "    \"\"\"\n",
    "    Adds rows to an excel file. If the excel file doesn't exist, creates it. \n",
    "    If it does exist, only adds the new rows from the input DataFrame. \n",
    "    If the data overlaps, only the distinct rows are saved in the final excel file.\n",
    "\n",
    "    Args:\n",
    "    input_df (pd.DataFrame): The DataFrame to add to the excel file.\n",
    "    excel_file (str): The path to the excel file.\n",
    "    \"\"\"\n",
    "    # Convert lists to strings in input_df\n",
    "    input_df = input_df.applymap(lambda x: str(x) if isinstance(x, list) else x)\n",
    "\n",
    "    if os.path.exists(excel_file):\n",
    "        # Load the existing data\n",
    "        existing_df = pd.read_excel(excel_file)\n",
    "\n",
    "        # Convert lists to strings in existing_df\n",
    "        existing_df = existing_df.applymap(lambda x: str(x) if isinstance(x, list) else x)\n",
    "\n",
    "        # Concatenate the existing data with the new data\n",
    "        combined_df = pd.concat([existing_df, input_df])\n",
    "\n",
    "        # Remove duplicates\n",
    "        final_df = combined_df.drop_duplicates()\n",
    "\n",
    "        # Print the total number of rows and how many new rows were added\n",
    "        print(f\"Total number of rows: {len(final_df)}\")\n",
    "        print(f\"Number of new rows added: {len(final_df) - len(existing_df)}\")\n",
    "    else:\n",
    "        final_df = input_df\n",
    "        # Print the total number of rows as the excel file didn't exist before\n",
    "        print(f\"Total number of rows: {len(final_df)}\")\n",
    "        print(f\"Number of new rows added: {len(final_df)}\")\n",
    "\n",
    "    # Write the data to the excel file\n",
    "    final_df.to_excel(excel_file, index=False)"
   ]
  },
  {
   "cell_type": "code",
   "execution_count": 11,
   "metadata": {},
   "outputs": [
    {
     "name": "stdout",
     "output_type": "stream",
     "text": [
      "Total number of rows: 3988\n",
      "Number of new rows added: 200\n"
     ]
    }
   ],
   "source": [
    "add_rows_to_excel(df, \"court_listener_oral_argument_listing.xlsx\")"
   ]
  },
  {
   "cell_type": "code",
   "execution_count": 13,
   "metadata": {},
   "outputs": [
    {
     "name": "stdout",
     "output_type": "stream",
     "text": [
      "Mannie v. Illinois Department of Insurance\n",
      "https://ilcourtsaudio.blob.core.windows.net/antilles-resources/resources/dc00b730-4ff0-4764-96dc-6054f5e4070c/113023_3-22-0312.mp3\n"
     ]
    }
   ],
   "source": [
    "insurance_df = df[df[\"insurance_found\"] != 0]\n",
    "\n",
    "i = 0\n",
    "\n",
    "name = insurance_df.iloc[i][\"case_name\"]\n",
    "url = insurance_df.iloc[i][\"download_url\"]\n",
    "print(name)\n",
    "print(url)"
   ]
  },
  {
   "cell_type": "code",
   "execution_count": 14,
   "metadata": {},
   "outputs": [],
   "source": [
    "def download_mp3(url, file_path):\n",
    "    \"\"\"\n",
    "    Downloads an MP3 file from the given URL and saves it to the specified file path.\n",
    "\n",
    "    Args:\n",
    "    url (str): The URL of the MP3 file.\n",
    "    file_path (str): The local path where the file should be saved.\n",
    "    \"\"\"\n",
    "    try:\n",
    "        # Send a GET request to the URL\n",
    "        response = requests.get(url, stream=True)\n",
    "\n",
    "        # Raise an exception if the request was unsuccessful\n",
    "        response.raise_for_status()\n",
    "\n",
    "        # Open a file in binary write mode\n",
    "        with open(file_path, 'wb') as file:\n",
    "            for chunk in response.iter_content(chunk_size=8192): \n",
    "                # Write the content chunk by chunk to the file\n",
    "                file.write(chunk)\n",
    "\n",
    "        print(f\"File downloaded and saved as {file_path}\")\n",
    "    except requests.RequestException as e:\n",
    "        print(f\"An error occurred: {e}\")"
   ]
  },
  {
   "cell_type": "code",
   "execution_count": 15,
   "metadata": {},
   "outputs": [
    {
     "name": "stdout",
     "output_type": "stream",
     "text": [
      "File downloaded and saved as ./data/audio/Mannie v. Illinois Department of Insurance.mp3\n"
     ]
    }
   ],
   "source": [
    "download_mp3(url, f\"./data/audio/{name}.mp3\")"
   ]
  },
  {
   "cell_type": "code",
   "execution_count": 17,
   "metadata": {},
   "outputs": [
    {
     "name": "stdout",
     "output_type": "stream",
     "text": [
      "CPU times: total: 15min 9s\n",
      "Wall time: 1min 57s\n"
     ]
    },
    {
     "data": {
      "text/markdown": [
       " We'll look, please call the next case. 322-0312, Kenneth Armani, senior appellant versus Illinois Department of Insurance, Martin Grovy, Helen Kim, and Patrick Riley, Appalise. Thank you. Mr. Manny, you may proceed. Thank you. I'll start the wagon before this point will be about Mary's team. Practice is not a mechanic. I'll start the practice in the maintenance. But Mr. Manny, unlike the case before, we're having just a little hard time understanding you. If you may be getting closer to the screen or the mic, might help. OK, about now. Any better? Little. I'll try to speak real loud. OK, OK. We fine. Thank you. OK. I'm this court is wrong with it. I am not an attorney. And because of the actions of the defendant, I'm an indigent and I cannot afford it. That's why I have a fee waiver. This case was filed as a result of the Office of the Executiveist General. And with a preceded court, we're forced to defend it to stick to the matter that's all in this case only. Plenty of thousands of checks, all blacksmiths, preferton, this case, gotments D1 through D10 that was extracted from the original brief. The Tendentomian Exile was complaint with the Illinois Department of Insurance against field marketing organization. Health care submission team, health care submission team, supervisor manager and time management change. Now owned by all state. Field marketing organization supervises and oversee everything that agents do. Agents cannot work directly within the health companies. They must go through a field marketing organization. And then the Illinois Department of Insurance is the governing body. Defended Illinois Department of Insurance responded to my complaint against the defendants. And was sent a copy of the Illinois General Summit's thank you showing that all the policies that was written by health care solutions team and health care submission team, supervisor, were fraudulent policies. The Illinois Department of Insurance decided not to do anything and they sent me a letter December 3rd, 2014. And that's document P1 that you have. And it says that they found nothing wrong with the actions and the fraudulent insurance policies that was written on the plaintiff. The plaintiff filed a complaint with the EEOC Equal Employment Opportunity Commission and the Illinois Department of Human Rights because the Department of Insurance chose to not do anything in response to all the crimes that was committed against the plaintiff. When the plaintiff filed that complaint, the Illinois Department of Insurance retaliated against the plaintiff and charged them with check fraud by using a photo copy of one of the checks that was set in the complaint. The Illinois Department of Insurance filed a plaintiff guilty of check fraud which violates all ordinances and then they revoked the plaintiff's produces license that he had for over 20 years. If you google the plaintiff now, he comes up as a check board and that destroyed the life and integrity of the plaintiff. That's the three waivers. It also caused the plaintiff that was contacted by the Obama administration to assist with health care reform and wrote in a dendum and all Congress rejected and would not review any of that. The dendum written by the plaintiff would save this nation over $100 billion that totally paid for Obamacare. And no member of Congress would address that a dendum because of the actions of the defendant, Illinois Department of Insurance. The Human Rights and Equal Opportunity Commission questioned the legal authority of the Illinois Department of Insurance as it relates to check fraud. And office of the executive and executive general got involved. On September 1st, 2020, office of the executive general ordered the Illinois Department of Insurance to conduct a rehearing and that rehearing took place on September 1st. During the hearing, the Illinois Department of Insurance was asked to provide a complaint from anyone saying that the plaintiff had forged a check or altered a check. Illinois Department of Insurance provided no complaint because no complaint exists. And if you look at Illinois law, B5, on the documents provided, it clearly states that only prosecutors have the authority to prosecute individuals and entities which have fraud. So the defendant had no complaint and no authority to make any charges of set fraud according to Illinois law. No third parties can try to make charges. During the rehearing, the Illinois Department of Insurance was asked to provide a original document, the original check and pay attention to the author of the report. Illinois Department of Insurance could not provide any document because it didn't exist. Check's refund checks were sent to the address at Peter Benson, supervisor manager for health care solutions team. All refunds were sent there because of the address on the check had the jolly address of supervisor manager Peter Benson. And then those check were returned to Times of Sharon where they boarded them out. During the hearing, the Illinois Department of Insurance was asked to provide the five elements required by state of Illinois to prove check fraud. That's a D7, five elements necessary to prove check fraud. The Illinois Department of Insurance failed to provide any document, anything to prove any of the five elements required to prove check fraud. And lastly during the rehearing, the Illinois Department of Insurance was required was asked to provide records of any other Illinois insurance producer that the Illinois Department of Insurance had prosecuted for offering photo copies of refund checks. Illinois Department of Insurance could provide no other cases where anyone was prosecuted by Illinois Department of Insurance for check fraud using photo copies. And without any complaint, saying that check fraud was committed. On February 16, 2016, the Illinois Department of Insurance and the Fair Decision on the rehearing and found the plaintiff again liable and guilty of check fraud. And VHOs were the targeting check altering and found me liable without any authority, without any complaint, and without any original documents violating all Illinois laws. And they provided no records of anyone else being prosecuted ever by the Illinois Department of Insurance for check fraud when there was no check using photo copies that were sent to several different locations. In July of 2021, plaintiff found lawsuit 2021, L-00136 for charging Illinois Department of Insurance with malicious and false prosecution in DuPage County where the plaintiff was residing in crime and requested a free trial. The lower court refused to hear this case and did not allow jury and appears to be selected for this case. The plaintiff is asking this court to disbake that order to dismiss re-instate the case, force the defendant, Illinois Department of Insurance, re-instate the plaintiff's Illinois-Cupus license without lapse and award damages to the plaintiff from the defendant. For these false and illegal actions that defendant did completely destroy the life and reputation of the plaintiff. This court has copies of the document and documents provided to substantiate all claims by the plaintiff that was prepared and sent with this or argument so that the court can review them. Thank you. Any questions from the court? I do not. Thank you, Mr. Manny. You will have time and reply. Miss Omera? Yes, thank you. You may respond. Thank you. Good afternoon, Your Honors. May I please the court? My name is Assistant Attorney General Laura Omera. I'm a student at the Illinois Department of Insurance. Mr. Manny's complaint stems from the final administrative decision of the department to suspend his license based on its findings that he engaged in dishonest practices. Manny appealed that decision to the circuit court and to this court in 2018, both of which upheld the department's decision holding that there was ample support in the record for the department's decision. Since that time, Manny has filed several lawsuits against the department in which he continues to challenge the department's final administrative decision. His complaint was properly dismissed by the circuit court for several reasons. First, the circuit court lacked jurisdiction over this action because it was an improper collateral attack on a final administrative decision of the department. As I'm sure this court is aware, the circuit court has jurisdiction to review agency decisions only as provided by law and the administrative review law, which applies here under the Illinois insurance code, provides that a party may see review of an administrative decision only within the time and the manner prescribed by statute. Manny's initial administrative review action, which he properly brought pursuant to the administrative review law, was the only method for challenging the department's decision in 2015. Once that action concluded, any subsequent litigation such as Manny's complaint and due page county, is an improper collateral attack on the agency's decisions. The complaint is also barred by statute of caught out along the same lines. As we explained in our brief, the court has already addressed Manny's claims and the administrative review action. These are the same issues, the same parties, and Manny's complaint in this case is an attempt to re-litigate claims that have already been decided. Several immunity would also apply here to bar Mr. Manny's claims because the department has a state agency and he has not alleged any facts and has complained that would support the application of any exception to that doctrine. And finally, Mr. Manny has failed to state a claim because he has not alleged any specific facts and is complained that would support a claim of malicious prosecution or slanderer. I would like to respond to Mr. Manny's arguments about check fraud. He continues to argue that he was charged convicted found guilty of check fraud. But that is simply not the case. The department never charged him with check fraud or any other crime. The department found him guilty or found that he engaged in dishonest and untrustworthy practices under the Illinois insurance code, which the department does have the authority to suspend one's license. Under that statute. So these were entirely civil proceedings and his reference to the criminal code is misplaced. And I also wanted to touch on his comments about the 2020 re-hearing that was ordered by the inspector general. I'm not sure I don't, I'm the inspector general was not involved in this. As far as I'm aware, but in 2020 or in 2019, Mr. Manny applied for his license renewal. That application was denied because he there was evidence that he sold insurance policies during his 18 month suspension, as well as evidence that he responded to a few questions on the application. So it wasn't a re-hearing in 2020. It was just a hearing that he requested on the denial of his application. So that was an entirely separate proceeding and he seems to be blurring the lines a little bit between those two in 2021, 2020 again, no one charged him with check fraud. He was found to be again held responsible for engaging in a different set of dishonest and untrustworthy conduct. And so for those reasons, his application was denied in February of 2021, I believe. So I just want to know is it is it not true that yes, but that one of those practices was the alteration of a check set. Well, that was the basis for the 2015 final administrative decision was the altering of the check. That was not an issue at all with the 2020 proceedings. They were separate administrative proceedings. And Mr. Manny did not appeal the 2021 final administrative decision of the department. So they were two separate proceedings in 2015. Yes, he was found that it was found that he altered the check and that decision was appalled by this court and the decision and anyone. I think that's all I have on most of the court has any further questions. We stand on a brief and ask the court to affirm the dismissal of this complaint. Any questions from the bench. I'm assuming I answered my question. I do not. Thank you. Mr. Mr. Manny, you may reply. I'm not an officer of the executive panel does have a quality they do. And during the second hearing, and the second hearing was ordered September, the place September 1st, 2020. Now, he's saying that the altering of the check didn't take place. It's a letter you have back in the B8, dated January 17, 2020, from the Elemmon Department of Insurance. And it says right in circle there due to altering a premium refund check. That's what I was charged with. And they have no authority. They have no complaint saying that that took place. It was all fabricated by the Elemmon Department of Insurance. Totally fabricated. They have no complaint. That was during the during the rehearing. All those questions was asked of the Department of Insurance. They asked to provide a complaint. They couldn't do that. They asked to provide. They provide there are 40 to make charges, which are Illinois courts. They can't make charges. They have third party. They didn't provide that. It was at the past providing a genuine original document of the check. They couldn't do that. And they couldn't come up with one of the five elements necessary. That was asked during the rehearing on September 1, 2020. That was ordered by the office of the executive committee. And this letter, dated January 17, 2020, says just that due to altering a refund check. So that's what they did. They definitely charged me with that. They have no authority. They have no complaint. They have no documents. They fabricated this entire entire charge in retaliation for my charging them with the Equal Opportunity Commission and the Department of Human Rights. They have no authority according to Illinois law to make charges of check fraud altering checks. None. And they say internal investigation. There's no complaint to stimulate that. Someone had to say a check was altered or something by me. Didn't happen. The check in question was mailed to Peter Benson in Juliette and returned two times a shunner where they voted to check out. When the Illinois Department of Insurance saw that in my complaint. And they did nothing to these organizations for what they did for me. And sent a first letter saying we don't find anything wrong with them. Everything your account. Right in front of fraudulent insurance policies on you. I filed a complaint with the ELC and they did not like that. So they fabricated everything. They don't have one document again with a complaint against me. They don't have one document showing that they have an authority to make check fraud practice. She said they didn't do that. And you see right in this letter right here. It's circled due to altering a refund check. Right there on that letter, they did. And every document that I sent to you also has that exact information. That was why the rehearing was ordered by the office of the general that does have authority over the Illinois Department of Insurance. That's why I sent a copy of the office of the executive inspector and all of their authority. I sent that with this argument. So the facts are they fabricated everything. No complaint exists, no authority exists, no original document exists. And they didn't suspend to one element necessary to prove. Get all to your. Thank you. Thank you, Mr. Manny. Any questions from the bench for Mr. Manny? Welcome. The only question I had is as I did in the last case, I asked this court force to defend it to stick to this case. This case was filed in 2021. And in every case, everybody wants to talk about what happened before. When once again, no facts were provided and they prevail. This case was ordered by the executive office of the executive inspector. And this is the only case that should be. Mr. Manny, do you have any exhibits that verify that this was ordered by the office of the. Yes, general. There were documents in the. In your outline of your oral breed. And in outline of the. In both. And also, but a copy of the letter from the office of the executive. I think it's made it. 2021 saying that they've made their decision. We suggest you hire an attorney. Is made it. May fifth from the office of the executive. We suggest you hire an attorney because once again. They haven't shown any complaint. Any recording. They haven't shown any original documents. And they haven't. Said anything about the five elements necessary. And the letter dated me. May 20. May, I think it's. Is it was. Telling me. The higher the attorney. Is it says. Никit. Is a thing that. Once again, they didn't. One complaint. they have the 40 to make charges of cash cards, which is limited to the attorney general and state attorney. So they had no complaint, no authority, they didn't have one original document. And they say, well, you violated all these things. What rules are I violating? I didn't do any of that. And how can that happen? And like I said, it was all fabricated because they didn't like the complaint that I filed with the EEOC and the Department of Human Rights. That's why the Office of the Executive Committee sent me this saying, hey, we are just defined as an attorney, which I can't add up. Okay. Mr. Mani, Ms. O'Mara, thank you for your arguments in this matter this afternoon. It will be taken under advisement in a written disposition sale issue. The clerk of our court at this time will escort you out of our remote courtroom and have a good afternoon. Thank you."
      ],
      "text/plain": [
       "<IPython.core.display.Markdown object>"
      ]
     },
     "execution_count": 17,
     "metadata": {},
     "output_type": "execute_result"
    }
   ],
   "source": [
    "%%time\n",
    "model = whisper.load_model(\"base\")\n",
    "result = model.transcribe(f\"./data/audio/{name}.mp3\")\n",
    "Markdown(f\"{result['text']}\")"
   ]
  },
  {
   "cell_type": "code",
   "execution_count": 30,
   "metadata": {},
   "outputs": [],
   "source": [
    "def save_dict_to_txt_file(data_dict, file_name):\n",
    "    \"\"\"\n",
    "    Saves the 'text' value from a dictionary to a .txt file.\n",
    "\n",
    "    Args:\n",
    "    data_dict (dict): The dictionary containing the data.\n",
    "    file_name (str): The name of the .txt file to save the data to.\n",
    "    \"\"\"\n",
    "    # Get the 'text' value from the dictionary\n",
    "    text = data_dict.get('text', '')\n",
    "\n",
    "    # Clean the file name by removing spaces, punctuation, and special characters\n",
    "    file_name = re.sub(r'\\W+', '', file_name)\n",
    "\n",
    "    # Create 'transcriptions' directory if it doesn't exist\n",
    "    if not os.path.exists('data/transcriptions'):\n",
    "        os.makedirs('data/transcriptions')\n",
    "\n",
    "    # Open the file in write mode\n",
    "    with open(f\"data/transcriptions/{file_name}.txt\", 'w', encoding='utf-8') as file:\n",
    "        # Write the text to the file\n",
    "        file.write(text)\n",
    "\n",
    "    print(f\"Data saved to data/transcriptions/{file_name}.txt\")\n"
   ]
  },
  {
   "cell_type": "code",
   "execution_count": 2,
   "metadata": {},
   "outputs": [],
   "source": [
    "def read_text_from_txt_file(file_name):\n",
    "    \"\"\"\n",
    "    Reads the text from a .txt file.\n",
    "\n",
    "    Args:\n",
    "    file_name (str): The name of the .txt file to read the data from.\n",
    "    \n",
    "    Returns:\n",
    "    str: The text read from the file.\n",
    "    \"\"\"\n",
    "    # Check if the file exists\n",
    "    if not os.path.exists(f\"data/transcriptions/{file_name}.txt\"):\n",
    "        print(f\"File data/transcriptions/{file_name}.txt does not exist.\")\n",
    "        return None\n",
    "\n",
    "    # Open the file in read mode\n",
    "    with open(f\"data/transcriptions/{file_name}.txt\", 'r', encoding='utf-8') as file:\n",
    "        # Read the text from the file\n",
    "        text = file.read()\n",
    "\n",
    "    return text"
   ]
  },
  {
   "cell_type": "code",
   "execution_count": 32,
   "metadata": {},
   "outputs": [
    {
     "name": "stdout",
     "output_type": "stream",
     "text": [
      "Data saved to data/transcriptions/MannievIllinoisDepartmentofInsurance.txt\n"
     ]
    }
   ],
   "source": [
    "save_dict_to_txt_file(result, name)"
   ]
  },
  {
   "cell_type": "code",
   "execution_count": 7,
   "metadata": {},
   "outputs": [],
   "source": [
    "text = read_text_from_txt_file(\"MannievIllinoisDepartmentofInsurance\")"
   ]
  },
  {
   "cell_type": "code",
   "execution_count": 42,
   "metadata": {},
   "outputs": [],
   "source": [
    "import tiktoken\n",
    "\n",
    "def num_tokens_from_string(string: str, encoding_name: str) -> int:\n",
    "    \"\"\"Returns the number of tokens in a text string.\"\"\"\n",
    "    encoding = tiktoken.get_encoding(encoding_name)\n",
    "    num_tokens = len(encoding.encode(string))\n",
    "    return num_tokens"
   ]
  },
  {
   "cell_type": "code",
   "execution_count": 43,
   "metadata": {},
   "outputs": [
    {
     "data": {
      "text/plain": [
       "3573"
      ]
     },
     "execution_count": 43,
     "metadata": {},
     "output_type": "execute_result"
    }
   ],
   "source": [
    "num_tokens_from_string(text, \"cl100k_base\")"
   ]
  },
  {
   "cell_type": "code",
   "execution_count": 9,
   "metadata": {},
   "outputs": [],
   "source": [
    "text_splitter = CharacterTextSplitter.from_tiktoken_encoder(chunk_size=15000,chunk_overlap=0,separator=\"\\n\")\n",
    "\n",
    "def run_map_reduce(input_doc, MAP_PROMPT, REDUCE_PROMPT):\n",
    "\n",
    "    llm = ChatOpenAI(model_name=\"gpt-4-1106-preview\", temperature=0.1)\n",
    "    map_llm_chain = LLMChain(llm=llm, prompt=MAP_PROMPT)\n",
    "\n",
    "    llm = ChatOpenAI(model_name=\"gpt-4-1106-preview\", temperature=0.1)\n",
    "    reduce_llm_chain = LLMChain(llm=llm, prompt=REDUCE_PROMPT)\n",
    "\n",
    "    # Takes a list of documents and combines them into a single string\n",
    "    combine_documents_chain = StuffDocumentsChain(\n",
    "            llm_chain=reduce_llm_chain,\n",
    "            document_variable_name=\"text_summaries\")\n",
    "\n",
    "    # Combines and iteravely reduces the mapped documents\n",
    "    reduce_documents_chain = ReduceDocumentsChain(\n",
    "        # This is final chain that is called.\n",
    "        combine_documents_chain=combine_documents_chain,\n",
    "        # If documents exceed context for `combine_documents_chain`\n",
    "        collapse_documents_chain=combine_documents_chain,\n",
    "        # The maximum number of tokens to group documents into.\n",
    "        token_max=15000)\n",
    "\n",
    "    # Combining documents by mapping a chain over them, then combining results\n",
    "    combine_documents = MapReduceDocumentsChain(\n",
    "        # Map chain\n",
    "        llm_chain=map_llm_chain,\n",
    "        # Reduce chain\n",
    "        reduce_documents_chain=reduce_documents_chain,\n",
    "        # The variable name in the llm_chain to put the documents in\n",
    "        document_variable_name=\"text\",\n",
    "        # Return the results of the map steps in the output\n",
    "        return_intermediate_steps=False)\n",
    "\n",
    "    # Define Map=Reduce\n",
    "    map_reduce = MapReduceChain(\n",
    "        # Chain to combine documents\n",
    "        combine_documents_chain=combine_documents,\n",
    "        # Splitter to use for initial split\n",
    "        text_splitter=text_splitter)\n",
    "\n",
    "    return map_reduce.run(input_text=input_doc)"
   ]
  },
  {
   "cell_type": "code",
   "execution_count": 10,
   "metadata": {},
   "outputs": [],
   "source": [
    "map_template_string = \"\"\"Context: {text}\n",
    "As an expert legal analyst, review the Context which is part of an oral argument session and do three things:\n",
    "\n",
    "1. Identify the key facts of the case.\n",
    "2. Summarize plaintiff counsel's main arguments.\n",
    "3. Summarize rebuttals to plaintiff counsel's arguments.\n",
    "\"\"\"\n",
    "\n",
    "reduce_template_string = template = \"\"\"Context: {text_summaries}\n",
    "As an experienced legal analyst, use the context to:\n",
    "\n",
    "Compose a case brief using only the Context.\n",
    "Working step by step, organize the Context into a well-structured\n",
    "outline with the following sections:\n",
    "\n",
    "Facts of Loss: a concise sumary of facts and events relevant to this legal case.\n",
    "Issue: [the facts of the case being argued]\n",
    "Analysis: arguments\n",
    "   [\"Argument 1\": key points from a distinct argument,\n",
    "    \"Rebuttal 1\": key points from the rebuttal to argument 1,\n",
    "    \"Argument 2\": key points from a distinct argument,\n",
    "    \"Rebuttal 2\": key points from the rebuttal to argument 2,\n",
    "    \"Argument X\": ...,\n",
    "    \"Rebuttal X\": ...]\n",
    "Takeaway: the most important argument assertion and its corresponding rebuttal.\n",
    "TODO: optional list of knowledge gaps, or logical flaws in any of the arguments or their rebuttals.\n",
    "\"\"\"\n",
    "MAP_PROMPT = PromptTemplate(input_variables=[\"text\"], template=map_template_string)\n",
    "REDUCE_PROMPT = PromptTemplate(input_variables=[\"text_summaries\"], template=reduce_template_string)"
   ]
  },
  {
   "cell_type": "code",
   "execution_count": 11,
   "metadata": {},
   "outputs": [],
   "source": [
    "result = run_map_reduce(text, MAP_PROMPT, REDUCE_PROMPT)"
   ]
  },
  {
   "cell_type": "code",
   "execution_count": 12,
   "metadata": {},
   "outputs": [
    {
     "data": {
      "text/markdown": [
       "### Case Brief\n",
       "\n",
       "**Title:** Kenneth Armani v. Illinois Department of Insurance et al.\n",
       "\n",
       "**Facts of Loss:**\n",
       "Kenneth Armani, the appellant, is self-represented in a legal dispute against the Illinois Department of Insurance and associated parties. Armani, who held a producer's license for over 20 years, claims that the Department wrongfully accused him of check fraud and revoked his license. He alleges that this revocation was retaliatory, following his complaints to the EEOC and the Illinois Department of Human Rights. Armani argues that the Department lacked authority and evidence to charge him with check fraud and that their actions have severely damaged his life and reputation. He seeks to reverse the dismissal of his case, reinstate his license, and obtain damages.\n",
       "\n",
       "**Issue:**\n",
       "Whether the Illinois Department of Insurance wrongfully revoked Kenneth Armani's producer's license on the grounds of check fraud without proper authority or evidence, and whether the revocation was retaliatory in nature.\n",
       "\n",
       "**Analysis:**\n",
       "\n",
       "**Argument 1:** Armani contends that the Department of Insurance had no legal basis to charge him with check fraud, as they provided no original documents or evidence, and that the charges were fabricated.\n",
       "\n",
       "**Rebuttal 1:** Assistant Attorney General Laura O'Mara argues that the Department never criminally charged Armani with check fraud but found him engaged in dishonest practices under the civil provisions of the Illinois insurance code.\n",
       "\n",
       "**Argument 2:** Armani asserts that the Department's actions were in retaliation for his prior complaints to the EEOC and the Illinois Department of Human Rights.\n",
       "\n",
       "**Rebuttal 2:** O'Mara does not directly address the retaliation claim but focuses on the legitimacy of the administrative decisions and the separate proceedings related to Armani's license renewal.\n",
       "\n",
       "**Argument 3:** Armani points to the Office of the Executive Inspector General's order for a rehearing as evidence that the Department acted without proper authority.\n",
       "\n",
       "**Rebuttal 3:** O'Mara maintains that the circuit court lacked jurisdiction over Armani's action as it was an improper collateral attack on a final administrative decision.\n",
       "\n",
       "**Takeaway:**\n",
       "The most critical argument is Armani's claim that the Department had no legal basis to charge him with check fraud, which is directly countered by O'Mara's assertion that the Department found Armani engaged in dishonest practices under the Illinois insurance code, not criminal check fraud.\n",
       "\n",
       "**TODO:**\n",
       "- Verify the details of the Office of the Executive Inspector General's order for a rehearing and its implications on the case.\n",
       "- Clarify whether there is any evidence supporting Armani's retaliation claims.\n",
       "- Assess the validity of the jurisdiction argument presented by O'Mara and whether Armani's action is indeed an improper collateral attack on a final administrative decision.\n",
       "- Examine the specifics of the 2020 proceedings related to Armani's license renewal and the evidence of selling insurance policies during his suspension.\n",
       "- Determine the applicability of sovereign immunity in this case and whether Armani's claims for malicious prosecution or slander are barred by it."
      ],
      "text/plain": [
       "<IPython.core.display.Markdown object>"
      ]
     },
     "metadata": {},
     "output_type": "display_data"
    }
   ],
   "source": [
    "display(Markdown(f\"{result}\"))"
   ]
  },
  {
   "cell_type": "code",
   "execution_count": 13,
   "metadata": {},
   "outputs": [],
   "source": [
    "class CourtroomParty(BaseModel):\n",
    "    \"\"\"Identifying information about a person.\"\"\"\n",
    "    \n",
    "    person: str = Field(..., description=\"The name of the person speaking\")\n",
    "    role: Optional[str] = Field(None, description=\"The role of the person speaking\")\n",
    "    background: Optional[str] = Field(None, description=\"A concise summary about the person\")\n",
    "    \n",
    "\n",
    "class OralArgument(BaseModel):\n",
    "    \"\"\"Identifying information about a particular argument.\"\"\"\n",
    "    \n",
    "    topic: str = Field(..., description=\"A concise topic title for the argument\")\n",
    "    side: Optional[str] = Field(None, description=\"The side the argument favors, plaintiff or defense\")\n",
    "    person: Optional[str] = Field(None, description=\"The name of the person presenting the argument\")\n",
    "    summary: Optional[str] = Field(None, description=\"A concise summary of key points\")\n",
    "    \n",
    "\n",
    "class OralDocket(BaseModel):\n",
    "    \"\"\"Identifying information in a text.\"\"\"\n",
    "\n",
    "    parties: Sequence[CourtroomParty] = Field(..., description=\"The information of interest in the text\")\n",
    "    arguments: Sequence[OralArgument] = Field(..., description=\"The information of interest in the text\")"
   ]
  },
  {
   "cell_type": "code",
   "execution_count": 50,
   "metadata": {},
   "outputs": [],
   "source": [
    "text_splitter = RecursiveCharacterTextSplitter(\n",
    "    chunk_size = 3040,\n",
    "    chunk_overlap  = 0,\n",
    "    is_separator_regex = False,\n",
    ")"
   ]
  },
  {
   "cell_type": "code",
   "execution_count": 15,
   "metadata": {},
   "outputs": [],
   "source": [
    "loader = TextLoader(\"data/transcriptions/MannievIllinoisDepartmentofInsurance.txt\", encoding='utf-8')\n",
    "doc = loader.load()"
   ]
  },
  {
   "cell_type": "code",
   "execution_count": 16,
   "metadata": {},
   "outputs": [],
   "source": [
    "docs = text_splitter.split_documents(doc)"
   ]
  },
  {
   "cell_type": "code",
   "execution_count": 17,
   "metadata": {},
   "outputs": [],
   "source": [
    "llm = ChatOpenAI(model=\"gpt-4-1106-preview\", temperature=0)\n",
    "\n",
    "prompt = ChatPromptTemplate.from_messages(\n",
    "    [\n",
    "        (\n",
    "            \"system\",\n",
    "            \"You are a world class algorithm for extracting information in structured formats.\",\n",
    "        ),\n",
    "        (\n",
    "            \"human\",\n",
    "            \"Use the given format to extract information from the following input: {input}\",\n",
    "        ),\n",
    "        (\"human\", \"Tip: Make sure to answer in the correct format\"),\n",
    "    ]\n",
    ")"
   ]
  },
  {
   "cell_type": "code",
   "execution_count": 18,
   "metadata": {},
   "outputs": [],
   "source": [
    "runnable = create_structured_output_runnable(OralDocket, llm, prompt)"
   ]
  },
  {
   "cell_type": "code",
   "execution_count": 19,
   "metadata": {},
   "outputs": [],
   "source": [
    "res_doc = runnable.invoke({\"input\": doc})"
   ]
  },
  {
   "cell_type": "code",
   "execution_count": 20,
   "metadata": {},
   "outputs": [
    {
     "name": "stdout",
     "output_type": "stream",
     "text": [
      "parties=[CourtroomParty(person='Kenneth Armani', role='Senior Appellant', background=\"Indigent, cannot afford an attorney, has a fee waiver, filed a case as a result of actions by the Office of the Executive Inspector General, claims to have been retaliated against by the Illinois Department of Insurance with false charges of check fraud, resulting in the revocation of his producer's license.\"), CourtroomParty(person='Martin Grovy', role='Appellee', background=None), CourtroomParty(person='Helen Kim', role='Appellee', background=None), CourtroomParty(person='Patrick Riley', role='Appellee', background=None), CourtroomParty(person='Laura Omera', role='Assistant Attorney General', background=\"Representing the Illinois Department of Insurance, argues that Kenneth Armani's complaint was properly dismissed and that the department's actions were justified.\")] arguments=[OralArgument(topic='Fee Waiver and Indigence', side='Plaintiff', person='Kenneth Armani', summary='Kenneth Armani claims indigence and the inability to afford an attorney, which is why he has a fee waiver.'), OralArgument(topic='Retaliation and Check Fraud Charges', side='Plaintiff', person='Kenneth Armani', summary=\"Armani alleges that the Illinois Department of Insurance retaliated against him for filing complaints by falsely charging him with check fraud and revoking his producer's license.\"), OralArgument(topic='Lack of Authority and Evidence', side='Plaintiff', person='Kenneth Armani', summary='Armani argues that the Illinois Department of Insurance had no authority to charge him with check fraud, lacked a complaint, original documents, and failed to prove the necessary elements for check fraud.'), OralArgument(topic='Administrative Decision and License Suspension', side='Defense', person='Laura Omera', summary=\"Assistant Attorney General Laura Omera contends that the final administrative decision to suspend Armani's license was based on findings of dishonest practices and was upheld by previous courts.\"), OralArgument(topic='Jurisdiction and Statute of Limitations', side='Defense', person='Laura Omera', summary=\"Omera argues that the circuit court lacked jurisdiction over Armani's action as it was an improper collateral attack on a final administrative decision, and that the complaint is barred by the statute of limitations.\"), OralArgument(topic='Sovereign Immunity and Failure to State a Claim', side='Defense', person='Laura Omera', summary='Omera asserts that sovereign immunity applies to the department as a state agency, and that Armani failed to state a claim for malicious prosecution or slander.'), OralArgument(topic='Misrepresentation of Check Fraud Charges', side='Defense', person='Laura Omera', summary='Omera clarifies that Armani was not charged with check fraud but was found to have engaged in dishonest practices under the Illinois insurance code.'), OralArgument(topic='Separate Administrative Proceedings', side='Defense', person='Laura Omera', summary='Omera explains that the 2020 proceedings were separate from the 2015 decision and involved different allegations of dishonest conduct.')]\n"
     ]
    }
   ],
   "source": [
    "print(res_doc)"
   ]
  },
  {
   "cell_type": "code",
   "execution_count": null,
   "metadata": {},
   "outputs": [],
   "source": []
  },
  {
   "cell_type": "code",
   "execution_count": 146,
   "metadata": {},
   "outputs": [],
   "source": [
    "class CourtListenerExtractor:\n",
    "    def __init__(self, database_path, base_url=\"https://www.courtlistener.com/api/rest/v3/audio/\"):\n",
    "        \"\"\"\n",
    "        Initializes the CourtListenerExtractor with the path to the database file.\n",
    "\n",
    "        Args:\n",
    "        database_path (str): The path to the Excel file database.\n",
    "        \"\"\"\n",
    "        self.database_path = database_path\n",
    "        self.base_url=base_url\n",
    "\n",
    "    def fetch_records(self, start_page, end_page):\n",
    "        \"\"\"\n",
    "        Fetches records from Court Listener based on a page range.\n",
    "        \n",
    "        Args:\n",
    "        start_page (int): court listener web search start\n",
    "        end_page (int): court listener web search start\n",
    "\n",
    "        Returns:\n",
    "        pd.DataFrame: A DataFrame containing the fetched records.\n",
    "        \"\"\"\n",
    "        all_results = []\n",
    "        for page in tqdm(range(start_page, end_page + 1)):\n",
    "            url = f\"{self.base_url}?page={page}\"\n",
    "            data = self.fetch_page_(url)\n",
    "            all_results.extend(data[\"results\"])\n",
    "            time.sleep(1)\n",
    "        df = pd.DataFrame.from_records(all_results)\n",
    "        return df\n",
    "\n",
    "    def add_rows_to_excel(self, input_df):\n",
    "        # Convert lists to strings in input_df\n",
    "        input_df = input_df.applymap(lambda x: str(x) if isinstance(x, list) else x)\n",
    "        \n",
    "        existing_df = pd.DataFrame()\n",
    "        if os.path.exists(self.database_path):\n",
    "            # Load the existing data\n",
    "            existing_df = pd.read_excel(self.database_path)\n",
    "\n",
    "            # Convert lists to strings in existing_df\n",
    "            existing_df = existing_df.applymap(lambda x: str(x) if isinstance(x, list) else x)\n",
    "\n",
    "        # Concatenate the existing data with the new data\n",
    "        combined_df = pd.concat([existing_df, input_df])\n",
    "\n",
    "        # Remove the 'unique_index' column before removing duplicates\n",
    "        combined_df = combined_df.drop(columns=['unique_index'])\n",
    "\n",
    "        # Remove duplicates\n",
    "        final_df = combined_df.drop_duplicates()\n",
    "\n",
    "        # Reassign the 'unique_index' column\n",
    "        final_df['unique_index'] = range(1, len(final_df) + 1)\n",
    "\n",
    "        print(f\"Total number of rows: {len(final_df)}\")\n",
    "        print(f\"Number of new rows added: {len(final_df) - len(existing_df)}\")\n",
    "\n",
    "        # Write the data to the Excel file\n",
    "        final_df.to_excel(self.database_path, index=False)\n",
    "\n",
    "    def update_database(self, new_records):\n",
    "        \"\"\"\n",
    "        Updates the database with new records.\n",
    "\n",
    "        Args:\n",
    "        new_records (pd.DataFrame): New records to be added to the database.\n",
    "        \"\"\"\n",
    "        self.add_rows_to_excel(new_records)\n",
    "        \n",
    "    @backoff.on_exception(backoff.expo, (requests.exceptions.RequestException, requests.exceptions.HTTPError), max_tries=8)\n",
    "    def fetch_page_(self, url):\n",
    "        response = requests.get(url)\n",
    "        response.raise_for_status()  # Raises a HTTPError if the status is 4xx, 5xx\n",
    "        return response.json()\n",
    "    \n",
    "    def find_subset_with_keyword(self, keyword=\"insurance\"):\n",
    "        \"\"\"\n",
    "        Finds a subset of records containing a specific keyword.\n",
    "\n",
    "        Args:\n",
    "        keyword (str, optional): The keyword to search for. Defaults to \"insurance\".\n",
    "\n",
    "        Returns:\n",
    "        pd.DataFrame: A DataFrame containing the subset of records with the keyword.\n",
    "        \"\"\"\n",
    "        if not os.path.exists(self.database_path):\n",
    "            raise FileNotFoundError(f\"Database file {self.database_path} not found.\")\n",
    "\n",
    "        # Load the existing data\n",
    "        df = pd.read_excel(self.database_path)\n",
    "\n",
    "        # Finding the subset with the keyword\n",
    "        subset_df = df[df.apply(lambda row: row.astype(str).str.contains(keyword).any(), axis=1)]\n",
    "        print(f\"Records with keyword: {keyword}: {len(subset_df)}\")\n",
    "        \n",
    "        return subset_df\n",
    "\n",
    "# Example usage:\n",
    "# extractor = CourtListenerExtractor(\"path/to/database.xlsx\")\n",
    "# new_records = extractor.fetch_records(1, 11)\n",
    "# extractor.update_database(new_records)"
   ]
  },
  {
   "cell_type": "code",
   "execution_count": 129,
   "metadata": {},
   "outputs": [],
   "source": [
    "extractor = CourtListenerExtractor(\"database.xlsx\")"
   ]
  },
  {
   "cell_type": "code",
   "execution_count": 130,
   "metadata": {},
   "outputs": [
    {
     "name": "stderr",
     "output_type": "stream",
     "text": [
      "100%|██████████| 6/6 [00:08<00:00,  1.48s/it]\n"
     ]
    }
   ],
   "source": [
    "new_records = extractor.fetch_records(1, 6)"
   ]
  },
  {
   "cell_type": "code",
   "execution_count": 131,
   "metadata": {},
   "outputs": [
    {
     "data": {
      "text/html": [
       "<div>\n",
       "<style scoped>\n",
       "    .dataframe tbody tr th:only-of-type {\n",
       "        vertical-align: middle;\n",
       "    }\n",
       "\n",
       "    .dataframe tbody tr th {\n",
       "        vertical-align: top;\n",
       "    }\n",
       "\n",
       "    .dataframe thead th {\n",
       "        text-align: right;\n",
       "    }\n",
       "</style>\n",
       "<table border=\"1\" class=\"dataframe\">\n",
       "  <thead>\n",
       "    <tr style=\"text-align: right;\">\n",
       "      <th></th>\n",
       "      <th>resource_uri</th>\n",
       "      <th>id</th>\n",
       "      <th>absolute_url</th>\n",
       "      <th>panel</th>\n",
       "      <th>docket</th>\n",
       "      <th>date_created</th>\n",
       "      <th>date_modified</th>\n",
       "      <th>source</th>\n",
       "      <th>case_name_short</th>\n",
       "      <th>case_name</th>\n",
       "      <th>case_name_full</th>\n",
       "      <th>judges</th>\n",
       "      <th>sha1</th>\n",
       "      <th>download_url</th>\n",
       "      <th>local_path_mp3</th>\n",
       "      <th>local_path_original_file</th>\n",
       "      <th>filepath_ia</th>\n",
       "      <th>ia_upload_failure_count</th>\n",
       "      <th>duration</th>\n",
       "      <th>processing_complete</th>\n",
       "      <th>date_blocked</th>\n",
       "      <th>blocked</th>\n",
       "      <th>stt_status</th>\n",
       "      <th>stt_google_response</th>\n",
       "    </tr>\n",
       "  </thead>\n",
       "  <tbody>\n",
       "    <tr>\n",
       "      <th>0</th>\n",
       "      <td>https://www.courtlistener.com/api/rest/v3/audi...</td>\n",
       "      <td>89173</td>\n",
       "      <td>/audio/89173/appvion-inc-retirement-savin-v-do...</td>\n",
       "      <td>[]</td>\n",
       "      <td>https://www.courtlistener.com/api/rest/v3/dock...</td>\n",
       "      <td>2023-12-01T14:30:43.486459-08:00</td>\n",
       "      <td>2023-12-01T14:30:43.486469-08:00</td>\n",
       "      <td>C</td>\n",
       "      <td></td>\n",
       "      <td>Appvion, Inc. Retirement Savin v. Douglas Buth</td>\n",
       "      <td></td>\n",
       "      <td></td>\n",
       "      <td>f2922a7f6a7085a3a6047ab6cd64e73d5e2d2180</td>\n",
       "      <td>http://media.ca7.uscourts.gov/sound/external/k...</td>\n",
       "      <td>mp3/2023/12/01/appvion_inc._retirement_savin_v...</td>\n",
       "      <td>mp3/2023/12/01/appvion_inc._retirement_savin_v...</td>\n",
       "      <td></td>\n",
       "      <td>None</td>\n",
       "      <td>3738.0</td>\n",
       "      <td>True</td>\n",
       "      <td>None</td>\n",
       "      <td>False</td>\n",
       "      <td>0</td>\n",
       "      <td></td>\n",
       "    </tr>\n",
       "    <tr>\n",
       "      <th>1</th>\n",
       "      <td>https://www.courtlistener.com/api/rest/v3/audi...</td>\n",
       "      <td>89172</td>\n",
       "      <td>/audio/89172/denise-evans-v-united-states/</td>\n",
       "      <td>[]</td>\n",
       "      <td>https://www.courtlistener.com/api/rest/v3/dock...</td>\n",
       "      <td>2023-12-01T14:30:37.142049-08:00</td>\n",
       "      <td>2023-12-01T14:30:37.142060-08:00</td>\n",
       "      <td>C</td>\n",
       "      <td></td>\n",
       "      <td>Denise Evans v. United States</td>\n",
       "      <td></td>\n",
       "      <td></td>\n",
       "      <td>37fa42c525b70a19c7ededd868cb9219d0bac5c8</td>\n",
       "      <td>http://media.ca7.uscourts.gov/sound/external/k...</td>\n",
       "      <td>mp3/2023/12/01/denise_evans_v._united_states_c...</td>\n",
       "      <td>mp3/2023/12/01/denise_evans_v._united_states.mp3</td>\n",
       "      <td></td>\n",
       "      <td>None</td>\n",
       "      <td>1470.0</td>\n",
       "      <td>True</td>\n",
       "      <td>None</td>\n",
       "      <td>False</td>\n",
       "      <td>0</td>\n",
       "      <td></td>\n",
       "    </tr>\n",
       "  </tbody>\n",
       "</table>\n",
       "</div>"
      ],
      "text/plain": [
       "                                        resource_uri     id  \\\n",
       "0  https://www.courtlistener.com/api/rest/v3/audi...  89173   \n",
       "1  https://www.courtlistener.com/api/rest/v3/audi...  89172   \n",
       "\n",
       "                                        absolute_url panel  \\\n",
       "0  /audio/89173/appvion-inc-retirement-savin-v-do...    []   \n",
       "1         /audio/89172/denise-evans-v-united-states/    []   \n",
       "\n",
       "                                              docket  \\\n",
       "0  https://www.courtlistener.com/api/rest/v3/dock...   \n",
       "1  https://www.courtlistener.com/api/rest/v3/dock...   \n",
       "\n",
       "                       date_created                     date_modified source  \\\n",
       "0  2023-12-01T14:30:43.486459-08:00  2023-12-01T14:30:43.486469-08:00      C   \n",
       "1  2023-12-01T14:30:37.142049-08:00  2023-12-01T14:30:37.142060-08:00      C   \n",
       "\n",
       "  case_name_short                                       case_name  \\\n",
       "0                  Appvion, Inc. Retirement Savin v. Douglas Buth   \n",
       "1                                   Denise Evans v. United States   \n",
       "\n",
       "  case_name_full judges                                      sha1  \\\n",
       "0                        f2922a7f6a7085a3a6047ab6cd64e73d5e2d2180   \n",
       "1                        37fa42c525b70a19c7ededd868cb9219d0bac5c8   \n",
       "\n",
       "                                        download_url  \\\n",
       "0  http://media.ca7.uscourts.gov/sound/external/k...   \n",
       "1  http://media.ca7.uscourts.gov/sound/external/k...   \n",
       "\n",
       "                                      local_path_mp3  \\\n",
       "0  mp3/2023/12/01/appvion_inc._retirement_savin_v...   \n",
       "1  mp3/2023/12/01/denise_evans_v._united_states_c...   \n",
       "\n",
       "                            local_path_original_file filepath_ia  \\\n",
       "0  mp3/2023/12/01/appvion_inc._retirement_savin_v...               \n",
       "1   mp3/2023/12/01/denise_evans_v._united_states.mp3               \n",
       "\n",
       "  ia_upload_failure_count  duration  processing_complete date_blocked  \\\n",
       "0                    None    3738.0                 True         None   \n",
       "1                    None    1470.0                 True         None   \n",
       "\n",
       "   blocked  stt_status stt_google_response  \n",
       "0    False           0                      \n",
       "1    False           0                      "
      ]
     },
     "execution_count": 131,
     "metadata": {},
     "output_type": "execute_result"
    }
   ],
   "source": [
    "new_records.head(2)"
   ]
  },
  {
   "cell_type": "code",
   "execution_count": 132,
   "metadata": {},
   "outputs": [
    {
     "name": "stdout",
     "output_type": "stream",
     "text": [
      "Total number of rows: 340\n",
      "Number of new rows added: 120\n"
     ]
    }
   ],
   "source": [
    "extractor.update_database(new_records)"
   ]
  },
  {
   "cell_type": "code",
   "execution_count": 145,
   "metadata": {},
   "outputs": [],
   "source": [
    "class AudioTranscriber:\n",
    "    def __init__(self, download_path, text_output_path, model_name='base'):\n",
    "        self.download_path = download_path\n",
    "        self.text_output_path = text_output_path\n",
    "        self.transcription_model = whisper.load_model(model_name)\n",
    "        self._create_directory_if_not_exists(download_path)\n",
    "        self._create_directory_if_not_exists(text_output_path)\n",
    "\n",
    "    def _create_directory_if_not_exists(self, path):\n",
    "        if not os.path.exists(path):\n",
    "            os.makedirs(path)\n",
    "\n",
    "    def download_mp3(self, url, file_name, unique_index):\n",
    "        file_path = os.path.join(self.download_path, f\"{file_name}_{unique_index}.mp3\")\n",
    "        if os.path.exists(file_path):\n",
    "            print(f\"File {file_name}.mp3 already exists.\")\n",
    "            return file_path\n",
    "\n",
    "        try:\n",
    "            response = requests.get(url, stream=True)\n",
    "            response.raise_for_status()\n",
    "\n",
    "            with open(file_path, 'wb') as file:\n",
    "                for chunk in response.iter_content(chunk_size=8192):\n",
    "                    file.write(chunk)\n",
    "\n",
    "            print(f\"File downloaded and saved as {file_path}\")\n",
    "            return file_path\n",
    "        except requests.RequestException as e:\n",
    "            print(f\"An error occurred: {e}\")\n",
    "\n",
    "    def transcribe_audio(self, file_path):\n",
    "        result = self.transcription_model.transcribe(file_path)\n",
    "        return result['text']\n",
    "    \n",
    "    def save_transcription(self, text, file_name, unique_index):\n",
    "        text_file_path = os.path.join(self.text_output_path, f\"{file_name}_{unique_index}.txt\")\n",
    "        with open(text_file_path, 'w') as file:\n",
    "            file.write(text)\n",
    "        print(f\"Transcription saved as {text_file_path}\")\n",
    "\n",
    "    def read_transcription(self, file_name, unique_index):\n",
    "        text_file_path = os.path.join(self.text_output_path, f\"{file_name}_{unique_index}.txt\")\n",
    "        if not os.path.exists(text_file_path):\n",
    "            print(f\"No transcription file found for {file_name}\")\n",
    "            return None\n",
    "        with open(text_file_path, 'r') as file:\n",
    "            return file.read()\n",
    "\n",
    "    def process_batch(self, df):\n",
    "        for _, row in df.iterrows():\n",
    "            url = row['download_url']\n",
    "            name = re.sub(r'\\W+', '', row['case_name'])\n",
    "            unique_index = row['unique_index']\n",
    "            file_path = self.download_mp3(url, name, unique_index)\n",
    "            if file_path:\n",
    "                transcription = self.transcribe_audio(file_path)\n",
    "                self.save_transcription(transcription, name, unique_index)\n",
    "\n",
    "# Example usage:\n",
    "# audio_transcriber = AudioTranscriber('path/to/download', 'path/to/text_output')\n",
    "# extractor = CourtListenerExtractor(\"database.xlsx\")\n",
    "# df = extractor.fetch_records(1, 11)\n",
    "# audio_transcriber.process_batch(df)"
   ]
  },
  {
   "cell_type": "code",
   "execution_count": 137,
   "metadata": {},
   "outputs": [],
   "source": [
    "audio_transcriber = AudioTranscriber('audio', 'transcriptions')"
   ]
  },
  {
   "cell_type": "code",
   "execution_count": 138,
   "metadata": {},
   "outputs": [],
   "source": [
    "extractor = CourtListenerExtractor(\"database.xlsx\")"
   ]
  },
  {
   "cell_type": "code",
   "execution_count": null,
   "metadata": {},
   "outputs": [],
   "source": [
    "df = extractor.fetch_records(1, 11)"
   ]
  },
  {
   "cell_type": "code",
   "execution_count": 139,
   "metadata": {},
   "outputs": [],
   "source": [
    "insurance_cases = extractor.find_subset_with_keyword()"
   ]
  },
  {
   "cell_type": "code",
   "execution_count": 141,
   "metadata": {},
   "outputs": [
    {
     "data": {
      "text/html": [
       "<div>\n",
       "<style scoped>\n",
       "    .dataframe tbody tr th:only-of-type {\n",
       "        vertical-align: middle;\n",
       "    }\n",
       "\n",
       "    .dataframe tbody tr th {\n",
       "        vertical-align: top;\n",
       "    }\n",
       "\n",
       "    .dataframe thead th {\n",
       "        text-align: right;\n",
       "    }\n",
       "</style>\n",
       "<table border=\"1\" class=\"dataframe\">\n",
       "  <thead>\n",
       "    <tr style=\"text-align: right;\">\n",
       "      <th></th>\n",
       "      <th>resource_uri</th>\n",
       "      <th>id</th>\n",
       "      <th>absolute_url</th>\n",
       "      <th>panel</th>\n",
       "      <th>docket</th>\n",
       "      <th>date_created</th>\n",
       "      <th>date_modified</th>\n",
       "      <th>source</th>\n",
       "      <th>case_name_short</th>\n",
       "      <th>case_name</th>\n",
       "      <th>case_name_full</th>\n",
       "      <th>judges</th>\n",
       "      <th>sha1</th>\n",
       "      <th>download_url</th>\n",
       "      <th>local_path_mp3</th>\n",
       "      <th>local_path_original_file</th>\n",
       "      <th>filepath_ia</th>\n",
       "      <th>ia_upload_failure_count</th>\n",
       "      <th>duration</th>\n",
       "      <th>processing_complete</th>\n",
       "      <th>date_blocked</th>\n",
       "      <th>blocked</th>\n",
       "      <th>stt_status</th>\n",
       "      <th>stt_google_response</th>\n",
       "      <th>unique_index</th>\n",
       "    </tr>\n",
       "  </thead>\n",
       "  <tbody>\n",
       "    <tr>\n",
       "      <th>16</th>\n",
       "      <td>https://www.courtlistener.com/api/rest/v3/audi...</td>\n",
       "      <td>89157</td>\n",
       "      <td>/audio/89157/mannie-v-illinois-department-of-i...</td>\n",
       "      <td>[]</td>\n",
       "      <td>https://www.courtlistener.com/api/rest/v3/dock...</td>\n",
       "      <td>2023-11-30T14:54:57.601458-08:00</td>\n",
       "      <td>2023-12-01T01:38:54.934186-08:00</td>\n",
       "      <td>C</td>\n",
       "      <td>Mannie</td>\n",
       "      <td>Mannie v. Illinois Department of Insurance</td>\n",
       "      <td>NaN</td>\n",
       "      <td>NaN</td>\n",
       "      <td>efc0ffa7dcce6495ee918087d7d986f520f89168</td>\n",
       "      <td>https://ilcourtsaudio.blob.core.windows.net/an...</td>\n",
       "      <td>mp3/2023/11/30/mannie_v._illinois_department_o...</td>\n",
       "      <td>mp3/2023/11/30/mannie_v._illinois_department_o...</td>\n",
       "      <td>https://archive.org/download/gov.uscourts.illa...</td>\n",
       "      <td>NaN</td>\n",
       "      <td>1212.0</td>\n",
       "      <td>True</td>\n",
       "      <td>NaN</td>\n",
       "      <td>False</td>\n",
       "      <td>0</td>\n",
       "      <td>NaN</td>\n",
       "      <td>17</td>\n",
       "    </tr>\n",
       "    <tr>\n",
       "      <th>18</th>\n",
       "      <td>https://www.courtlistener.com/api/rest/v3/audi...</td>\n",
       "      <td>89155</td>\n",
       "      <td>/audio/89155/till-v-national-health-insurance-co/</td>\n",
       "      <td>[]</td>\n",
       "      <td>https://www.courtlistener.com/api/rest/v3/dock...</td>\n",
       "      <td>2023-11-30T14:54:52.407621-08:00</td>\n",
       "      <td>2023-12-01T02:00:48.933627-08:00</td>\n",
       "      <td>C</td>\n",
       "      <td>Till</td>\n",
       "      <td>Till v. National Health Insurance Co.</td>\n",
       "      <td>NaN</td>\n",
       "      <td>NaN</td>\n",
       "      <td>e4cceca79c20f86832d1eb77c122bfceb6597a77</td>\n",
       "      <td>https://ilcourtsaudio.blob.core.windows.net/an...</td>\n",
       "      <td>mp3/2023/11/30/till_v._national_health_insuran...</td>\n",
       "      <td>mp3/2023/11/30/till_v._national_health_insuran...</td>\n",
       "      <td>https://archive.org/download/gov.uscourts.illa...</td>\n",
       "      <td>NaN</td>\n",
       "      <td>2153.0</td>\n",
       "      <td>True</td>\n",
       "      <td>NaN</td>\n",
       "      <td>False</td>\n",
       "      <td>0</td>\n",
       "      <td>NaN</td>\n",
       "      <td>19</td>\n",
       "    </tr>\n",
       "  </tbody>\n",
       "</table>\n",
       "</div>"
      ],
      "text/plain": [
       "                                         resource_uri     id  \\\n",
       "16  https://www.courtlistener.com/api/rest/v3/audi...  89157   \n",
       "18  https://www.courtlistener.com/api/rest/v3/audi...  89155   \n",
       "\n",
       "                                         absolute_url panel  \\\n",
       "16  /audio/89157/mannie-v-illinois-department-of-i...    []   \n",
       "18  /audio/89155/till-v-national-health-insurance-co/    []   \n",
       "\n",
       "                                               docket  \\\n",
       "16  https://www.courtlistener.com/api/rest/v3/dock...   \n",
       "18  https://www.courtlistener.com/api/rest/v3/dock...   \n",
       "\n",
       "                        date_created                     date_modified source  \\\n",
       "16  2023-11-30T14:54:57.601458-08:00  2023-12-01T01:38:54.934186-08:00      C   \n",
       "18  2023-11-30T14:54:52.407621-08:00  2023-12-01T02:00:48.933627-08:00      C   \n",
       "\n",
       "   case_name_short                                   case_name  \\\n",
       "16          Mannie  Mannie v. Illinois Department of Insurance   \n",
       "18            Till       Till v. National Health Insurance Co.   \n",
       "\n",
       "    case_name_full judges                                      sha1  \\\n",
       "16             NaN    NaN  efc0ffa7dcce6495ee918087d7d986f520f89168   \n",
       "18             NaN    NaN  e4cceca79c20f86832d1eb77c122bfceb6597a77   \n",
       "\n",
       "                                         download_url  \\\n",
       "16  https://ilcourtsaudio.blob.core.windows.net/an...   \n",
       "18  https://ilcourtsaudio.blob.core.windows.net/an...   \n",
       "\n",
       "                                       local_path_mp3  \\\n",
       "16  mp3/2023/11/30/mannie_v._illinois_department_o...   \n",
       "18  mp3/2023/11/30/till_v._national_health_insuran...   \n",
       "\n",
       "                             local_path_original_file  \\\n",
       "16  mp3/2023/11/30/mannie_v._illinois_department_o...   \n",
       "18  mp3/2023/11/30/till_v._national_health_insuran...   \n",
       "\n",
       "                                          filepath_ia  \\\n",
       "16  https://archive.org/download/gov.uscourts.illa...   \n",
       "18  https://archive.org/download/gov.uscourts.illa...   \n",
       "\n",
       "    ia_upload_failure_count  duration  processing_complete  date_blocked  \\\n",
       "16                      NaN    1212.0                 True           NaN   \n",
       "18                      NaN    2153.0                 True           NaN   \n",
       "\n",
       "    blocked  stt_status  stt_google_response  unique_index  \n",
       "16    False           0                  NaN            17  \n",
       "18    False           0                  NaN            19  "
      ]
     },
     "execution_count": 141,
     "metadata": {},
     "output_type": "execute_result"
    }
   ],
   "source": [
    "insurance_cases.head(2)"
   ]
  },
  {
   "cell_type": "code",
   "execution_count": 142,
   "metadata": {},
   "outputs": [
    {
     "name": "stdout",
     "output_type": "stream",
     "text": [
      "File downloaded and saved as audio\\MannievIllinoisDepartmentofInsurance.mp3\n",
      "Transcription saved as transcriptions\\MannievIllinoisDepartmentofInsurance.txt\n",
      "File downloaded and saved as audio\\TillvNationalHealthInsuranceCo.mp3\n",
      "Transcription saved as transcriptions\\TillvNationalHealthInsuranceCo.txt\n",
      "CPU times: total: 41min 45s\n",
      "Wall time: 5min 23s\n"
     ]
    }
   ],
   "source": [
    "%%time\n",
    "audio_transcriber.process_batch(insurance_cases.head(2))"
   ]
  },
  {
   "cell_type": "code",
   "execution_count": null,
   "metadata": {},
   "outputs": [],
   "source": []
  },
  {
   "cell_type": "code",
   "execution_count": 150,
   "metadata": {},
   "outputs": [],
   "source": [
    "class OralDocketExtractor:\n",
    "    def __init__(self, model_name=\"gpt-4-1106-preview\"):\n",
    "        self.model = ChatOpenAI(model=model_name, temperature=0.1)\n",
    "\n",
    "    def process_document(self, document_path: str) -> OralDocket:\n",
    "        loader = TextLoader(document_path)\n",
    "        doc = loader.load()\n",
    "            \n",
    "        prompt = ChatPromptTemplate.from_messages(\n",
    "        [\n",
    "            (\n",
    "                \"system\",\n",
    "                \"You are a world class algorithm for extracting information in structured formats.\",\n",
    "            ),\n",
    "            (\n",
    "                \"human\",\n",
    "                \"Use the given format to extract information from the following input: {input}\",\n",
    "            ),\n",
    "            (\"human\", \"Tip: Make sure to answer in the correct format\"),\n",
    "        ]\n",
    "    )\n",
    "\n",
    "        runnable = create_structured_output_runnable(OralDocket, self.model, prompt)\n",
    "        result = runnable.invoke({\"input\": doc})\n",
    "        \n",
    "        # Extract unique_index from the filename\n",
    "        filename = os.path.basename(document_path)\n",
    "        unique_index = filename.split(\"_\")[-1].split(\".\")[0]\n",
    "        \n",
    "        return result, unique_index\n",
    "    \n",
    "    def save_to_excel(self, data: List[OralDocket], file_name: str, unique_index: int):\n",
    "        data_dicts = [instance.dict() for instance in data]\n",
    "\n",
    "        # Save 'parties' and 'arguments' to separate sheets\n",
    "        for key in ['parties', 'arguments']:\n",
    "            df_new = pd.concat([pd.json_normalize(data_dict[key]) for data_dict in data_dicts], ignore_index=True)\n",
    "            df_new['unique_index'] = unique_index  # Add the unique_index column\n",
    "            self.write_to_excel(df_new, key, file_name)\n",
    "\n",
    "    @staticmethod\n",
    "    def write_to_excel(df_new, sheet_name, file_name='court_whisperer_data.xlsx'):\n",
    "        if os.path.exists(file_name):\n",
    "            try:\n",
    "                # Attempt to read the existing sheet\n",
    "                df_old = pd.read_excel(file_name, sheet_name=sheet_name)\n",
    "                df = pd.concat([df_old, df_new]).drop_duplicates()\n",
    "            except ValueError:\n",
    "                # If the sheet does not exist, use the new dataframe as is\n",
    "                df = df_new\n",
    "\n",
    "            # Open the existing workbook using 'a' mode (append)\n",
    "            with pd.ExcelWriter(file_name, engine='openpyxl', mode='a', if_sheet_exists='replace') as writer:\n",
    "                # If the sheet exists, it will be overwritten\n",
    "                df.to_excel(writer, sheet_name=sheet_name, index=False)\n",
    "        else:\n",
    "            # Create a new file if it doesn't exist\n",
    "            df_new.to_excel(file_name, sheet_name=sheet_name, index=False)\n"
   ]
  },
  {
   "cell_type": "code",
   "execution_count": 147,
   "metadata": {},
   "outputs": [
    {
     "name": "stderr",
     "output_type": "stream",
     "text": [
      "100%|██████████| 21/21 [00:31<00:00,  1.50s/it]\n"
     ]
    },
    {
     "name": "stdout",
     "output_type": "stream",
     "text": [
      "Records with keyword: insurance: 11\n",
      "File downloaded and saved as audio\\MariaJimenezvTravelersCommercialInsurance_249.mp3\n",
      "Transcription saved as transcriptions\\MariaJimenezvTravelersCommercialInsurance_249.txt\n",
      "File downloaded and saved as audio\\NationalFireInsuranceCovSanchez_282.mp3\n",
      "Transcription saved as transcriptions\\NationalFireInsuranceCovSanchez_282.txt\n"
     ]
    }
   ],
   "source": [
    "# Example usage:\n",
    "audio_transcriber = AudioTranscriber('audio', 'transcriptions')\n",
    "extractor = CourtListenerExtractor(\"database.xlsx\")\n",
    "df = extractor.fetch_records(1, 21)\n",
    "insurance_cases = extractor.find_subset_with_keyword()\n",
    "audio_transcriber.process_batch(insurance_cases.tail(2))"
   ]
  },
  {
   "cell_type": "code",
   "execution_count": 152,
   "metadata": {},
   "outputs": [],
   "source": [
    "llm_processor = OralDocketExtractor()"
   ]
  },
  {
   "cell_type": "code",
   "execution_count": 153,
   "metadata": {},
   "outputs": [],
   "source": [
    "text_files = [\n",
    "    \"MariaJimenezvTravelersCommercialInsurance_249.txt\",\n",
    "    \"NationalFireInsuranceCovSanchez_282.txt\"\n",
    "]\n",
    "\n",
    "for text_file in text_files:\n",
    "    result, unique_index = llm_processor.process_document(f\"transcriptions/{text_file}\")\n",
    "    llm_processor.save_to_excel([result], \"output_file_v2.xlsx\", unique_index)"
   ]
  },
  {
   "cell_type": "code",
   "execution_count": 154,
   "metadata": {},
   "outputs": [],
   "source": [
    "df_parties = pd.read_excel(\"output_file_v2.xlsx\", sheet_name=\"parties\")\n",
    "df_arguments = pd.read_excel(\"output_file_v2.xlsx\", sheet_name=\"arguments\")"
   ]
  },
  {
   "cell_type": "code",
   "execution_count": 155,
   "metadata": {},
   "outputs": [
    {
     "name": "stdout",
     "output_type": "stream",
     "text": [
      "Shape of parties df: (10, 4)\n"
     ]
    },
    {
     "data": {
      "text/markdown": [
       "| person                         | role                 | background                                                                                                                                                                                                                                                      |   unique_index |\n",
       "|:-------------------------------|:---------------------|:----------------------------------------------------------------------------------------------------------------------------------------------------------------------------------------------------------------------------------------------------------------|---------------:|\n",
       "| Mr. Keifer                     | Defendant            | Resident of Illinois, involved in a legal dispute with Travelers Commercial Insurance regarding the removal of a state court citation to discover assets. An agreement was made with the plaintiffs for a judgment and a stipulation not to execute in Florida. |            249 |\n",
       "| Travelers Commercial Insurance | Defendant/Appellee   | Insurance company from Connecticut, involved in a legal dispute over the removal of a state court citation to discover assets and a subsequent answer under oath stating no property or monies belonging to the judgment debtor.                                |            249 |\n",
       "| Mr. Bustamante                 | Plaintiff's Counsel  | Representing the plaintiffs, arguing that the removal was improper and there was no independent controversy at the time of removal. Contends that the case should not have been removed and that the removal violated the forum defendant rule.                 |            249 |\n",
       "| Mr. Valentino                  | Defendant's Counsel  | Representing Travelers Commercial Insurance, arguing for the affirmation of the district court's decisions and maintaining that the removal of the state court citation to discover assets was appropriate.                                                     |            249 |\n",
       "| Margaret Esmechbriah           | Justice              | Presiding over the case National Fire Insurance Company versus Lewis Sanchez.                                                                                                                                                                                   |            282 |\n",
       "| Ellis                          | Justice              | nan                                                                                                                                                                                                                                                             |            282 |\n",
       "| Cops                           | Justice              | nan                                                                                                                                                                                                                                                             |            282 |\n",
       "| Brad Stavis                    | Appellant's Attorney | Represents the appellant Mr. Sanchez.                                                                                                                                                                                                                           |            282 |\n",
       "| Todd Shank                     | Appellee's Attorney  | On behalf of Appellee East Continental Insurance Company and National Fire Insurance Company of Hartford.                                                                                                                                                       |            282 |\n",
       "| Lewis Sanchez                  | Appellant            | Represented a class of individuals whose biometric information was collected and used by Visual Pack and Elite Staffing.                                                                                                                                        |            282 |"
      ],
      "text/plain": [
       "<IPython.core.display.Markdown object>"
      ]
     },
     "execution_count": 155,
     "metadata": {},
     "output_type": "execute_result"
    }
   ],
   "source": [
    "print(f\"Shape of parties df: {df_parties.shape}\")\n",
    "Markdown(f\"{df_parties.to_markdown(index=False)}\")"
   ]
  },
  {
   "cell_type": "code",
   "execution_count": 156,
   "metadata": {},
   "outputs": [
    {
     "name": "stdout",
     "output_type": "stream",
     "text": [
      "Shape of arguments df: (10, 5)\n"
     ]
    },
    {
     "data": {
      "text/markdown": [
       "| topic                                           | side      | person         | summary                                                                                                                                                                                                                                                                                                                                                            |   unique_index |\n",
       "|:------------------------------------------------|:----------|:---------------|:-------------------------------------------------------------------------------------------------------------------------------------------------------------------------------------------------------------------------------------------------------------------------------------------------------------------------------------------------------------------|---------------:|\n",
       "| Improper Removal                                | Plaintiff | Mr. Bustamante | Argues that the removal of the case was improper as there was no independent controversy to adjudicate at the time of removal, and it violated the forum defendant rule.                                                                                                                                                                                           |            249 |\n",
       "| No Independent Controversy                      | Plaintiff | Mr. Bustamante | Contends that there was no actual independent controversy issue at the time of removal since Travelers had not filed an answer to the citation, preventing the district court from determining if there was an independent controversy.                                                                                                                            |            249 |\n",
       "| Answer Under Oath                               | Plaintiff | Mr. Bustamante | Points out that Travelers' answer under oath stated it had no property or monies belonging to the judgment debtor, which should have ended the citation proceeding.                                                                                                                                                                                                |            249 |\n",
       "| Forum Defendant Rule                            | Plaintiff | Mr. Bustamante | Asserts that removal was also improper under the forum defendant rule because Mr. Keifer, a defendant in the case, is a resident of Illinois.                                                                                                                                                                                                                      |            249 |\n",
       "| Defense of Proper Removal                       | Defense   | Mr. Valentino  | Defends the removal of the case, stating that the district court correctly applied relevant decisions and that the citation to discover assets presents a separate action requiring its own basis for federal jurisdiction.                                                                                                                                        |            249 |\n",
       "| Summary Judgment Appropriateness                | Defense   | Mr. Valentino  | Argues that it was appropriate for the judge to rule by summary judgment in the citation proceeding and that the plaintiffs failed to establish a factual basis for a bad faith claim against Travelers.                                                                                                                                                           |            249 |\n",
       "| No Bad Faith Claim                              | Defense   | Mr. Valentino  | Maintains that the plaintiffs cannot establish a bad faith claim against Travelers as they failed to satisfy the necessary elements and did not provide evidence of Travelers acting in bad faith.                                                                                                                                                                 |            249 |\n",
       "| Application of Insurance Policy to BIPA Claim   | Appellant | Brad Stavis    | The case involves the application of an insurance policy to a claim brought under the Biometric Information Privacy Act (BIPA). The main issues are whether estoppel applies, preventing the insurance company from asserting exclusions in the policy, and whether there is coverage under the policy based on the West Bend versus Krzysztof Supreme Court case. |            282 |\n",
       "| Estoppel and Exclusions in Insurance Policy     | Appellant | Brad Stavis    | Argues that estoppel applies due to the insurance company's delay in action, which should prevent them from asserting any exclusions. Even if estoppel does not apply, the violation of law exclusion, which is central to the case, is argued to be ambiguous and should not prevent coverage.                                                                    |            282 |\n",
       "| BIPA Violations and Insurance Policy Exclusions | Appellee  | Todd Shank     | Claims that estoppel cannot apply unless there is a breach of duty to defend, which is not the case here due to clear exclusions that apply to the BIPA violations in the Sanchez lawsuit. Argues against the ambiguity of the catch-all in the violation of law exclusion and supports the trial court's judgment in favor of CNA.                                |            282 |"
      ],
      "text/plain": [
       "<IPython.core.display.Markdown object>"
      ]
     },
     "execution_count": 156,
     "metadata": {},
     "output_type": "execute_result"
    }
   ],
   "source": [
    "print(f\"Shape of arguments df: {df_arguments.shape}\")\n",
    "Markdown(f\"{df_arguments.to_markdown(index=False)}\")"
   ]
  },
  {
   "cell_type": "code",
   "execution_count": null,
   "metadata": {},
   "outputs": [],
   "source": []
  },
  {
   "cell_type": "code",
   "execution_count": null,
   "metadata": {},
   "outputs": [],
   "source": []
  },
  {
   "cell_type": "code",
   "execution_count": 61,
   "metadata": {},
   "outputs": [],
   "source": [
    "document_path = \"MariaJimenezvTravelersCommercialInsurance_249.txt\"\n",
    "\n",
    "loader = TextLoader(document_path)\n",
    "doc = loader.load()\n",
    "\n",
    "embeddings = OpenAIEmbeddings()\n",
    "db = Chroma.from_documents(docs, embeddings)\n",
    "\n",
    "retriever = db.as_retriever()\n",
    "\n",
    "template = \"\"\"Answer the question based only on the following context:\n",
    "\n",
    "{context}\n",
    "\n",
    "Question: {question}\n",
    "\"\"\"\n",
    "prompt = ChatPromptTemplate.from_template(template)\n",
    "model = ChatOpenAI(model=\"gpt-4-1106-preview\", temperature=0)\n",
    "\n",
    "\n",
    "def format_docs(docs):\n",
    "    return \"\\n\\n\".join([d.page_content for d in docs])\n",
    "\n",
    "\n",
    "chain = (\n",
    "    {\"context\": retriever | format_docs, \"question\": RunnablePassthrough()}\n",
    "    | prompt\n",
    "    | model\n",
    "    | StrOutputParser()\n",
    ")"
   ]
  },
  {
   "cell_type": "code",
   "execution_count": 62,
   "metadata": {},
   "outputs": [],
   "source": [
    "result = chain.invoke(\"Generate a well strucured list of legal arguments.\")"
   ]
  },
  {
   "cell_type": "code",
   "execution_count": 63,
   "metadata": {},
   "outputs": [
    {
     "data": {
      "text/markdown": [
       "Based on the provided context, here is a well-structured list of legal arguments that appear to be relevant to the case:\n",
       "\n",
       "1. **Breach of Contract Argument:**\n",
       "   - The argument that there is no breach of contract by Southwest because the contract allows for various ways Southwest can perform under the agreement.\n",
       "\n",
       "2. **Definition of Loss Argument:**\n",
       "   - The costs incurred that are covered by the first definition of loss are not limited to liabilities but also include voluntary decisions made by the policyholder as a result of the system failure.\n",
       "\n",
       "3. **Excessive Costs Argument:**\n",
       "   - The carrier has the right to argue that certain costs were excessive and not solely motivated by the system failure, and this can be presented to the fact-finder.\n",
       "\n",
       "4. **Historical Practice Argument:**\n",
       "   - Southwest's actions were consistent with its historical practices, and the benefits provided were in line with what it has historically used.\n",
       "\n",
       "5. **Comparative Value Argument:**\n",
       "   - The per passenger value of the benefits provided by Southwest was less than that provided by Delta in a similar situation, suggesting that the costs were reasonable.\n",
       "\n",
       "6. **Voluntary Decision Argument:**\n",
       "   - The policy covers voluntary decisions to incur negative consequences, as indicated by the etymology of the word \"incur.\"\n",
       "\n",
       "7. **Irrelevance of the Seventh Circuit Decision Argument:**\n",
       "   - The Seventh Circuit decision is immaterial to the case at hand as it dealt with a passenger's contract claim, not the insurance policy coverage.\n",
       "\n",
       "8. **Consequential Damages Argument:**\n",
       "   - The policy is presumed to exclude consequential damages that are not directly related to the covered occurrence.\n",
       "\n",
       "9. **First Impression Argument:**\n",
       "   - This case is of first impression, meaning there is no existing precedent directly on point, and the court's decision will set a new precedent.\n",
       "\n",
       "10. **Mitigation Costs Argument:**\n",
       "    - Costs incurred by a business to mitigate further losses due to a covered occurrence should be considered a covered loss under the policy.\n",
       "\n",
       "11. **Contractual Obligation Argument:**\n",
       "    - If certain actions are required by the contract of carriage (e.g., taking care of passengers affected by a system failure), they may be excluded from coverage under the liability to third parties exclusion.\n",
       "\n",
       "12. **Policy Exclusions Argument:**\n",
       "    - Exclusions in the policy serve to narrow down coverage and should be interpreted to subtract from coverage, not to render the policy illusory.\n",
       "\n",
       "13. **Policy Interpretation Argument:**\n",
       "    - The plain language of the policy should guide the interpretation, and the court should adhere to the clear meaning of the terms used in the policy.\n",
       "\n",
       "These arguments reflect the various positions and interpretations of the insurance policy and contractual obligations at issue in the case."
      ],
      "text/plain": [
       "<IPython.core.display.Markdown object>"
      ]
     },
     "execution_count": 63,
     "metadata": {},
     "output_type": "execute_result"
    }
   ],
   "source": [
    "Markdown(f\"{result}\")"
   ]
  },
  {
   "cell_type": "code",
   "execution_count": 64,
   "metadata": {},
   "outputs": [],
   "source": [
    "result_summary = chain.invoke(f\"Based on the following list of arguments, distill each side's most important points:\\n\\n{result}\")"
   ]
  },
  {
   "cell_type": "code",
   "execution_count": 65,
   "metadata": {},
   "outputs": [
    {
     "data": {
      "text/markdown": [
       "Based on the provided context, here are the most important points distilled from each side's arguments:\n",
       "\n",
       "**Southwest's Side:**\n",
       "\n",
       "1. **Breach of Contract Argument:**\n",
       "   - Southwest contends that there is no breach of contract as the contract allows for various performance methods.\n",
       "\n",
       "2. **Definition of Loss Argument:**\n",
       "   - Southwest argues that the definition of loss includes both liabilities and voluntary decisions made due to system failure.\n",
       "\n",
       "3. **Historical Practice Argument:**\n",
       "   - Southwest maintains that its mitigation actions were consistent with historical practices, suggesting they were reasonable and should be covered.\n",
       "\n",
       "4. **Voluntary Decision Argument:**\n",
       "   - The policy is argued to cover voluntary decisions to incur negative consequences, which is consistent with the etymology and common understanding of \"incur.\"\n",
       "\n",
       "5. **Irrelevance of the Seventh Circuit Decision Argument:**\n",
       "   - Southwest asserts that the Seventh Circuit decision is not relevant to the current case, which focuses on insurance policy coverage.\n",
       "\n",
       "6. **Mitigation Costs Argument:**\n",
       "   - Southwest believes that costs incurred to mitigate further losses due to a covered occurrence are covered losses under the policy.\n",
       "\n",
       "**Insurance Carrier's Side:**\n",
       "\n",
       "1. **Consequential Damages Argument:**\n",
       "   - The carrier argues that the policy excludes consequential damages that are not directly related to the covered occurrence.\n",
       "\n",
       "2. **First Impression Argument:**\n",
       "   - The carrier notes that the case is of first impression and will set a new precedent, implying the need for careful consideration of the policy's terms.\n",
       "\n",
       "3. **Contractual Obligation Argument:**\n",
       "   - The carrier suggests that actions required by the contract of carriage may be excluded from coverage under the liability to third parties exclusion.\n",
       "\n",
       "4. **Policy Exclusions Argument:**\n",
       "   - The carrier emphasizes that exclusions in the policy are meant to narrow coverage and should not be interpreted to render the policy illusory.\n",
       "\n",
       "5. **Policy Interpretation Argument:**\n",
       "   - The carrier insists on a plain language interpretation of the policy, adhering to the clear meaning of the terms used.\n",
       "\n",
       "Both sides present arguments related to the interpretation of the insurance policy, the definition of loss, and the relevance of contractual obligations and historical practices. The court's decision will hinge on the interpretation of these arguments and how they apply to the policy in question."
      ],
      "text/plain": [
       "<IPython.core.display.Markdown object>"
      ]
     },
     "execution_count": 65,
     "metadata": {},
     "output_type": "execute_result"
    }
   ],
   "source": [
    "Markdown(f\"{result_summary}\")"
   ]
  },
  {
   "cell_type": "code",
   "execution_count": 66,
   "metadata": {},
   "outputs": [],
   "source": [
    "plaintiff_summary = chain.invoke(\"Craft a summary of the plaintiff's most key arguments in logical step-by-step fashion.\")"
   ]
  },
  {
   "cell_type": "code",
   "execution_count": 67,
   "metadata": {},
   "outputs": [
    {
     "data": {
      "text/markdown": [
       "The plaintiff's key arguments can be summarized in a logical step-by-step fashion as follows:\n",
       "\n",
       "1. **Issue of Sole Causation**: The plaintiff argues that the central question of the case is whether expenses incurred voluntarily by a policyholder to mitigate the impact of a covered business interruption can be considered as incurred solely as a result of the interruption. The plaintiff contends that this is typically a factual matter to be determined by a jury.\n",
       "\n",
       "2. **Summary Judgment Challenge**: The plaintiff challenges the district court's summary judgment, which was based on the premise that voluntary mitigation expenses cannot be solely caused by a system failure due to the policyholder's business judgment being a concurrent cause. The plaintiff asserts that this judgment is erroneous.\n",
       "\n",
       "3. **Policy Text and Precedent**: The plaintiff suggests that the case should be decided by looking at the policy text and by drawing analogies to prior court precedents, particularly when there is no existing case law directly addressing the policy language in question.\n",
       "\n",
       "4. **Analogous Case - Wells vs. Minnesota Life Insurance**: The plaintiff cites the decision in Wells vs. Minnesota Life Insurance, where the court held that subsequent events stemming from an accidental injury do not necessarily sever the sole cause link for policy coverage. The plaintiff draws a parallel between this case and the current situation, arguing that the expenses were a direct result of the system failure.\n",
       "\n",
       "5. **Evidence of Sole Causation**: The plaintiff points to evidence, including testimony from decision-makers at Southwest, affirming that the compensation decisions were made solely because of the system failure. This evidence is presented to support the argument that the expenses should be covered by the insurance policy.\n",
       "\n",
       "6. **Nexus to System Failure**: The plaintiff addresses the concern about the nexus between the system failure and the compensation of individuals who did not travel during the interruption. The argument is that the compensation was linked to individual booking numbers, which could include up to eight passengers, thus establishing a connection to the system failure.\n",
       "\n",
       "7. **Fact Finder's Role**: The plaintiff argues that it is the role of the fact finder to determine whether the compensation was excessive or beyond what was necessary due to the system failure. The plaintiff suggests that the insurer has the right to argue this point before the fact finder.\n",
       "\n",
       "8. **Historical Business Practices**: The plaintiff asserts that the compensation provided was consistent with Southwest's historical practices, which is relevant to the policy's consideration of the insured's prior business experience.\n",
       "\n",
       "9. **Definition of \"Incurs\"**: The plaintiff emphasizes the meaning of the term \"incurs,\" arguing that it refers to a loss that an individual or entity brings upon itself, often voluntarily. This interpretation supports the plaintiff's view that the policy covers the expenses in question.\n",
       "\n",
       "10. **Irrelevance of the Seven Circuit Decision**: Finally, the plaintiff dismisses a Seven Circuit decision cited by the opposition as immaterial, stating that it pertained to a passenger's contract claim against Southwest and not to the insurance policy coverage issue at hand.\n",
       "\n",
       "The plaintiff concludes by requesting that the summary judgment be reversed, allowing the matter to be decided by a fact finder, as the evidence suggests that the expenses were indeed incurred solely as a result of the system failure."
      ],
      "text/plain": [
       "<IPython.core.display.Markdown object>"
      ]
     },
     "execution_count": 67,
     "metadata": {},
     "output_type": "execute_result"
    }
   ],
   "source": [
    "Markdown(f\"{plaintiff_summary}\")"
   ]
  },
  {
   "cell_type": "code",
   "execution_count": 70,
   "metadata": {},
   "outputs": [
    {
     "data": {
      "text/markdown": [
       "Counter Argument:\n",
       "\n",
       "- **Voluntary Mitigation vs. Sole Causation:**\n",
       "  - The plaintiff conflates voluntary mitigation efforts with expenses solely caused by the system failure. Voluntary actions may have multiple motivations beyond the immediate cause.\n",
       "  - The policy language likely distinguishes between actions taken solely due to the interruption and those that are part of broader business strategies, including goodwill gestures.\n",
       "\n",
       "- **Historical Practices Not Necessarily Relevant:**\n",
       "  - Past practices of offering benefits do not automatically justify current expenses as being solely caused by the system failure.\n",
       "  - The historical context provided by the plaintiff does not address whether the scale or scope of the mitigation efforts was proportionate to the interruption.\n",
       "\n",
       "- **Excessive Compensation Claims:**\n",
       "  - The plaintiff admits that the carrier could argue against excessive compensation, suggesting that there is a limit to what can be considered solely caused by the interruption.\n",
       "  - The example of lifetime travel for goodwill exceeds reasonable mitigation and indicates that there is a line where voluntary decisions are no longer solely due to the system failure.\n",
       "\n",
       "- **Fair Saver Program for Friends:**\n",
       "  - The inclusion of friends in the compensation package lacks a direct nexus to the system failure, as they were not affected passengers.\n",
       "  - The plaintiff's argument does not adequately address why non-traveling individuals should be compensated for an interruption they did not experience.\n",
       "\n",
       "- **Advertising Costs:**\n",
       "  - The plaintiff does not justify why a full week of advertising costs would be covered when only a day was lost, suggesting a lack of proportionality in the mitigation expenses.\n",
       "\n",
       "- **Seven Circuit Decision:**\n",
       "  - The plaintiff dismisses the Seven Circuit decision as immaterial, but it may provide insight into how contractual obligations are interpreted in relation to system failures and subsequent actions.\n",
       "\n",
       "- **Etymology of \"Incur\":**\n",
       "  - The plaintiff's reliance on the etymology of \"incur\" is not a strong legal argument. The policy terms and conditions, not the Latin root of words, should determine coverage.\n",
       "\n",
       "- **Lack of Precedent:**\n",
       "  - The plaintiff acknowledges the absence of precedent in the business interruption context, which suggests that the court should be cautious in extending coverage to voluntary mitigation expenses without clear guidance.\n",
       "\n",
       "- **Fact Finder's Role:**\n",
       "  - The plaintiff's argument that all issues should go to the fact finder overlooks the possibility that some issues may be decided as a matter of law if the policy language is clear.\n",
       "\n",
       "- **Policy Interpretation:**\n",
       "  - The plaintiff's interpretation of the policy may be overly broad, potentially leading to coverage for actions that extend beyond the intent of the policy and the reasonable expectations of the insurer."
      ],
      "text/plain": [
       "<IPython.core.display.Markdown object>"
      ]
     },
     "execution_count": 70,
     "metadata": {},
     "output_type": "execute_result"
    }
   ],
   "source": [
    "defense_summary = chain.invoke(\"Using the following arguments, craft a concise, methodical, fact-focused counter argument as a bullet point list. Look for errors and omissions in the plaintiff logic:\\n\\n{plaintiff_summary}\")\n",
    "Markdown(f\"{defense_summary}\")"
   ]
  },
  {
   "cell_type": "code",
   "execution_count": 71,
   "metadata": {},
   "outputs": [
    {
     "data": {
      "text/markdown": [
       "The discussion revolves around a 'system failure' experienced by Southwest Airlines and the subsequent insurance coverage dispute. The system failure led to significant disruptions, including the stranding of approximately 400,000 passengers. Southwest made a series of decisions to mitigate the impact on customers, which included offering refunds, vouchers, and other gestures of goodwill. These decisions were not legally mandated but were made unilaterally by Southwest as a business judgment to maintain customer relations and goodwill.\n",
       "\n",
       "The crux of the argument is whether these voluntary, goodwill measures taken by Southwest in response to the system failure are covered under their business interruption insurance policy. The policy specifies coverage for losses \"solely as a result of the system failure,\" which has become a point of contention. Southwest argues that all the customer compensation decisions were undertaken solely because of the system failure, suggesting that these should be covered by the insurance.\n",
       "\n",
       "The insurer, on the other hand, contends that the measures go beyond what is covered by the policy. They argue that the policy is intended to put the insured in the position they would have been in if the system failure had not occurred, and does not cover the downstream effects such as PR or customer goodwill measures. The insurer maintains that the policy does not cover costs that are not a direct necessity or that go beyond restoring the company to the position it was in before the system failure.\n",
       "\n",
       "The discussion also touches on the nature of the benefits provided to customers, including the 'Fair Saver' promo codes, which were linked to individual booking numbers and could cover up to eight passengers. The insurer challenges the nexus between these benefits and the system failure, particularly for passengers who did not travel during the disruption. Southwest defends this by stating that the actual usage of the benefits resulted in an average of 1.5 tickets per promo code, and that these measures were consistent with their historical practices in similar situations.\n",
       "\n",
       "The debate also includes a legal analysis of what constitutes a loss that is \"incurred\" under the policy, with Southwest's counsel pointing to the etymology of the word \"incur\" to argue that it implies a self-inflicted negative consequence, which should be covered by the policy.\n",
       "\n",
       "The court is tasked with determining whether the voluntary measures taken by Southwest are indeed covered losses under the insurance policy, considering the policy's language and the intent behind the business interruption coverage. The insurer suggests that the court's role is to differentiate between out-of-pocket costs directly associated with the system failure and benefits that may extend beyond that scope. The outcome of this dispute will hinge on the interpretation of the policy language and the factual circumstances surrounding the system failure and Southwest's response."
      ],
      "text/plain": [
       "<IPython.core.display.Markdown object>"
      ]
     },
     "execution_count": 71,
     "metadata": {},
     "output_type": "execute_result"
    }
   ],
   "source": [
    "system_failure = chain.invoke(\"Generate a detailed and comprehensive summary of the 'system failure' being argued. Include facts and quotes as needed to.\")\n",
    "Markdown(f\"{system_failure}\")"
   ]
  },
  {
   "cell_type": "code",
   "execution_count": null,
   "metadata": {},
   "outputs": [],
   "source": []
  }
 ],
 "metadata": {
  "kernelspec": {
   "display_name": ".venv",
   "language": "python",
   "name": "python3"
  },
  "language_info": {
   "codemirror_mode": {
    "name": "ipython",
    "version": 3
   },
   "file_extension": ".py",
   "mimetype": "text/x-python",
   "name": "python",
   "nbconvert_exporter": "python",
   "pygments_lexer": "ipython3",
   "version": "3.10.13"
  }
 },
 "nbformat": 4,
 "nbformat_minor": 2
}
