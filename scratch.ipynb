{
 "cells": [
  {
   "cell_type": "code",
   "execution_count": 1,
   "metadata": {},
   "outputs": [],
   "source": [
    "import os\n",
    "import requests\n",
    "import json\n",
    "from tqdm import tqdm\n",
    "import re\n",
    "import pandas as pd\n",
    "from pandas import json_normalize\n",
    "import time\n",
    "from dotenv import load_dotenv\n",
    "load_dotenv()\n",
    "import openai\n",
    "# from openai import OpenAI\n",
    "import whisper\n",
    "from langchain.chat_models import ChatOpenAI\n",
    "from langchain.prompts import ChatPromptTemplate\n",
    "from langchain.schema import StrOutputParser\n",
    "from langchain.schema.runnable import RunnablePassthrough\n",
    "from langchain.embeddings import OpenAIEmbeddings\n",
    "from langchain.vectorstores import Chroma\n",
    "from langchain.prompts import PromptTemplate, ChatPromptTemplate\n",
    "from langchain.schema import Document\n",
    "from langchain.text_splitter import CharacterTextSplitter\n",
    "from langchain.chains.mapreduce import MapReduceChain\n",
    "from langchain.chains import (\n",
    "                StuffDocumentsChain,\n",
    "                LLMChain,\n",
    "                ReduceDocumentsChain,\n",
    "                MapReduceDocumentsChain,\n",
    "            )\n",
    "from langchain.text_splitter import RecursiveCharacterTextSplitter\n",
    "from langchain.chains.openai_functions import (\n",
    "    create_structured_output_runnable,\n",
    ")\n",
    "from pydantic import BaseModel, Field\n",
    "from typing import List, Optional\n",
    "from typing import Sequence\n",
    "from langchain.pydantic_v1 import BaseModel, Field\n",
    "from langchain.document_loaders import TextLoader\n",
    "from IPython.display import Markdown, display\n",
    "import warnings\n",
    "warnings.filterwarnings('ignore')\n",
    "pd.set_option('display.max_columns', None)"
   ]
  },
  {
   "cell_type": "code",
   "execution_count": 2,
   "metadata": {},
   "outputs": [],
   "source": [
    "import backoff\n",
    "from tqdm import tqdm\n",
    "\n",
    "@backoff.on_exception(backoff.expo, (requests.exceptions.RequestException, requests.exceptions.HTTPError), max_tries=8)\n",
    "def fetch_page(url):\n",
    "    response = requests.get(url)\n",
    "    response.raise_for_status()  # Raises a HTTPError if the status is 4xx, 5xx\n",
    "    return response.json()\n",
    "\n",
    "def fetch_audio_data(base_url, start_page, end_page):\n",
    "    all_results = []\n",
    "    for page in tqdm(range(start_page, end_page + 1)):\n",
    "        url = f\"{base_url}?page={page}\"\n",
    "        data = fetch_page(url)\n",
    "        all_results.extend(data[\"results\"])\n",
    "        time.sleep(1)\n",
    "    df = pd.DataFrame.from_records(all_results)\n",
    "    return df\n"
   ]
  },
  {
   "cell_type": "code",
   "execution_count": 3,
   "metadata": {},
   "outputs": [
    {
     "name": "stderr",
     "output_type": "stream",
     "text": [
      "100%|██████████| 10/10 [00:15<00:00,  1.54s/it]\n"
     ]
    }
   ],
   "source": [
    "# Define the URL for the audio endpoint\n",
    "base_url = \"https://www.courtlistener.com/api/rest/v3/audio/\"\n",
    "\n",
    "# Call the function to fetch the data\n",
    "df = fetch_audio_data(base_url, 1, 10)"
   ]
  },
  {
   "cell_type": "code",
   "execution_count": 4,
   "metadata": {},
   "outputs": [
    {
     "data": {
      "text/plain": [
       "(200, 24)"
      ]
     },
     "execution_count": 4,
     "metadata": {},
     "output_type": "execute_result"
    }
   ],
   "source": [
    "df.shape"
   ]
  },
  {
   "cell_type": "code",
   "execution_count": 5,
   "metadata": {},
   "outputs": [
    {
     "data": {
      "text/html": [
       "<div>\n",
       "<style scoped>\n",
       "    .dataframe tbody tr th:only-of-type {\n",
       "        vertical-align: middle;\n",
       "    }\n",
       "\n",
       "    .dataframe tbody tr th {\n",
       "        vertical-align: top;\n",
       "    }\n",
       "\n",
       "    .dataframe thead th {\n",
       "        text-align: right;\n",
       "    }\n",
       "</style>\n",
       "<table border=\"1\" class=\"dataframe\">\n",
       "  <thead>\n",
       "    <tr style=\"text-align: right;\">\n",
       "      <th></th>\n",
       "      <th>resource_uri</th>\n",
       "      <th>id</th>\n",
       "      <th>absolute_url</th>\n",
       "      <th>panel</th>\n",
       "      <th>docket</th>\n",
       "      <th>date_created</th>\n",
       "      <th>date_modified</th>\n",
       "      <th>source</th>\n",
       "      <th>case_name_short</th>\n",
       "      <th>case_name</th>\n",
       "      <th>case_name_full</th>\n",
       "      <th>judges</th>\n",
       "      <th>sha1</th>\n",
       "      <th>download_url</th>\n",
       "      <th>local_path_mp3</th>\n",
       "      <th>local_path_original_file</th>\n",
       "      <th>filepath_ia</th>\n",
       "      <th>ia_upload_failure_count</th>\n",
       "      <th>duration</th>\n",
       "      <th>processing_complete</th>\n",
       "      <th>date_blocked</th>\n",
       "      <th>blocked</th>\n",
       "      <th>stt_status</th>\n",
       "      <th>stt_google_response</th>\n",
       "    </tr>\n",
       "  </thead>\n",
       "  <tbody>\n",
       "    <tr>\n",
       "      <th>0</th>\n",
       "      <td>https://www.courtlistener.com/api/rest/v3/audi...</td>\n",
       "      <td>89939</td>\n",
       "      <td>/audio/89939/masters-v-illinois-workers-compen...</td>\n",
       "      <td>[]</td>\n",
       "      <td>https://www.courtlistener.com/api/rest/v3/dock...</td>\n",
       "      <td>2023-12-20T14:31:48.524985-08:00</td>\n",
       "      <td>2023-12-21T01:26:55.575546-08:00</td>\n",
       "      <td>C</td>\n",
       "      <td>Masters</td>\n",
       "      <td>Masters v. Illinois Workers' Compensation Comm'n</td>\n",
       "      <td></td>\n",
       "      <td></td>\n",
       "      <td>aef1e535d8af2ec5412662f42ef5fb697c70b0d6</td>\n",
       "      <td>https://ilcourtsaudio.blob.core.windows.net/an...</td>\n",
       "      <td>mp3/2023/12/20/masters_v._illinois_workers_com...</td>\n",
       "      <td>mp3/2023/12/20/masters_v._illinois_workers_com...</td>\n",
       "      <td>https://archive.org/download/gov.uscourts.illa...</td>\n",
       "      <td>None</td>\n",
       "      <td>1801.0</td>\n",
       "      <td>True</td>\n",
       "      <td>None</td>\n",
       "      <td>False</td>\n",
       "      <td>0</td>\n",
       "      <td></td>\n",
       "    </tr>\n",
       "    <tr>\n",
       "      <th>1</th>\n",
       "      <td>https://www.courtlistener.com/api/rest/v3/audi...</td>\n",
       "      <td>89938</td>\n",
       "      <td>/audio/89938/osman-v-illinois-workers-compensa...</td>\n",
       "      <td>[]</td>\n",
       "      <td>https://www.courtlistener.com/api/rest/v3/dock...</td>\n",
       "      <td>2023-12-20T14:31:43.921858-08:00</td>\n",
       "      <td>2023-12-21T01:26:30.037146-08:00</td>\n",
       "      <td>C</td>\n",
       "      <td>Osman</td>\n",
       "      <td>Osman v. Illinois Workers' Compensation Comm'n</td>\n",
       "      <td></td>\n",
       "      <td></td>\n",
       "      <td>5008a589d4daaed1b80c849cd5f063d4976d6eae</td>\n",
       "      <td>https://ilcourtsaudio.blob.core.windows.net/an...</td>\n",
       "      <td>mp3/2023/12/20/osman_v._illinois_workers_compe...</td>\n",
       "      <td>mp3/2023/12/20/osman_v._illinois_workers_compe...</td>\n",
       "      <td>https://archive.org/download/gov.uscourts.illa...</td>\n",
       "      <td>None</td>\n",
       "      <td>1884.0</td>\n",
       "      <td>True</td>\n",
       "      <td>None</td>\n",
       "      <td>False</td>\n",
       "      <td>0</td>\n",
       "      <td></td>\n",
       "    </tr>\n",
       "    <tr>\n",
       "      <th>2</th>\n",
       "      <td>https://www.courtlistener.com/api/rest/v3/audi...</td>\n",
       "      <td>89937</td>\n",
       "      <td>/audio/89937/smithfield-foods-inc-v-illinois-w...</td>\n",
       "      <td>[]</td>\n",
       "      <td>https://www.courtlistener.com/api/rest/v3/dock...</td>\n",
       "      <td>2023-12-20T14:31:36.315398-08:00</td>\n",
       "      <td>2023-12-21T01:26:29.022593-08:00</td>\n",
       "      <td>C</td>\n",
       "      <td></td>\n",
       "      <td>Smithfield Foods, Inc. v. Illinois Workers' Co...</td>\n",
       "      <td></td>\n",
       "      <td></td>\n",
       "      <td>3e1f0e82a9cabd1847749f6e5a2fed6068f8d2df</td>\n",
       "      <td>https://ilcourtsaudio.blob.core.windows.net/an...</td>\n",
       "      <td>mp3/2023/12/20/smithfield_foods_inc._v._illino...</td>\n",
       "      <td>mp3/2023/12/20/smithfield_foods_inc._v._illino...</td>\n",
       "      <td>https://archive.org/download/gov.uscourts.illa...</td>\n",
       "      <td>None</td>\n",
       "      <td>1606.0</td>\n",
       "      <td>True</td>\n",
       "      <td>None</td>\n",
       "      <td>False</td>\n",
       "      <td>0</td>\n",
       "      <td></td>\n",
       "    </tr>\n",
       "    <tr>\n",
       "      <th>3</th>\n",
       "      <td>https://www.courtlistener.com/api/rest/v3/audi...</td>\n",
       "      <td>89936</td>\n",
       "      <td>/audio/89936/walsh-v-illinois-workers-compensa...</td>\n",
       "      <td>[]</td>\n",
       "      <td>https://www.courtlistener.com/api/rest/v3/dock...</td>\n",
       "      <td>2023-12-20T10:31:47.005867-08:00</td>\n",
       "      <td>2023-12-21T01:26:32.074850-08:00</td>\n",
       "      <td>C</td>\n",
       "      <td>Walsh</td>\n",
       "      <td>Walsh v. Illinois Workers' Compensation Comm'n</td>\n",
       "      <td></td>\n",
       "      <td></td>\n",
       "      <td>1665f4d14a2b47578fcfc007e0d1ebb4f6575f73</td>\n",
       "      <td>https://ilcourtsaudio.blob.core.windows.net/an...</td>\n",
       "      <td>mp3/2023/12/19/walsh_v._illinois_workers_compe...</td>\n",
       "      <td>mp3/2023/12/19/walsh_v._illinois_workers_compe...</td>\n",
       "      <td>https://archive.org/download/gov.uscourts.illa...</td>\n",
       "      <td>None</td>\n",
       "      <td>1354.0</td>\n",
       "      <td>True</td>\n",
       "      <td>None</td>\n",
       "      <td>False</td>\n",
       "      <td>0</td>\n",
       "      <td></td>\n",
       "    </tr>\n",
       "    <tr>\n",
       "      <th>4</th>\n",
       "      <td>https://www.courtlistener.com/api/rest/v3/audi...</td>\n",
       "      <td>89935</td>\n",
       "      <td>/audio/89935/cronk-v-illinois-workers-compensa...</td>\n",
       "      <td>[]</td>\n",
       "      <td>https://www.courtlistener.com/api/rest/v3/dock...</td>\n",
       "      <td>2023-12-20T10:31:43.251363-08:00</td>\n",
       "      <td>2023-12-21T01:26:27.937690-08:00</td>\n",
       "      <td>C</td>\n",
       "      <td>Cronk</td>\n",
       "      <td>Cronk v. Illinois Workers' Compensation Comm'n</td>\n",
       "      <td></td>\n",
       "      <td></td>\n",
       "      <td>0273d05d71117d096d4c2274a50bb195a8e793fb</td>\n",
       "      <td>https://ilcourtsaudio.blob.core.windows.net/an...</td>\n",
       "      <td>mp3/2023/12/20/cronk_v._illinois_workers_compe...</td>\n",
       "      <td>mp3/2023/12/20/cronk_v._illinois_workers_compe...</td>\n",
       "      <td>https://archive.org/download/gov.uscourts.illa...</td>\n",
       "      <td>None</td>\n",
       "      <td>2244.0</td>\n",
       "      <td>True</td>\n",
       "      <td>None</td>\n",
       "      <td>False</td>\n",
       "      <td>0</td>\n",
       "      <td></td>\n",
       "    </tr>\n",
       "  </tbody>\n",
       "</table>\n",
       "</div>"
      ],
      "text/plain": [
       "                                        resource_uri     id  \\\n",
       "0  https://www.courtlistener.com/api/rest/v3/audi...  89939   \n",
       "1  https://www.courtlistener.com/api/rest/v3/audi...  89938   \n",
       "2  https://www.courtlistener.com/api/rest/v3/audi...  89937   \n",
       "3  https://www.courtlistener.com/api/rest/v3/audi...  89936   \n",
       "4  https://www.courtlistener.com/api/rest/v3/audi...  89935   \n",
       "\n",
       "                                        absolute_url panel  \\\n",
       "0  /audio/89939/masters-v-illinois-workers-compen...    []   \n",
       "1  /audio/89938/osman-v-illinois-workers-compensa...    []   \n",
       "2  /audio/89937/smithfield-foods-inc-v-illinois-w...    []   \n",
       "3  /audio/89936/walsh-v-illinois-workers-compensa...    []   \n",
       "4  /audio/89935/cronk-v-illinois-workers-compensa...    []   \n",
       "\n",
       "                                              docket  \\\n",
       "0  https://www.courtlistener.com/api/rest/v3/dock...   \n",
       "1  https://www.courtlistener.com/api/rest/v3/dock...   \n",
       "2  https://www.courtlistener.com/api/rest/v3/dock...   \n",
       "3  https://www.courtlistener.com/api/rest/v3/dock...   \n",
       "4  https://www.courtlistener.com/api/rest/v3/dock...   \n",
       "\n",
       "                       date_created                     date_modified source  \\\n",
       "0  2023-12-20T14:31:48.524985-08:00  2023-12-21T01:26:55.575546-08:00      C   \n",
       "1  2023-12-20T14:31:43.921858-08:00  2023-12-21T01:26:30.037146-08:00      C   \n",
       "2  2023-12-20T14:31:36.315398-08:00  2023-12-21T01:26:29.022593-08:00      C   \n",
       "3  2023-12-20T10:31:47.005867-08:00  2023-12-21T01:26:32.074850-08:00      C   \n",
       "4  2023-12-20T10:31:43.251363-08:00  2023-12-21T01:26:27.937690-08:00      C   \n",
       "\n",
       "  case_name_short                                          case_name  \\\n",
       "0         Masters   Masters v. Illinois Workers' Compensation Comm'n   \n",
       "1           Osman     Osman v. Illinois Workers' Compensation Comm'n   \n",
       "2                  Smithfield Foods, Inc. v. Illinois Workers' Co...   \n",
       "3           Walsh     Walsh v. Illinois Workers' Compensation Comm'n   \n",
       "4           Cronk     Cronk v. Illinois Workers' Compensation Comm'n   \n",
       "\n",
       "  case_name_full judges                                      sha1  \\\n",
       "0                        aef1e535d8af2ec5412662f42ef5fb697c70b0d6   \n",
       "1                        5008a589d4daaed1b80c849cd5f063d4976d6eae   \n",
       "2                        3e1f0e82a9cabd1847749f6e5a2fed6068f8d2df   \n",
       "3                        1665f4d14a2b47578fcfc007e0d1ebb4f6575f73   \n",
       "4                        0273d05d71117d096d4c2274a50bb195a8e793fb   \n",
       "\n",
       "                                        download_url  \\\n",
       "0  https://ilcourtsaudio.blob.core.windows.net/an...   \n",
       "1  https://ilcourtsaudio.blob.core.windows.net/an...   \n",
       "2  https://ilcourtsaudio.blob.core.windows.net/an...   \n",
       "3  https://ilcourtsaudio.blob.core.windows.net/an...   \n",
       "4  https://ilcourtsaudio.blob.core.windows.net/an...   \n",
       "\n",
       "                                      local_path_mp3  \\\n",
       "0  mp3/2023/12/20/masters_v._illinois_workers_com...   \n",
       "1  mp3/2023/12/20/osman_v._illinois_workers_compe...   \n",
       "2  mp3/2023/12/20/smithfield_foods_inc._v._illino...   \n",
       "3  mp3/2023/12/19/walsh_v._illinois_workers_compe...   \n",
       "4  mp3/2023/12/20/cronk_v._illinois_workers_compe...   \n",
       "\n",
       "                            local_path_original_file  \\\n",
       "0  mp3/2023/12/20/masters_v._illinois_workers_com...   \n",
       "1  mp3/2023/12/20/osman_v._illinois_workers_compe...   \n",
       "2  mp3/2023/12/20/smithfield_foods_inc._v._illino...   \n",
       "3  mp3/2023/12/19/walsh_v._illinois_workers_compe...   \n",
       "4  mp3/2023/12/20/cronk_v._illinois_workers_compe...   \n",
       "\n",
       "                                         filepath_ia ia_upload_failure_count  \\\n",
       "0  https://archive.org/download/gov.uscourts.illa...                    None   \n",
       "1  https://archive.org/download/gov.uscourts.illa...                    None   \n",
       "2  https://archive.org/download/gov.uscourts.illa...                    None   \n",
       "3  https://archive.org/download/gov.uscourts.illa...                    None   \n",
       "4  https://archive.org/download/gov.uscourts.illa...                    None   \n",
       "\n",
       "   duration  processing_complete date_blocked  blocked  stt_status  \\\n",
       "0    1801.0                 True         None    False           0   \n",
       "1    1884.0                 True         None    False           0   \n",
       "2    1606.0                 True         None    False           0   \n",
       "3    1354.0                 True         None    False           0   \n",
       "4    2244.0                 True         None    False           0   \n",
       "\n",
       "  stt_google_response  \n",
       "0                      \n",
       "1                      \n",
       "2                      \n",
       "3                      \n",
       "4                      "
      ]
     },
     "execution_count": 5,
     "metadata": {},
     "output_type": "execute_result"
    }
   ],
   "source": [
    "df.head()"
   ]
  },
  {
   "cell_type": "code",
   "execution_count": 6,
   "metadata": {},
   "outputs": [
    {
     "data": {
      "text/plain": [
       "['https://www.courtlistener.com/api/rest/v3/dockets/68106129/',\n",
       " 'https://www.courtlistener.com/api/rest/v3/dockets/68106126/',\n",
       " 'https://www.courtlistener.com/api/rest/v3/dockets/68106123/',\n",
       " 'https://www.courtlistener.com/api/rest/v3/dockets/68104486/',\n",
       " 'https://www.courtlistener.com/api/rest/v3/dockets/68104485/']"
      ]
     },
     "execution_count": 6,
     "metadata": {},
     "output_type": "execute_result"
    }
   ],
   "source": [
    "df['docket'].head().tolist()"
   ]
  },
  {
   "cell_type": "code",
   "execution_count": 7,
   "metadata": {},
   "outputs": [],
   "source": [
    "def search_insurance(df, column):\n",
    "    df['insurance_found'] = df[column].apply(lambda x: 1 if 'insurance' in x.lower() else 0)\n",
    "    return df\n",
    "\n",
    "df = search_insurance(df, 'case_name')"
   ]
  },
  {
   "cell_type": "code",
   "execution_count": 8,
   "metadata": {},
   "outputs": [
    {
     "name": "stdout",
     "output_type": "stream",
     "text": [
      "(4, 25)\n"
     ]
    },
    {
     "data": {
      "text/plain": [
       "['Jarrett Cudd v. State Farm Mutual Automobile Insurance Company',\n",
       " 'Madelaine Chocolate Novelties, Inc. v. Great Northern Insurance Company',\n",
       " 'Cassidy v. New York State Insurance Fund',\n",
       " 'James Snell v. United Specialty Insurance Company']"
      ]
     },
     "execution_count": 8,
     "metadata": {},
     "output_type": "execute_result"
    }
   ],
   "source": [
    "print(df[df['insurance_found']==1].shape)\n",
    "df[df['insurance_found']==1]['case_name'].tolist()"
   ]
  },
  {
   "cell_type": "code",
   "execution_count": 9,
   "metadata": {},
   "outputs": [],
   "source": [
    "def add_rows_to_excel(input_df, excel_file):\n",
    "    \"\"\"\n",
    "    Adds rows to an excel file. If the excel file doesn't exist, creates it. \n",
    "    If it does exist, only adds the new rows from the input DataFrame. \n",
    "    If the data overlaps, only the distinct rows are saved in the final excel file.\n",
    "\n",
    "    Args:\n",
    "    input_df (pd.DataFrame): The DataFrame to add to the excel file.\n",
    "    excel_file (str): The path to the excel file.\n",
    "    \"\"\"\n",
    "    # Convert lists to strings in input_df\n",
    "    input_df = input_df.applymap(lambda x: str(x) if isinstance(x, list) else x)\n",
    "\n",
    "    if os.path.exists(excel_file):\n",
    "        # Load the existing data\n",
    "        existing_df = pd.read_excel(excel_file)\n",
    "\n",
    "        # Convert lists to strings in existing_df\n",
    "        existing_df = existing_df.applymap(lambda x: str(x) if isinstance(x, list) else x)\n",
    "\n",
    "        # Concatenate the existing data with the new data\n",
    "        combined_df = pd.concat([existing_df, input_df])\n",
    "\n",
    "        # Remove duplicates\n",
    "        final_df = combined_df.drop_duplicates()\n",
    "\n",
    "        # Print the total number of rows and how many new rows were added\n",
    "        print(f\"Total number of rows: {len(final_df)}\")\n",
    "        print(f\"Number of new rows added: {len(final_df) - len(existing_df)}\")\n",
    "    else:\n",
    "        final_df = input_df\n",
    "        # Print the total number of rows as the excel file didn't exist before\n",
    "        print(f\"Total number of rows: {len(final_df)}\")\n",
    "        print(f\"Number of new rows added: {len(final_df)}\")\n",
    "\n",
    "    # Write the data to the excel file\n",
    "    final_df.to_excel(excel_file, index=False)"
   ]
  },
  {
   "cell_type": "code",
   "execution_count": 10,
   "metadata": {},
   "outputs": [
    {
     "name": "stdout",
     "output_type": "stream",
     "text": [
      "Total number of rows: 200\n",
      "Number of new rows added: 200\n"
     ]
    }
   ],
   "source": [
    "add_rows_to_excel(df, \"court_listener_oral_argument_listing.xlsx\")"
   ]
  },
  {
   "cell_type": "code",
   "execution_count": 11,
   "metadata": {},
   "outputs": [
    {
     "name": "stdout",
     "output_type": "stream",
     "text": [
      "Jarrett Cudd v. State Farm Mutual Automobile Insurance Company\n",
      "https://www.ca11.uscourts.gov/system/files_force/oral_argument_recordings/22-13916.mp3?download=1\n"
     ]
    }
   ],
   "source": [
    "insurance_df = df[df[\"insurance_found\"] != 0]\n",
    "\n",
    "i = 0\n",
    "\n",
    "name = insurance_df.iloc[i][\"case_name\"]\n",
    "url = insurance_df.iloc[i][\"download_url\"]\n",
    "print(name)\n",
    "print(url)"
   ]
  },
  {
   "cell_type": "code",
   "execution_count": 12,
   "metadata": {},
   "outputs": [],
   "source": [
    "def download_mp3(url, file_path):\n",
    "    \"\"\"\n",
    "    Downloads an MP3 file from the given URL and saves it to the specified file path.\n",
    "\n",
    "    Args:\n",
    "    url (str): The URL of the MP3 file.\n",
    "    file_path (str): The local path where the file should be saved.\n",
    "    \"\"\"\n",
    "    try:\n",
    "        # Send a GET request to the URL\n",
    "        response = requests.get(url, stream=True)\n",
    "\n",
    "        # Raise an exception if the request was unsuccessful\n",
    "        response.raise_for_status()\n",
    "\n",
    "        # Open a file in binary write mode\n",
    "        with open(file_path, 'wb') as file:\n",
    "            for chunk in response.iter_content(chunk_size=8192): \n",
    "                # Write the content chunk by chunk to the file\n",
    "                file.write(chunk)\n",
    "\n",
    "        print(f\"File downloaded and saved as {file_path}\")\n",
    "    except requests.RequestException as e:\n",
    "        print(f\"An error occurred: {e}\")"
   ]
  },
  {
   "cell_type": "code",
   "execution_count": 13,
   "metadata": {},
   "outputs": [
    {
     "name": "stdout",
     "output_type": "stream",
     "text": [
      "File downloaded and saved as ./data/audio/Jarrett Cudd v. State Farm Mutual Automobile Insurance Company.mp3\n"
     ]
    }
   ],
   "source": [
    "download_mp3(url, f\"./data/audio/{name}.mp3\")"
   ]
  },
  {
   "cell_type": "code",
   "execution_count": 14,
   "metadata": {},
   "outputs": [
    {
     "name": "stdout",
     "output_type": "stream",
     "text": [
      "CPU times: total: 21min 39s\n",
      "Wall time: 2min 47s\n"
     ]
    },
    {
     "data": {
      "text/markdown": [
       " I will accept the court's invitation to jump directly to the heart of my argument, and it is this. The district court held that providing state farm with a meaningful opportunity to invoke the imprasal process before filing suit is a condition precedent to filing this action. That was error because the policy language simply doesn't say that. The appraisal provision says either party may request an appraisal. It doesn't say the policy holder has to request an appraisal before filing suit. It doesn't say the policy holder has to give state farms some kind of notice and opportunity to request appraisal before filing suit. That language about meaningful opportunity and so forth is entirely in the district court's opinion and completely absent from the policy. Well, let's say we agree with you in terms of that not being a precondition to suit, but once the written request for an appraisal was received by your client, isn't that a provision had to be complied with? Not as a condition for filing or maintaining suit. Right. We're going to give you that, but in terms of once the letter or request will receive. So state farm did move to compel an appraisal. We did oppose it. The district court didn't resolve that. We have arguments about why appraisal is not required for this particular claim under the Georgia Supreme Court decision in McGowan. And due to the nature of the systemic automatic and bad faith discount being applied by state farm. But in any case, I mean, wouldn't it be, I mean, even setting aside all of those things just for the moment, wouldn't it be important for damages purposes? If the district court compels us to engage in appraisal after you send us back down as I certainly hope you will, we would of course comply with that. And then turning back to the other part of it. I mean, the contract does, at least it seems to me, does require you once it's triggered, once the provision is triggered, which it is by request by state farm to engage in the appraisal process. And I'm going to add the same caveat just to make sure we're all on the same page, not as a condition of filing suit or maintain. I agree. Not as a. And so, so the answer to that. I look at McGowan, even before the Supreme Court or the appeal, the trial court, it ordered the enforcement of the appraisal provision, right? Certainly did. So the propriety of that order, compelling arbitration, wasn't an issue in McGowan. What was an issue in McGowan is whether that appraisal after completed and paid by state farm, somehow mooted or negated or resolved. And so, on other things, the very breach of contract claim that we raise here. I would add this to, I'm not sure where you're thinking of going with this, but I don't think this court could enter an order saying, we are reversing because this is not a condition precedent, but district court or, you know, Frank's client, you have to engage in appraisal after the case goes back down. And the reason I don't think you could do that is that wouldn't be a right for any reason. You'd be reversing what the district court did and state farm filed no appeal, sorry, no cross appeal conditional or otherwise, asking you for that relief. And they would have had to, jurisdictionally, if you're going to do something other than affirm what the district court did. I'm sorry. So, let's say we agree with you that the appraisal wasn't necessary as a precondition to suit, but that we will interpret and then therefore enforce the provision with respect to once a written request for an appraisal is received, that must be satisfied. So, then what would the relief be in that instance? We agree with you on one side, but we believe your client hasn't fully satisfied other obligations. You could do half of that. The only half of that you can do is to tell the district court, you know, you've got to reinstate the suit. I'm just going to give council a second. It's okay. No, that's okay. Now, you can tell the district court that you can reverse the district court. You must reverse the district court and reinstate the lawsuit. What happens after that within appraisal is not before you. The district court didn't reach that question. So, instead of just so your argument is that instead of dismissing this without prejudice that the district court should have stayed the action for the appraisal process to be to occur. I don't agree that the district court should have stayed the action. Certainly don't agree with that. I for the reason stated the district court also don't believe that an appraisal is required. But our business today is simply whether it was a condition precedent, because for you to reach an issue, the district court hasn't and said, you know, here's how you have to rule in the future, you have to compel an appraisal would be beyond the scope of what you do here. But in constring the provision and concluding, and I only speak for myself and just a question at this point is if we concluded that it was not a condition precedent. The way, at least I think you would get there, is by applying, of course, a plain language. And saying that the reason it's not a condition precedent is because what triggers it is a request from state farm. And the request from state farm did not, there's nothing about, there's nothing else in the language of the contract that requires you to run an appraisal. Before you file a lawsuit, the only thing that triggers the appraisal is a request from state farm. And so that kind of does beg the question about, okay, now state farm has has made the request for an appraisal. So that is something that the district court would have to address if we were to remand on that basis. And then it seems to me that there might be at least three options the district court would have. It could agree that it could decide that the case should be dismissed without prejudice while the appraisal process goes forward. It could abate the case while the appraisal process goes forward or it could conclude that the case could go forward while the appraisal process goes forward. But in any case, and in all of those cases, I think consistent with a plain language of your contract. At least under the hypothetical I'm proposing the district court would have to conclude that the appraisal would go forward. So why is that not so? I don't agree with the first of the three options you posed, which was dismissing the case without prejudice for an appraisal because that's simply another way of treating the appraisal provision as a condition precedent. The other two options, which I think were to stay pending appraisal or I suppose it's not an appraisal. I guess having appraisal but not a stay. Those are things the district court could do. I don't know whether the district court has to do them. We have arguments about why the district court does not. But again, that's not what we're here on. Thank you. I just want to clarify with respect to Judge Rosenbaum's first option, which you now rejected, is that essentially a dismissal is equivalent or let's say requiring that the appraisal happen, which would essentially state the litigation is the equivalent of essentially making the appraisal a precondition to suit. No, if I understood Judge Rosenbaum correctly, the first hypothetical or the first possibility was the district court would dismiss without prejudice pending an appraisal. I mean, that's what the district court's already done. That is treating the appraisal as a condition precedent. Okay, I think the same thing. Maybe I think so too, Your Honor. I think so too. I know time is running. I want to briefly address a provision. I think my brother will bring to your attention that says legal action may not be brought against us unless there has been full compliance with the policy. Our point on that is very simple. At the time we brought suit, no one had requested an appraisal. We were in full compliance with the policy. That argument simply begs the question of whether appraisal is a condition precedent. Okay, we acknowledge an unpublished decision more versus travelers by this court. It is of course not binding. It is not persuasive with all respect. It was decided under Alabama law. Alabama law. Alabama may trump Georgia and football, but Georgia controls controls role tied your Honor. Georgia law controls this dispute. I'm secretly supporting. So time's winding down and we've descended into football. Perhaps I should sit down and maybe it's time. Thank you. Your. Mr. Diffie. Good morning. Your Honours may please the court. Dan Diffie on behalf of State Farm. I apologize for my brief coughing fit back there. It was an old lawyer's trick to distract but it was not. The solution to the problem that we've been talking about has passed. The solution was for the plaintiff to agree to the appraisal that was requested. They didn't do that. The policy is as clear as day that once it's requested, I'll get to condition proceed in just a minute. But once either party requested, it needs to go forward. The Georgia courts routinely enforce these appraisal provisions in policies like this. Instead, the plaintiff's. Sorry to interrupt. Let's say we agree with you that once they requested, and I don't know I haven't spoken with my colleagues about this, but once let's say that we agree that once they requested, the appraisal has to go forward. That doesn't answer what happens to the rest of case while that's happening. Correct. So I'll get to that. I'll get to that now, Judge. I'd like to respond by answering it this way. Imagine if instead of filing the suit first, plaintiff sent a letter to State Farm and said like he does in the complaint, you owe me an additional $670.25 for the total loss value of my car. I disagree with how you did it. And State Farm and response said, okay, we disagree with you. We're going to demand the appraisal. And then the parties, again, pre-suit, go down that path and the appraisal process is going forward. While that's happening, if the plaintiff marched into federal court and said I'm filing a lawsuit for breach and you didn't pay me or I don't like my calculation of total loss value, well, the court would dismiss that case in a minute, right? It would say you're going through this appraisal process, you're following the terms of the policy dismissal is appropriate. We're really no different here because what the plaintiff did was just go ahead and for the first time they noticed, they notified State Farm that they disagreed with the calculation, they happened to do it through a lawsuit. It doesn't change the requirements of the policy. It doesn't change the analysis of whether or not a claim should go forward in federal court. And that's what Judge Land in the District Court got exactly correct when he said it was premature. It's no different than if we were in the world of pre-suit. We're in suit now. They filed the lawsuit. State Farm requested the appraisal. The appraisal process is got to go forward. Dismissal appropriate and why is dismissal appropriate because we don't know what's going to happen through that appraisal process. But it doesn't really matter what happens through that appraisal process based on the allegations and the complaint because the allegations and the complaint are that. State Farm systematically and always applies this eight to nine percent. I guess. You know, cut to to whatever the price otherwise would be. And and it's basically a fraudulent kind of operation. And so if you want to challenge that, then you've got to you're always going to have to pay these attorneys fees or appraisal fees or et cetera, which would be fine. If it weren't always going to be the case uniformly in every single situation where replacement value was provided that there was going to be this eight to nine percent cut. And that's what the argument is right and so. So there are certain damages that would natural flow from that situation if it turned out that situation was true. And I wonder what your response to that your honor. I disagree if you as to the underlying premise that the appraisal is almost a necessary step, but you didn't like my idea about why dismissal was appropriate because when I said we don't know what's going to happen the appraisal. What if during the appraisal process the valuation comes back lower than what state farm provided. What if the parties have an issue with how the appraisal process was conducted. What if the state farm insured says wow, I got a little bit more money. That's great. I don't want to continue to proceed or litigate or anything like that. Any number of things where could happen, which is why such land was correct ruling that the case to premature. That shouldn't be presupposing what's going to happen. Well, we already know for sure that one of the things that will happen is there will be a payment for praisels for praisers, right? I mean, we know that is going to happen. And the problem here is that that is baked in through every single replacement cost that is offered. So you're always going to have to pay these appraisal fees or these appraisal fees again. Regardless of whether or not, you know, it was justified in the case to apply the so-called negotiation fee. And the question is the meaning of cash value in the contract. And so that is why it listed seems to me that there might be a reason for continuing the case in the meantime while the appraisal is going on. Your Honor, the actual cash value, let me take the fact as to the appraisal process and the fees that are incurred by the parties as part of that are part of the contract. So they are, they are, that's part of the policy. It's no different than having to pay a premium or anything like that. It is just part of the agreement between state farm and its insures. Whether or not those become, if your question is recoverable or part of the complaint or added to the case, well, that's all stuff that could happen much later. We don't know what's going to happen through the appraisal process. Everything we're talking about other than the fact that the parties are going to incur fees and doing it, pursuant to the terms of the contract, we don't know what's going to happen. And that's why dismissal is appropriate. That's the problem. I agree with you that in the normal, in the normal course of, you know, considering the contract that appraisal fees would not be an issue at all. The reason that they are allegedly an issue here is because the plaintiff is alleging that in every single case, you don't calculate a fair cash value. That your definition of cash value, which was not disclosed previously, is a fraudulent representation of cash value because it gives a haircut of 8% to 9% on the actual cash value in every single case. And so it's impossible to get what is actual cash value in any case before and unless you pay the appraisal fees, and if you do that, then you're going to have to necessarily incur these appraisal fees. And so that makes your actual cash value, even if it's 100%, less than your actual cash value should be because in every single case, you must do this. This is a cost of applying with a requirement in the contract in every single case. That's the problem that they're alludging. You're honored, but with the appraisal provision, the appraisal provision and the associated cost that come with it, don't vary or are not triggered by a particular insurance theory or disagreement. So one of the insured things, the actual cash value that State Farm presented through its processes was by fraud, by I just think my car is worth more money than State Farm does because the underlying comps were wrong. That's all irrelevant for the purposes of the appraisal provision. And again, coming back to where do we go if the appraisal provision is appropriate. Mr. Cud could go through the process and say, you just use the wrong comps or gosh, like we all do, we all think our stuff's worth more, right? What if the haircut was 90% if the haircut in every single case was 90% of what otherwise would have been the actual cash value? Would you agree that in that situation, the appraisal cost would be part of the damages that the person would experience in the allegation that this was a fraudulent scheme to undercut how much was actually due to every single one of your clients? You're on the other side of the stream. I appreciate that the court was asking that. I do want to say that I realize we're not here to dive into the weeds of the negotiation adjustment processes, but it's not a haircut. But even in your situation, your honor. Frankly, if it got to a point where it was just 90% and people with working knowledge of a particular car is worth $10,000 in state farm is offering $1,000, where first of all, state farm wouldn't do that. Second, there is a mechanism, right? And frankly, I would think if it was at that extreme, you'd get a letter back immediately or an email from the insurance saying, well, wait a second, this is so far off. I'm just a process here, and I realize we're at the motion to dismiss days, but there is an ongoing dialogue. Can I get any answer to the question, though? I mean, in that situation, would you agree that there would be a claim that could go forward right away? Not until the appraisal process was finished. Even though in every single case, there's a 90% haircut. You're on the, I think it's so unlikely we would get there, but the appraisal provision, again, is not triggered by why? So I think that- Hypocetical? No, I agree. But the appraisal provision is not only triggered if somebody has a particular theory. It applies no matter what. All right. So let me ask this. You said your opponent rejected participating in the appraisal process. The district court, of course, dismissed the suit and interpreted the appraisal provision as a condition preceding. Your adversary has challenged that as an era of law and said, if participation in the appraisal process is required, it's ready to do so. Why can't we vacate and remand? Because it was legal error to conclude that participation in the appraisal process was a condition preceded. We say not a condition preceded. And just send it back. You're on our think you could do that. But the proper course would be- Why would it be legal error to do that? Why would it be legal error to- To do it that way. To look at this, I look. We don't think the appraisal provision given that the request for appraisal didn't happen until after the suit was filed. We don't think that that can be viewed as a condition preceded. So it's just the district court erred and determining otherwise. And so we vacate the dismissal without prejudice based on that legal error sent back to the district court. That leaves everybody back in the position where the district court can say, okay. I think you have to participate, Mr. Cudden and appraisal, but upper shut up. You're on the- Because it would be legal error because there- You can also judge- What Judge Land ruled was that the case was premature. And I realize it's somewhat circular. That can't be right. Well, but it can't be. I really- Under my hypothetically can't. Right. Right. If we say it's not a condition preceded, that has to be wrong, doesn't it? Not in this- Not in this factual pattern, Your Honor. I think it's because I take it, you know, condition preceding when you think about that, right? Usually means there's some sort of performance that's triggered. Well, I don't know how it could be fine if- I'm pretty mature. If there was no request for an appraisal before a suit was filed. Because the request, excuse me, the filing of the suit was the insured's first time. They did it through counsel, filing a lawsuit in federal court, letting State Farm know that they disagreed. I go back to what I said earlier. If this came through a letter beforehand, again, that case would be- It would be dismissed in the minute. This circumstance is no different. Whether you call it just premature, whether you look at it, like we do in the district court, understanding analysis. Whether you look at it as a condition precedent, the- The State Farm did not have any notice of a disagreement. So no one knew that appraisal was going to be an issue until they filed suit. They filed suit. Appraisals required. Well, then it's appropriate to- The appraisal was required by the filing of the suit. Appraisal was required because after the suit was filed, State Farm required- It requested it. Isn't that right? Yes, and I agree. I misspoke their judge. So I don't see how we could be conditioned preceded. You don't see how it could be- You could say it's premature. It is premature. I mean, it could be that State Farm wouldn't request an appraisal, right? Exactly right. And then wouldn't be here, but once State Farm- Which is- Which means it wasn't much premature. No, you're honor. But if- I realize it's circular. But- But- There's no- Okay, let me just ask you, your client wrote this contract, right? Yes. And so- If you wanted to have- If you wanted to have sort of an exhaustion requirement before a lawsuit was filed, you could have written it that way, couldn't you? I do. Could- Could- Could- Could- Could- Could- Could- Could- Could- Could- Could- Could- Could- Could- Could- Could- Could- Could- Could- Could- Could- Could- Could- Could- Could- Should- Should- Should- Should- Should- And then we're going to be done. Okay. All right. So, just as it relates to the issue of it being premature, the- value until they file suit. Before that, the plaintiff had the opportunity to request a praisle. After that, the plaintiff had the opportunity to request a praisle and then, of course, state farm did. And state farm did. As soon as they did that, their lawsuit became premature. I realize it came after, but this just allows people to try and have these types of arguments about McGowan and all that. I feel like we've moved on from that, from the briefs, but that's where I am on the on the premature issue. Judge Boone. My question has to do with the fact that Mr. Cut filed this action as a class action. And so what impact, if any, does your position that once the written praisle is received, it halts, it should halt the litigation, what impact does that have in terms of being able to proceed on the underlying claim that's being raised as Judge Rosenbaum articulated the purposes of advancing a class. So that's part of it. And then the second thing, in the class definition, I don't believe right now, it includes a requirement that every member of the class have gotten an appraisal. So does that mean that the class definition from your perspective also would need to be amended? So two things on that first on the initial question. At this point in time, the the trial court is only going to test the claims of the name plaintiff as alleged in the. There's not been a class certified as it relates to that, Judge Boone, who the court probably picked up from the briefs. This is one of many of these cases pending around the country, different different plaintiffs, different states, slightly different policies from state to state about these total loss evaluations. All of those issues about what happens to class certification, the class definition appraisal for each class member. Your Honor, I think that's great foresight for what's going to be coming next in these cases, but respectfully we're not there yet in this particular case just trying to deal with the threshold. I don't think that was before the threshold question, the appraisal. Right, but let's say he goes ahead and get the appraisal for whatever reason, he's still not satisfied with the outcome. He moves forward with this case with a proposed putative class. Does he need to therefore amend the class definition to include the appraisal requirement? I think you would have to. One, yes, Your Honor, it would also need to amend this complaint to address all of those facts. And then of course, we would deal with the other insurers at class certification and applying the appraisal requirement to those insurers as well down the road. Okay, thank you very much, Your Honor. Thank you, Mr. Difflee. Mr. Larry, you saved two minutes. Oh, I'm sorry. I'm sorry. But I don't plan to use five unless you all have a substantial number of questions for me. I had a few thoughts on what my brother said before I do do you want to lead off with any questions? Any of you? I'm curious your thoughts on the class action question. I understand that maybe we're getting too far ahead. Sure. But I do see that as a natural consequence in terms of how these cases come forward. So to preview, there's a substantial base of Georgia authority holding that conditions like this can be satisfied by a named plenith on behalf of the entire class. It's also in federal law, for example, the filing of a single charge of discrimination by a Title VII plenith can exhaust that administrative requirement for the entire class. I'm confident we're going to win that argument when they raise it. The premature argument is just another way of saying condition precedent. There's no daylight there and no difference there. That's my first thought. My second thought is appraisal, the appraisal requirement can't possibly be a basis to dismiss this lawsuit because that's really the issue in McGowan. I mean, as Judge Rosenbaum articulated under McGowan, there is a breach of contract claim here that must be resolved in court. The last footnote in McGowan, by the way, refutes a colleague's argument that the appraisal fees are not damages because they're required by the policy. Speaks directly to and rejects that argument, adopting essentially the same analysis you just gave Judge Rosenbaum. This may be bombing the rubble, but as far as the idea that a post-suit refusal could be some basis to dismiss, the only condition precedent in the policy talks about you have to have been in full compliance when the action is brought. Federal precedent and state precedent, and this is discussed in our Plybri 21 to 23, is very well established that brought means filed. It doesn't mean maintained or continued. If you thought it was even a close issue or a question, you'd have to resolve it for us because we're the insured and they wrote the policy. Those were my thoughts on our bottle. Are there any questions I can answer? Thank you, Mr. Lowry. Thank you, sir. We are always appreciate Tom being given back to us. We're going to be in recess."
      ],
      "text/plain": [
       "<IPython.core.display.Markdown object>"
      ]
     },
     "execution_count": 14,
     "metadata": {},
     "output_type": "execute_result"
    }
   ],
   "source": [
    "%%time\n",
    "model = whisper.load_model(\"base\")\n",
    "result = model.transcribe(f\"./data/audio/{name}.mp3\")\n",
    "Markdown(f\"{result['text']}\")"
   ]
  },
  {
   "cell_type": "code",
   "execution_count": 15,
   "metadata": {},
   "outputs": [],
   "source": [
    "def save_dict_to_txt_file(data_dict, file_name):\n",
    "    \"\"\"\n",
    "    Saves the 'text' value from a dictionary to a .txt file.\n",
    "\n",
    "    Args:\n",
    "    data_dict (dict): The dictionary containing the data.\n",
    "    file_name (str): The name of the .txt file to save the data to.\n",
    "    \"\"\"\n",
    "    # Get the 'text' value from the dictionary\n",
    "    text = data_dict.get('text', '')\n",
    "\n",
    "    # Clean the file name by removing spaces, punctuation, and special characters\n",
    "    file_name = re.sub(r'\\W+', '', file_name)\n",
    "\n",
    "    # Create 'transcriptions' directory if it doesn't exist\n",
    "    if not os.path.exists('data/transcriptions'):\n",
    "        os.makedirs('data/transcriptions')\n",
    "\n",
    "    # Open the file in write mode\n",
    "    with open(f\"data/transcriptions/{file_name}.txt\", 'w', encoding='utf-8') as file:\n",
    "        # Write the text to the file\n",
    "        file.write(text)\n",
    "\n",
    "    print(f\"Data saved to data/transcriptions/{file_name}.txt\")\n"
   ]
  },
  {
   "cell_type": "code",
   "execution_count": 5,
   "metadata": {},
   "outputs": [],
   "source": [
    "def read_text_from_txt_file(file_name):\n",
    "    \"\"\"\n",
    "    Reads the text from a .txt file.\n",
    "\n",
    "    Args:\n",
    "    file_name (str): The name of the .txt file to read the data from.\n",
    "    \n",
    "    Returns:\n",
    "    str: The text read from the file.\n",
    "    \"\"\"\n",
    "    # Check if the file exists\n",
    "    if not os.path.exists(f\"data/transcriptions/{file_name}.txt\"):\n",
    "        print(f\"File data/transcriptions/{file_name}.txt does not exist.\")\n",
    "        return None\n",
    "\n",
    "    # Open the file in read mode\n",
    "    with open(f\"data/transcriptions/{file_name}.txt\", 'r', encoding='utf-8') as file:\n",
    "        # Read the text from the file\n",
    "        text = file.read()\n",
    "\n",
    "    return text"
   ]
  },
  {
   "cell_type": "code",
   "execution_count": 17,
   "metadata": {},
   "outputs": [
    {
     "name": "stdout",
     "output_type": "stream",
     "text": [
      "Data saved to data/transcriptions/JarrettCuddvStateFarmMutualAutomobileInsuranceCompany.txt\n"
     ]
    }
   ],
   "source": [
    "save_dict_to_txt_file(result, name)"
   ]
  },
  {
   "cell_type": "code",
   "execution_count": 6,
   "metadata": {},
   "outputs": [],
   "source": [
    "text = read_text_from_txt_file(\"MannievIllinoisDepartmentofInsurance\")"
   ]
  },
  {
   "cell_type": "code",
   "execution_count": 19,
   "metadata": {},
   "outputs": [],
   "source": [
    "import tiktoken\n",
    "\n",
    "def num_tokens_from_string(string: str, encoding_name: str) -> int:\n",
    "    \"\"\"Returns the number of tokens in a text string.\"\"\"\n",
    "    encoding = tiktoken.get_encoding(encoding_name)\n",
    "    num_tokens = len(encoding.encode(string))\n",
    "    return num_tokens"
   ]
  },
  {
   "cell_type": "code",
   "execution_count": 20,
   "metadata": {},
   "outputs": [
    {
     "data": {
      "text/plain": [
       "3573"
      ]
     },
     "execution_count": 20,
     "metadata": {},
     "output_type": "execute_result"
    }
   ],
   "source": [
    "num_tokens_from_string(text, \"cl100k_base\")"
   ]
  },
  {
   "cell_type": "code",
   "execution_count": 9,
   "metadata": {},
   "outputs": [],
   "source": [
    "text_splitter = CharacterTextSplitter.from_tiktoken_encoder(chunk_size=15000,chunk_overlap=0,separator=\"\\n\")\n",
    "\n",
    "def run_map_reduce(input_doc, MAP_PROMPT, REDUCE_PROMPT):\n",
    "\n",
    "    llm = ChatOpenAI(model_name=\"gpt-4-1106-preview\", temperature=0.1)\n",
    "    map_llm_chain = LLMChain(llm=llm, prompt=MAP_PROMPT)\n",
    "\n",
    "    llm = ChatOpenAI(model_name=\"gpt-4-1106-preview\", temperature=0.1)\n",
    "    reduce_llm_chain = LLMChain(llm=llm, prompt=REDUCE_PROMPT)\n",
    "\n",
    "    # Takes a list of documents and combines them into a single string\n",
    "    combine_documents_chain = StuffDocumentsChain(\n",
    "            llm_chain=reduce_llm_chain,\n",
    "            document_variable_name=\"text_summaries\")\n",
    "\n",
    "    # Combines and iteravely reduces the mapped documents\n",
    "    reduce_documents_chain = ReduceDocumentsChain(\n",
    "        # This is final chain that is called.\n",
    "        combine_documents_chain=combine_documents_chain,\n",
    "        # If documents exceed context for `combine_documents_chain`\n",
    "        collapse_documents_chain=combine_documents_chain,\n",
    "        # The maximum number of tokens to group documents into.\n",
    "        token_max=15000)\n",
    "\n",
    "    # Combining documents by mapping a chain over them, then combining results\n",
    "    combine_documents = MapReduceDocumentsChain(\n",
    "        # Map chain\n",
    "        llm_chain=map_llm_chain,\n",
    "        # Reduce chain\n",
    "        reduce_documents_chain=reduce_documents_chain,\n",
    "        # The variable name in the llm_chain to put the documents in\n",
    "        document_variable_name=\"text\",\n",
    "        # Return the results of the map steps in the output\n",
    "        return_intermediate_steps=False)\n",
    "\n",
    "    # Define Map=Reduce\n",
    "    map_reduce = MapReduceChain(\n",
    "        # Chain to combine documents\n",
    "        combine_documents_chain=combine_documents,\n",
    "        # Splitter to use for initial split\n",
    "        text_splitter=text_splitter)\n",
    "\n",
    "    return map_reduce.run(input_text=input_doc)"
   ]
  },
  {
   "cell_type": "code",
   "execution_count": 10,
   "metadata": {},
   "outputs": [],
   "source": [
    "map_template_string = \"\"\"Context: {text}\n",
    "As an expert legal analyst, review the Context which is part of an oral argument session and do three things:\n",
    "\n",
    "1. Identify the key facts of the case.\n",
    "2. Summarize plaintiff counsel's main arguments.\n",
    "3. Summarize rebuttals to plaintiff counsel's arguments.\n",
    "\"\"\"\n",
    "\n",
    "reduce_template_string = template = \"\"\"Context: {text_summaries}\n",
    "As an experienced legal analyst, use the context to:\n",
    "\n",
    "Compose a case brief using only the Context.\n",
    "Working step by step, organize the Context into a well-structured\n",
    "outline with the following sections:\n",
    "\n",
    "Facts of Loss: a concise sumary of facts and events relevant to this legal case.\n",
    "Issue: [the facts of the case being argued]\n",
    "Analysis: arguments\n",
    "   [\"Argument 1\": key points from a distinct argument,\n",
    "    \"Rebuttal 1\": key points from the rebuttal to argument 1,\n",
    "    \"Argument 2\": key points from a distinct argument,\n",
    "    \"Rebuttal 2\": key points from the rebuttal to argument 2,\n",
    "    \"Argument X\": ...,\n",
    "    \"Rebuttal X\": ...]\n",
    "Takeaway: the most important argument assertion and its corresponding rebuttal.\n",
    "TODO: optional list of knowledge gaps, or logical flaws in any of the arguments or their rebuttals.\n",
    "\"\"\"\n",
    "MAP_PROMPT = PromptTemplate(input_variables=[\"text\"], template=map_template_string)\n",
    "REDUCE_PROMPT = PromptTemplate(input_variables=[\"text_summaries\"], template=reduce_template_string)"
   ]
  },
  {
   "cell_type": "code",
   "execution_count": 11,
   "metadata": {},
   "outputs": [],
   "source": [
    "result = run_map_reduce(text, MAP_PROMPT, REDUCE_PROMPT)"
   ]
  },
  {
   "cell_type": "code",
   "execution_count": 12,
   "metadata": {},
   "outputs": [
    {
     "data": {
      "text/markdown": [
       "### Case Brief\n",
       "\n",
       "**Title:** Kenneth Armani v. Illinois Department of Insurance et al.\n",
       "\n",
       "**Facts of Loss:**\n",
       "Kenneth Armani, the appellant, is self-represented in a legal dispute against the Illinois Department of Insurance and associated parties. Armani, who held a producer's license for over 20 years, claims that the Department wrongfully accused him of check fraud and revoked his license. He alleges that this revocation was retaliatory, following his complaints to the EEOC and the Illinois Department of Human Rights. Armani argues that the Department lacked authority and evidence to charge him with check fraud and that their actions have severely damaged his life and reputation. He seeks to reverse the dismissal of his case, reinstate his license, and obtain damages.\n",
       "\n",
       "**Issue:**\n",
       "Whether the Illinois Department of Insurance wrongfully revoked Kenneth Armani's producer's license on the grounds of check fraud without proper authority or evidence, and whether the revocation was retaliatory in nature.\n",
       "\n",
       "**Analysis:**\n",
       "\n",
       "**Argument 1:** Armani contends that the Department of Insurance had no legal basis to charge him with check fraud, as they provided no original documents or evidence, and that the charges were fabricated.\n",
       "\n",
       "**Rebuttal 1:** Assistant Attorney General Laura O'Mara argues that the Department never criminally charged Armani with check fraud but found him engaged in dishonest practices under the civil provisions of the Illinois insurance code.\n",
       "\n",
       "**Argument 2:** Armani asserts that the Department's actions were in retaliation for his prior complaints to the EEOC and the Illinois Department of Human Rights.\n",
       "\n",
       "**Rebuttal 2:** O'Mara does not directly address the retaliation claim but focuses on the legitimacy of the administrative decisions and the separate proceedings related to Armani's license renewal.\n",
       "\n",
       "**Argument 3:** Armani points to the Office of the Executive Inspector General's order for a rehearing as evidence that the Department acted without proper authority.\n",
       "\n",
       "**Rebuttal 3:** O'Mara maintains that the circuit court lacked jurisdiction over Armani's action as it was an improper collateral attack on a final administrative decision.\n",
       "\n",
       "**Takeaway:**\n",
       "The most critical argument is Armani's claim that the Department had no legal basis to charge him with check fraud, which is directly countered by O'Mara's assertion that the Department found Armani engaged in dishonest practices under the Illinois insurance code, not criminal check fraud.\n",
       "\n",
       "**TODO:**\n",
       "- Verify the details of the Office of the Executive Inspector General's order for a rehearing and its implications on the case.\n",
       "- Clarify whether there is any evidence supporting Armani's retaliation claims.\n",
       "- Assess the validity of the jurisdiction argument presented by O'Mara and whether Armani's action is indeed an improper collateral attack on a final administrative decision.\n",
       "- Examine the specifics of the 2020 proceedings related to Armani's license renewal and the evidence of selling insurance policies during his suspension.\n",
       "- Determine the applicability of sovereign immunity in this case and whether Armani's claims for malicious prosecution or slander are barred by it."
      ],
      "text/plain": [
       "<IPython.core.display.Markdown object>"
      ]
     },
     "metadata": {},
     "output_type": "display_data"
    }
   ],
   "source": [
    "display(Markdown(f\"{result}\"))"
   ]
  },
  {
   "cell_type": "code",
   "execution_count": 2,
   "metadata": {},
   "outputs": [],
   "source": [
    "class CourtroomParty(BaseModel):\n",
    "    \"\"\"Identifying information about a person.\"\"\"\n",
    "    \n",
    "    person: str = Field(..., description=\"The name of the person speaking\")\n",
    "    role: Optional[str] = Field(None, description=\"The role of the person speaking\")\n",
    "    background: Optional[str] = Field(None, description=\"A concise summary about the person\")\n",
    "    \n",
    "\n",
    "class OralArgument(BaseModel):\n",
    "    \"\"\"Identifying information about a particular argument.\"\"\"\n",
    "    \n",
    "    topic: str = Field(..., description=\"A concise topic title for the argument\")\n",
    "    side: Optional[str] = Field(None, description=\"The side the argument favors, plaintiff or defense\")\n",
    "    person: Optional[str] = Field(None, description=\"The name of the person presenting the argument\")\n",
    "    summary: Optional[str] = Field(None, description=\"A concise summary of key points\")\n",
    "    \n",
    "\n",
    "class OralDocket(BaseModel):\n",
    "    \"\"\"Identifying information in a text.\"\"\"\n",
    "\n",
    "    parties: Sequence[CourtroomParty] = Field(..., description=\"The information of interest in the text\")\n",
    "    arguments: Sequence[OralArgument] = Field(..., description=\"The information of interest in the text\")"
   ]
  },
  {
   "cell_type": "code",
   "execution_count": 8,
   "metadata": {},
   "outputs": [],
   "source": [
    "text_splitter = RecursiveCharacterTextSplitter(\n",
    "    chunk_size = 3040,\n",
    "    chunk_overlap  = 0,\n",
    "    is_separator_regex = False,\n",
    ")"
   ]
  },
  {
   "cell_type": "code",
   "execution_count": 16,
   "metadata": {},
   "outputs": [],
   "source": [
    "loader = TextLoader(\"data/transcriptions/MannievIllinoisDepartmentofInsurance.txt\", encoding='utf-8')\n",
    "doc = loader.load()"
   ]
  },
  {
   "cell_type": "code",
   "execution_count": 10,
   "metadata": {},
   "outputs": [],
   "source": [
    "docs = text_splitter.split_documents(doc)"
   ]
  },
  {
   "cell_type": "code",
   "execution_count": 48,
   "metadata": {},
   "outputs": [],
   "source": [
    "llm = ChatOpenAI(model=\"gpt-4-1106-preview\", temperature=0)\n",
    "\n",
    "prompt = ChatPromptTemplate.from_messages(\n",
    "    [\n",
    "        (\n",
    "            \"system\",\n",
    "            \"You are a world class algorithm for extracting information in structured formats.\",\n",
    "        ),\n",
    "        (\n",
    "            \"human\",\n",
    "            \"Use the given format to extract information from the following input: {input}\",\n",
    "        ),\n",
    "        (\"human\", \"Tip: Make sure to answer in the correct format\"),\n",
    "    ]\n",
    ")"
   ]
  },
  {
   "cell_type": "code",
   "execution_count": 26,
   "metadata": {},
   "outputs": [],
   "source": [
    "runnable = create_structured_output_runnable(OralDocket, llm, prompt)"
   ]
  },
  {
   "cell_type": "code",
   "execution_count": 27,
   "metadata": {},
   "outputs": [],
   "source": [
    "res_doc = runnable.invoke({\"input\": doc})"
   ]
  },
  {
   "cell_type": "code",
   "execution_count": 28,
   "metadata": {},
   "outputs": [],
   "source": [
    "import pandas as pd\n",
    "from src.types import Document\n",
    "from src.language_models.openai_gpt import OpenAIGPT\n",
    "from src.language_models.openai_gpt import OpenAIGPTConfig\n",
    "from src.utils.pydantic_utils import dataframe_to_documents\n",
    "from src.tools.segment_extract_tool  import SegmentExtractTool\n",
    "from src.utils.utils import dataframe_to_lc_documents\n",
    "from src.utils.pydantic_utils import flatten_pydantic_instance\n",
    "from src.utils.utils import dataframe_summary"
   ]
  },
  {
   "cell_type": "code",
   "execution_count": 2,
   "metadata": {},
   "outputs": [],
   "source": [
    "df = pd.read_parquet(\"data/reddit_legal_cluster_test_results.parquet\")"
   ]
  },
  {
   "cell_type": "code",
   "execution_count": 29,
   "metadata": {},
   "outputs": [],
   "source": [
    "lc_docs = dataframe_to_lc_documents(df, content='body', metadata=['title', 'text_label', 'State'])"
   ]
  },
  {
   "cell_type": "code",
   "execution_count": 10,
   "metadata": {},
   "outputs": [
    {
     "name": "stdout",
     "output_type": "stream",
     "text": [
      "I applied for a job and after two interviews I was given for and agreed to an offer letter, had a start date.  The only remaining variable was a drug test, which I prepared myself for by bringing all my prescriptions with me.  \n",
      "\n",
      "I take Adderall, my doctor prescribes me for 3 pills a day, insurance pays for only two a day so that’s what I get.  2 pills a day for 30 days.  \n",
      "\n",
      "However, I don’t need adderall everyday, so I only take it as needed.  My psychiatrist knows this and is okay with it.  I don’t take it everyday so my prescription can last me months, depending on circumstances.  \n",
      "\n",
      "Of course, I happen to take a drug test for a possible new job the day after taking an adderall at work.  No big deal, I have a prescription and it’s never been a big deal in the past.  \n",
      "\n",
      "Except this time it was.  According to the doctor who administrated the test, my prescription was too old.  How old was it, I was prescribed in June and filled the prescription on July 8th, 2019.  I still have about a third of a bottle, I take adderall twice a week on average.  This doctor flipped out.  Not only did she refuse to inspect my prescription bottle when I talked to her in person, she demanded my medical records for all the prescriptions I take.  \n",
      "\n",
      "Both of my doctors complied and when I talked to her on the phone to follow up, her exact words were “You’re prescription is too old, where are you getting it from.”  This pushed back my start date from a definite start to “wait and see” as I was still having my doctors trying to appease the drug test doctor.  \n",
      "\n",
      "I politely tried to explain that I don’t take my adderall everyday because I don’t need to and she would no listen.  So once again, I had my psychiatrist send another letter explaining in more detail.  \n",
      "I didn’t hear anything back after that, and when following up with the perspective employer and now they’re having a “hiring freeze” and won’t be filling the position.  \n",
      "\n",
      "\n",
      "So, in Texas, when is a schedule II drug no longer considered valid?  \n",
      "\n",
      "TL;DR\n",
      "Doctor said my prescription was too old and I must be getting amphetamines from an illegal source.\n"
     ]
    }
   ],
   "source": [
    "test_query = df['body'].head(1).tolist()[0]\n",
    "print(test_query)"
   ]
  },
  {
   "cell_type": "code",
   "execution_count": 4,
   "metadata": {},
   "outputs": [],
   "source": [
    "from typing import List\n",
    "from pydantic import BaseModel, Field\n",
    "from src.utils.pydantic_utils import flatten_pydantic_instance\n",
    "from src.utils.utils import dataframe_to_lc_documents\n",
    "import asyncio\n",
    "\n",
    "class LegalIssue(BaseModel):\n",
    "    \"\"\"Identifying information about a legal issue.\"\"\"\n",
    "    topic: str = Field(..., description=\"A concise topic title for the legal issue\")\n",
    "    summary: Optional[str] = Field(None, description=\"A concise summary of key points\")\n",
    "\n",
    "class LegalIssues(BaseModel):\n",
    "    \"\"\"Identifying information in a text.\"\"\"\n",
    "    issues: Sequence[LegalIssue] = Field(..., description=\"The information of interest in the text\")\n",
    "\n",
    "async def extract_legal_issues(df: pd.DataFrame, content: str = 'body', metadata: List[str] = None, model_name: str = \"gpt-4-1106-preview\", temperature: float = 0.0) -> pd.DataFrame:\n",
    "    \"\"\"\n",
    "    Extracts legal issues from a dataframe using a language model.\n",
    "\n",
    "    Args:\n",
    "    df (pd.DataFrame): The dataframe to extract legal issues from.\n",
    "    content (str): The column containing the text content.\n",
    "    metadata (list): List of columns to use for metadata.\n",
    "    model_name (str, optional): The name of the language model to use. Defaults to \"gpt-4-1106-preview\".\n",
    "    temperature (float, optional): The temperature to use for the language model. Defaults to 0.0.\n",
    "\n",
    "    Returns:\n",
    "    pd.DataFrame: A dataframe containing the extracted legal issues.\n",
    "    \"\"\"\n",
    "    lc_docs = dataframe_to_lc_documents(df, content, metadata)\n",
    "\n",
    "    llm = ChatOpenAI(model=model_name, temperature=temperature)\n",
    "\n",
    "    prompt = ChatPromptTemplate.from_messages(\n",
    "        [\n",
    "            (\n",
    "                \"system\",\n",
    "                \"You are a world class algorithm for extracting information in structured formats.\",\n",
    "            ),\n",
    "            (\n",
    "                \"human\",\n",
    "                \"Use the given format to extract information from the following input: {input}\",\n",
    "            ),\n",
    "            (\"human\", \"Tip: Make sure to answer in the correct format\"),\n",
    "        ]\n",
    "    )\n",
    "\n",
    "    runnable = create_structured_output_runnable(LegalIssues, llm, prompt)\n",
    "\n",
    "    results = []\n",
    "    for doc in lc_docs:\n",
    "        res_doc = await runnable.ainvoke({\"input\": doc})\n",
    "        res_doc_flat = flatten_pydantic_instance(res_doc, \"\")\n",
    "        df = pd.DataFrame(res_doc_flat['issues'])\n",
    "        df['id_'] = doc.metadata['id_']\n",
    "        results.append(df)\n",
    "\n",
    "    return pd.concat(results, ignore_index=True)"
   ]
  },
  {
   "cell_type": "code",
   "execution_count": 5,
   "metadata": {},
   "outputs": [],
   "source": [
    "df_sample = df.sample(10)"
   ]
  },
  {
   "cell_type": "code",
   "execution_count": 6,
   "metadata": {},
   "outputs": [],
   "source": [
    "test_res = await extract_legal_issues(df_sample)"
   ]
  },
  {
   "cell_type": "code",
   "execution_count": 71,
   "metadata": {},
   "outputs": [
    {
     "data": {
      "text/html": [
       "<div>\n",
       "<style scoped>\n",
       "    .dataframe tbody tr th:only-of-type {\n",
       "        vertical-align: middle;\n",
       "    }\n",
       "\n",
       "    .dataframe tbody tr th {\n",
       "        vertical-align: top;\n",
       "    }\n",
       "\n",
       "    .dataframe thead th {\n",
       "        text-align: right;\n",
       "    }\n",
       "</style>\n",
       "<table border=\"1\" class=\"dataframe\">\n",
       "  <thead>\n",
       "    <tr style=\"text-align: right;\">\n",
       "      <th></th>\n",
       "      <th>topic</th>\n",
       "      <th>summary</th>\n",
       "      <th>id_</th>\n",
       "    </tr>\n",
       "  </thead>\n",
       "  <tbody>\n",
       "    <tr>\n",
       "      <th>0</th>\n",
       "      <td>Non-Compete Clause Interpretation</td>\n",
       "      <td>The non-compete clause in the contract with Dr...</td>\n",
       "      <td>2111</td>\n",
       "    </tr>\n",
       "    <tr>\n",
       "      <th>1</th>\n",
       "      <td>Competitor Definition</td>\n",
       "      <td>The YouTube channel offering fantasy football ...</td>\n",
       "      <td>2111</td>\n",
       "    </tr>\n",
       "    <tr>\n",
       "      <th>2</th>\n",
       "      <td>Enforceability of Non-Compete Agreements</td>\n",
       "      <td>The enforceability of non-compete agreements v...</td>\n",
       "      <td>2111</td>\n",
       "    </tr>\n",
       "    <tr>\n",
       "      <th>3</th>\n",
       "      <td>First Amendment and Criminal Intent</td>\n",
       "      <td>The discussion revolves around the interpretat...</td>\n",
       "      <td>4373</td>\n",
       "    </tr>\n",
       "    <tr>\n",
       "      <th>4</th>\n",
       "      <td>Traffic Ticket Without Recorded Speed</td>\n",
       "      <td>The absence of a recorded speed on a traffic t...</td>\n",
       "      <td>1418</td>\n",
       "    </tr>\n",
       "    <tr>\n",
       "      <th>5</th>\n",
       "      <td>Tenant Rights and Responsibilities</td>\n",
       "      <td>A group of tenants, who are strangers to each ...</td>\n",
       "      <td>6857</td>\n",
       "    </tr>\n",
       "    <tr>\n",
       "      <th>6</th>\n",
       "      <td>Financial Hardship Due to COVID-19</td>\n",
       "      <td>One roommate's financial hardship due to job l...</td>\n",
       "      <td>6857</td>\n",
       "    </tr>\n",
       "    <tr>\n",
       "      <th>7</th>\n",
       "      <td>Lease Termination and Buyout Options</td>\n",
       "      <td>The tenant in financial hardship cannot afford...</td>\n",
       "      <td>6857</td>\n",
       "    </tr>\n",
       "    <tr>\n",
       "      <th>8</th>\n",
       "      <td>Property Damage in Parking Garage</td>\n",
       "      <td>A car owner parked in a self-service garage an...</td>\n",
       "      <td>51</td>\n",
       "    </tr>\n",
       "    <tr>\n",
       "      <th>9</th>\n",
       "      <td>Potential Online Scam</td>\n",
       "      <td>The individual may be involved in a potential ...</td>\n",
       "      <td>9334</td>\n",
       "    </tr>\n",
       "    <tr>\n",
       "      <th>10</th>\n",
       "      <td>Privacy Concerns</td>\n",
       "      <td>The individual has privacy concerns after shar...</td>\n",
       "      <td>9334</td>\n",
       "    </tr>\n",
       "    <tr>\n",
       "      <th>11</th>\n",
       "      <td>Legal Risks of Sharing Explicit Content</td>\n",
       "      <td>Sending explicit images can have legal implica...</td>\n",
       "      <td>9334</td>\n",
       "    </tr>\n",
       "    <tr>\n",
       "      <th>12</th>\n",
       "      <td>Trademark Registration</td>\n",
       "      <td>The individual owns the .com domain and variou...</td>\n",
       "      <td>5547</td>\n",
       "    </tr>\n",
       "    <tr>\n",
       "      <th>13</th>\n",
       "      <td>Trademark Rights</td>\n",
       "      <td>In the US and Canada, trademark rights are typ...</td>\n",
       "      <td>5547</td>\n",
       "    </tr>\n",
       "    <tr>\n",
       "      <th>14</th>\n",
       "      <td>Trademark Strategy</td>\n",
       "      <td>The individual is contemplating whether to pro...</td>\n",
       "      <td>5547</td>\n",
       "    </tr>\n",
       "    <tr>\n",
       "      <th>15</th>\n",
       "      <td>Brand Protection</td>\n",
       "      <td>The individual is seeking advice on how to pro...</td>\n",
       "      <td>5547</td>\n",
       "    </tr>\n",
       "    <tr>\n",
       "      <th>16</th>\n",
       "      <td>Speeding Ticket Contest</td>\n",
       "      <td>The individual received a speeding ticket and ...</td>\n",
       "      <td>1744</td>\n",
       "    </tr>\n",
       "    <tr>\n",
       "      <th>17</th>\n",
       "      <td>Court Appearance Guidance</td>\n",
       "      <td>The individual is seeking advice on how to app...</td>\n",
       "      <td>1744</td>\n",
       "    </tr>\n",
       "    <tr>\n",
       "      <th>18</th>\n",
       "      <td>Non-Compete Clause</td>\n",
       "      <td>The individual signed a one-year non-compete c...</td>\n",
       "      <td>1310</td>\n",
       "    </tr>\n",
       "    <tr>\n",
       "      <th>19</th>\n",
       "      <td>Property Damage Compensation</td>\n",
       "      <td>The individual is seeking compensation for a c...</td>\n",
       "      <td>9321</td>\n",
       "    </tr>\n",
       "    <tr>\n",
       "      <th>20</th>\n",
       "      <td>Insurance Claim</td>\n",
       "      <td>The individual is concerned about the insuranc...</td>\n",
       "      <td>9321</td>\n",
       "    </tr>\n",
       "  </tbody>\n",
       "</table>\n",
       "</div>"
      ],
      "text/plain": [
       "                                       topic  \\\n",
       "0          Non-Compete Clause Interpretation   \n",
       "1                      Competitor Definition   \n",
       "2   Enforceability of Non-Compete Agreements   \n",
       "3        First Amendment and Criminal Intent   \n",
       "4      Traffic Ticket Without Recorded Speed   \n",
       "5         Tenant Rights and Responsibilities   \n",
       "6         Financial Hardship Due to COVID-19   \n",
       "7       Lease Termination and Buyout Options   \n",
       "8          Property Damage in Parking Garage   \n",
       "9                      Potential Online Scam   \n",
       "10                          Privacy Concerns   \n",
       "11   Legal Risks of Sharing Explicit Content   \n",
       "12                    Trademark Registration   \n",
       "13                          Trademark Rights   \n",
       "14                        Trademark Strategy   \n",
       "15                          Brand Protection   \n",
       "16                   Speeding Ticket Contest   \n",
       "17                 Court Appearance Guidance   \n",
       "18                        Non-Compete Clause   \n",
       "19              Property Damage Compensation   \n",
       "20                           Insurance Claim   \n",
       "\n",
       "                                              summary   id_  \n",
       "0   The non-compete clause in the contract with Dr...  2111  \n",
       "1   The YouTube channel offering fantasy football ...  2111  \n",
       "2   The enforceability of non-compete agreements v...  2111  \n",
       "3   The discussion revolves around the interpretat...  4373  \n",
       "4   The absence of a recorded speed on a traffic t...  1418  \n",
       "5   A group of tenants, who are strangers to each ...  6857  \n",
       "6   One roommate's financial hardship due to job l...  6857  \n",
       "7   The tenant in financial hardship cannot afford...  6857  \n",
       "8   A car owner parked in a self-service garage an...    51  \n",
       "9   The individual may be involved in a potential ...  9334  \n",
       "10  The individual has privacy concerns after shar...  9334  \n",
       "11  Sending explicit images can have legal implica...  9334  \n",
       "12  The individual owns the .com domain and variou...  5547  \n",
       "13  In the US and Canada, trademark rights are typ...  5547  \n",
       "14  The individual is contemplating whether to pro...  5547  \n",
       "15  The individual is seeking advice on how to pro...  5547  \n",
       "16  The individual received a speeding ticket and ...  1744  \n",
       "17  The individual is seeking advice on how to app...  1744  \n",
       "18  The individual signed a one-year non-compete c...  1310  \n",
       "19  The individual is seeking compensation for a c...  9321  \n",
       "20  The individual is concerned about the insuranc...  9321  "
      ]
     },
     "execution_count": 71,
     "metadata": {},
     "output_type": "execute_result"
    }
   ],
   "source": [
    "test_res"
   ]
  },
  {
   "cell_type": "code",
   "execution_count": 9,
   "metadata": {},
   "outputs": [
    {
     "data": {
      "text/plain": [
       "10"
      ]
     },
     "execution_count": 9,
     "metadata": {},
     "output_type": "execute_result"
    }
   ],
   "source": [
    "test_res.id_.nunique()"
   ]
  },
  {
   "cell_type": "code",
   "execution_count": 12,
   "metadata": {},
   "outputs": [],
   "source": [
    "lc_docs = dataframe_to_lc_documents(test_res, 'summary')"
   ]
  },
  {
   "cell_type": "code",
   "execution_count": 17,
   "metadata": {},
   "outputs": [],
   "source": [
    "import numpy as np\n",
    "from sentence_transformers import CrossEncoder\n",
    "from typing import List\n",
    "from langchain.schema import Document\n",
    "\n",
    "def rerank_with_cross_encoder(\n",
    "    query: str, passages: List[Document], n_similar_docs: int\n",
    ") -> List[Document]:\n",
    "\n",
    "    model = CrossEncoder(\"BAAI/bge-reranker-large\")\n",
    "    scores = model.predict([(query, p.page_content) for p in passages])\n",
    "    # Convert to [0,1] so we might could use a cutoff later.\n",
    "    scores = 1.0 / (1 + np.exp(-np.array(scores)))\n",
    "    # get top k scoring passages\n",
    "    sorted_pairs = sorted(\n",
    "        zip(scores, passages),\n",
    "        key=lambda x: x[0],\n",
    "        reverse=True,\n",
    "    )\n",
    "    passages = [\n",
    "        d for _, d in sorted_pairs[: n_similar_docs]\n",
    "    ]\n",
    "    return passages"
   ]
  },
  {
   "cell_type": "code",
   "execution_count": 18,
   "metadata": {},
   "outputs": [],
   "source": [
    "reranked = rerank_with_cross_encoder(test_query, lc_docs, 10)"
   ]
  },
  {
   "cell_type": "code",
   "execution_count": 19,
   "metadata": {},
   "outputs": [
    {
     "data": {
      "text/plain": [
       "[Document(page_content=\"A group of tenants, who are strangers to each other, signed a lease to take over someone else's lease. The management company's practices, such as requiring deposits to be sent via Venmo to previous tenants and not ensuring the property was cleaned before move-in, were questionable. The tenants are jointly responsible for the lease, and one tenant's inability to pay due to job loss from the coronavirus pandemic has led to the management company demanding the remaining roommates cover the shortfall. This situation raises concerns about tenant rights, joint and several liability, and the responsibilities of property management companies during a crisis.\", metadata={'id_': 5}),\n",
       " Document(page_content=\"The non-compete clause in the contract with Draft Kings prohibits employment with any entity in the online fantasy sports contests business. Whether an unpaid position with a fantasy football advice YouTube channel constitutes 'entering employ' under this clause is unclear and may depend on the specific legal interpretation of 'employ' and the nature of the involvement with the channel.\", metadata={'id_': 0}),\n",
       " Document(page_content=\"The enforceability of non-compete agreements varies by jurisdiction and is subject to specific legal standards, including reasonableness in scope, duration, and geographic area. Courts may also consider the impact on an individual's ability to earn a living and the necessity of the restriction for the protection of the employer's legitimate business interests.\", metadata={'id_': 2}),\n",
       " Document(page_content=\"The individual may be involved in a potential online scam or catfishing situation, where they have shared personal images with someone they met online who is now requesting more intimate content. The other party's reluctance to share their own images and the excuse provided could be indicative of deceptive intentions.\", metadata={'id_': 9}),\n",
       " Document(page_content='The individual received a speeding ticket and initially considered contesting it due to a belief of not speeding. However, they lack evidence to support their claim and feel they cannot win against law enforcement. The individual plans to negotiate with the prosecution instead.', metadata={'id_': 16}),\n",
       " Document(page_content=\"One roommate's financial hardship due to job loss from COVID-19 has put the other tenants in a difficult position, as they are jointly responsible for the lease. The tenant who posted is also facing financial difficulties due to being laid off and is concerned about the impact on their credit score and finances if they are forced to cover the defaulting roommate's share of the rent.\", metadata={'id_': 6}),\n",
       " Document(page_content='The individual signed a one-year non-compete clause and is considering switching jobs, preferably to a competitor due to their industry knowledge. As a junior employee without access to proprietary information or company secrets, they are concerned about their rights and possible courses of action, given that they cannot afford to be unemployed for a year. They are willing to comply with the non-compete if they continue to be paid, and are seeking legal advice on how to proceed as a low-level employee with financial constraints.', metadata={'id_': 18}),\n",
       " Document(page_content=\"Sending explicit images can have legal implications, especially if the recipient's age is unknown or if they are a minor. It's important to be cautious when sharing such content to avoid potential legal issues.\", metadata={'id_': 11}),\n",
       " Document(page_content='The individual owns the .com domain and various social media handles for a brand name and is considering trademark registration. However, there are concerns about potential challenges due to pre-existing businesses using the same name on different platforms and domains.', metadata={'id_': 12}),\n",
       " Document(page_content='In the US and Canada, trademark rights are typically granted to the first entity to use the name in commerce. The individual is concerned that the other businesses using the same name for similar products may have established rights.', metadata={'id_': 13})]"
      ]
     },
     "execution_count": 19,
     "metadata": {},
     "output_type": "execute_result"
    }
   ],
   "source": [
    "reranked"
   ]
  },
  {
   "cell_type": "code",
   "execution_count": 65,
   "metadata": {},
   "outputs": [],
   "source": [
    "from src.parsing.utils import number_segments, extract_numbered_segments, parse_number_range_list, get_specs"
   ]
  },
  {
   "cell_type": "code",
   "execution_count": 25,
   "metadata": {},
   "outputs": [],
   "source": [
    "numbered_passage = number_segments(test_query, 4)"
   ]
  },
  {
   "cell_type": "code",
   "execution_count": 67,
   "metadata": {},
   "outputs": [],
   "source": [
    "from langchain.chains import LLMChain\n",
    "\n",
    "def extract_relevant(query: Optional[str] = None, message: Optional[str] = None, segment_length: int = 1):\n",
    "    model = ChatOpenAI(model=\"gpt-4-1106-preview\", temperature=0.0)\n",
    "    # number the segments in the passage\n",
    "    numbered_passage = number_segments(message, segment_length)\n",
    "    # build prompt\n",
    "    prompt = ChatPromptTemplate.from_messages(\n",
    "    [\n",
    "        (\n",
    "            \"system\",\n",
    "            \"The user will give you a PASSAGE containing segments numbered as <#1#>, <#2#>, <#3#>, etc., followed by a QUERY. Extract ONLY the segment-numbers from the PASSAGE that are RELEVANT to the QUERY.\",\n",
    "        ),\n",
    "        (\n",
    "            \"human\",\n",
    "            \"PASSAGE:\\n{numbered_passage}\\n\\nQUERY:\\n{query}\",\n",
    "        ),\n",
    "    ]\n",
    "    )\n",
    "\n",
    "    chain = LLMChain(llm=model, prompt=prompt)\n",
    "    spec = chain.run(query=query, numbered_passage=numbered_passage)\n",
    "    specs = get_specs(spec)\n",
    "    extracts = extract_numbered_segments(numbered_passage, specs)\n",
    "    return extracts"
   ]
  },
  {
   "cell_type": "code",
   "execution_count": 32,
   "metadata": {},
   "outputs": [
    {
     "data": {
      "text/plain": [
       "'I applied for a job and after two interviews I was given for and agreed to an offer letter, had a start date.  The only remaining variable was a drug test, which I prepared myself for by bringing all my prescriptions with me.  \\n\\nI take Adderall, my doctor prescribes me for 3 pills a day, insurance pays for only two a day so that’s what I get.  2 pills a day for 30 days.  \\n\\nHowever, I don’t need adderall everyday, so I only take it as needed.  My psychiatrist knows this and is okay with it.  I don’t take it everyday so my prescription can last me months, depending on circumstances.  \\n\\nOf course, I happen to take a drug test for a possible new job the day after taking an adderall at work.  No big deal, I have a prescription and it’s never been a big deal in the past.  \\n\\nExcept this time it was.  According to the doctor who administrated the test, my prescription was too old.  How old was it, I was prescribed in June and filled the prescription on July 8th, 2019.  I still have about a third of a bottle, I take adderall twice a week on average.  This doctor flipped out.  Not only did she refuse to inspect my prescription bottle when I talked to her in person, she demanded my medical records for all the prescriptions I take.  \\n\\nBoth of my doctors complied and when I talked to her on the phone to follow up, her exact words were “You’re prescription is too old, where are you getting it from.”  This pushed back my start date from a definite start to “wait and see” as I was still having my doctors trying to appease the drug test doctor.  \\n\\nI politely tried to explain that I don’t take my adderall everyday because I don’t need to and she would no listen.  So once again, I had my psychiatrist send another letter explaining in more detail.  \\nI didn’t hear anything back after that, and when following up with the perspective employer and now they’re having a “hiring freeze” and won’t be filling the position.  \\n\\n\\nSo, in Texas, when is a schedule II drug no longer considered valid?  \\n\\nTL;DR\\nDoctor said my prescription was too old and I must be getting amphetamines from an illegal source.'"
      ]
     },
     "execution_count": 32,
     "metadata": {},
     "output_type": "execute_result"
    }
   ],
   "source": [
    "test_query"
   ]
  },
  {
   "cell_type": "code",
   "execution_count": 68,
   "metadata": {},
   "outputs": [],
   "source": [
    "query = \"How many pills does this person take?\"\n",
    "\n",
    "res = extract_relevant(query, test_query, 1)"
   ]
  },
  {
   "cell_type": "code",
   "execution_count": 70,
   "metadata": {},
   "outputs": [
    {
     "name": "stdout",
     "output_type": "stream",
     "text": [
      "I take Adderall, my doctor prescribes me for 3 pills a day, insurance pays for only two a day so that’s what I get.  2 pills a day for 30 days.\n",
      "\n",
      "However, I don’t need adderall everyday, so I only take it as needed.  I don’t take it everyday so my prescription can last me months, depending on circumstances.\n",
      "\n",
      "I still have about a third of a bottle, I take adderall twice a week on average. \n"
     ]
    }
   ],
   "source": [
    "print(res)"
   ]
  },
  {
   "cell_type": "code",
   "execution_count": null,
   "metadata": {},
   "outputs": [],
   "source": []
  },
  {
   "cell_type": "code",
   "execution_count": null,
   "metadata": {},
   "outputs": [],
   "source": []
  },
  {
   "cell_type": "code",
   "execution_count": null,
   "metadata": {},
   "outputs": [],
   "source": []
  },
  {
   "cell_type": "code",
   "execution_count": 56,
   "metadata": {},
   "outputs": [
    {
     "name": "stdout",
     "output_type": "stream",
     "text": [
      "{'parties': [{'person': 'Kenneth Armani', 'role': 'Senior Appellant', 'background': 'Charged with check fraud by the Illinois Department of Insurance, which he claims was fabricated in retaliation for his complaints to the EEOC and Department of Human Rights.'}, {'person': 'Martin Grovy', 'role': 'Appellee', 'background': 'Representative of the Illinois Department of Insurance.'}, {'person': 'Helen Kim', 'role': 'Appellee', 'background': 'Representative of the Illinois Department of Insurance.'}, {'person': 'Patrick Riley', 'role': 'Appellee', 'background': 'Representative of the Illinois Department of Insurance.'}, {'person': 'Laura Omera', 'role': 'Assistant Attorney General', 'background': \"Representing the Illinois Department of Insurance, defending the department's decision to suspend Kenneth Armani's license.\"}], 'arguments': [{'topic': 'Check Fraud Charge', 'side': 'Plaintiff', 'person': 'Kenneth Armani', 'summary': 'Argues that the check fraud charge was fabricated by the Illinois Department of Insurance in retaliation for his complaints to the EEOC and Department of Human Rights. Claims no complaint, authority, or original documents exist to support the charge, and that the Illinois Department of Insurance violated Illinois law.'}, {'topic': 'Administrative Decision', 'side': 'Defense', 'person': 'Laura Omera', 'summary': \"Defends the Illinois Department of Insurance's decision to suspend Kenneth Armani's license based on findings of dishonest practices. Argues that the circuit court lacked jurisdiction over the action as it was an improper collateral attack on a final administrative decision, and that the complaint is barred by statute of limitations and sovereign immunity.\"}, {'topic': 'Rehearing Ordered by Office of the Executive Inspector General', 'side': 'Plaintiff', 'person': 'Kenneth Armani', 'summary': 'Claims that a rehearing was ordered by the Office of the Executive Inspector General, which found no evidence to support the check fraud charge. Emphasizes that the Illinois Department of Insurance could not provide necessary documentation or authority to prove the charge.'}, {'topic': 'Separate Administrative Proceedings', 'side': 'Defense', 'person': 'Laura Omera', 'summary': \"Clarifies that the 2020 hearing was separate from the 2015 proceedings and was related to the denial of Kenneth Armani's license renewal application. States that no criminal charges of check fraud were made, and the department's actions were civil proceedings under the Illinois insurance code.\"}]}\n"
     ]
    }
   ],
   "source": [
    "res_doc_flat = flatten_pydantic_instance(res_doc, \"\")\n",
    "print(res_doc_flat)"
   ]
  },
  {
   "cell_type": "code",
   "execution_count": 57,
   "metadata": {},
   "outputs": [
    {
     "data": {
      "text/html": [
       "<div>\n",
       "<style scoped>\n",
       "    .dataframe tbody tr th:only-of-type {\n",
       "        vertical-align: middle;\n",
       "    }\n",
       "\n",
       "    .dataframe tbody tr th {\n",
       "        vertical-align: top;\n",
       "    }\n",
       "\n",
       "    .dataframe thead th {\n",
       "        text-align: right;\n",
       "    }\n",
       "</style>\n",
       "<table border=\"1\" class=\"dataframe\">\n",
       "  <thead>\n",
       "    <tr style=\"text-align: right;\">\n",
       "      <th></th>\n",
       "      <th>person</th>\n",
       "      <th>role</th>\n",
       "      <th>background</th>\n",
       "    </tr>\n",
       "  </thead>\n",
       "  <tbody>\n",
       "    <tr>\n",
       "      <th>0</th>\n",
       "      <td>Kenneth Armani</td>\n",
       "      <td>Senior Appellant</td>\n",
       "      <td>Charged with check fraud by the Illinois Depar...</td>\n",
       "    </tr>\n",
       "    <tr>\n",
       "      <th>1</th>\n",
       "      <td>Martin Grovy</td>\n",
       "      <td>Appellee</td>\n",
       "      <td>Representative of the Illinois Department of I...</td>\n",
       "    </tr>\n",
       "    <tr>\n",
       "      <th>2</th>\n",
       "      <td>Helen Kim</td>\n",
       "      <td>Appellee</td>\n",
       "      <td>Representative of the Illinois Department of I...</td>\n",
       "    </tr>\n",
       "    <tr>\n",
       "      <th>3</th>\n",
       "      <td>Patrick Riley</td>\n",
       "      <td>Appellee</td>\n",
       "      <td>Representative of the Illinois Department of I...</td>\n",
       "    </tr>\n",
       "    <tr>\n",
       "      <th>4</th>\n",
       "      <td>Laura Omera</td>\n",
       "      <td>Assistant Attorney General</td>\n",
       "      <td>Representing the Illinois Department of Insura...</td>\n",
       "    </tr>\n",
       "  </tbody>\n",
       "</table>\n",
       "</div>"
      ],
      "text/plain": [
       "           person                        role  \\\n",
       "0  Kenneth Armani            Senior Appellant   \n",
       "1    Martin Grovy                    Appellee   \n",
       "2       Helen Kim                    Appellee   \n",
       "3   Patrick Riley                    Appellee   \n",
       "4     Laura Omera  Assistant Attorney General   \n",
       "\n",
       "                                          background  \n",
       "0  Charged with check fraud by the Illinois Depar...  \n",
       "1  Representative of the Illinois Department of I...  \n",
       "2  Representative of the Illinois Department of I...  \n",
       "3  Representative of the Illinois Department of I...  \n",
       "4  Representing the Illinois Department of Insura...  "
      ]
     },
     "execution_count": 57,
     "metadata": {},
     "output_type": "execute_result"
    }
   ],
   "source": [
    "pd.DataFrame(res_doc_flat['parties'])"
   ]
  },
  {
   "cell_type": "code",
   "execution_count": null,
   "metadata": {},
   "outputs": [],
   "source": []
  },
  {
   "cell_type": "code",
   "execution_count": 50,
   "metadata": {},
   "outputs": [],
   "source": [
    "df.drop(\"panel\", inplace=True, axis=1)"
   ]
  },
  {
   "cell_type": "code",
   "execution_count": 52,
   "metadata": {},
   "outputs": [
    {
     "data": {
      "text/markdown": [
       "COLUMN NAMES:\n",
       "'resource_uri' 'id' 'absolute_url' 'docket' 'date_created' 'date_modified' 'source' 'case_name_short' 'case_name' 'case_name_full' 'judges' 'sha1' 'download_url' 'local_path_mp3' 'local_path_original_file' 'filepath_ia' 'ia_upload_failure_count' 'duration' 'processing_complete' 'date_blocked' 'blocked' 'stt_status' 'stt_google_response' 'insurance_found'\n",
       "\n",
       "Numerical Column Summary:\n",
       "             id duration stt_status insurance_found\n",
       "count    200.00   199.00     200.00          200.00\n",
       "mean   89839.50  1708.59       0.00            0.02\n",
       "std       57.88   684.27       0.00            0.14\n",
       "min    89740.00   347.00       0.00            0.00\n",
       "25%    89789.75  1220.50       0.00            0.00\n",
       "50%    89839.50  1610.00       0.00            0.00\n",
       "75%    89889.25  2015.00       0.00            0.00\n",
       "max    89939.00  4080.00       0.00            1.00\n",
       "\n",
       "Categorical Column Summary:\n",
       "'resource_uri': 200 unique values\n",
       "'absolute_url': 200 unique values\n",
       "'docket': 200 unique values\n",
       "'date_created': 200 unique values\n",
       "'date_modified': 200 unique values\n",
       "'source': C\n",
       "'case_name_short': 121 unique values\n",
       "'case_name': 199 unique values\n",
       "'case_name_full': \n",
       "'judges': , Millett, Wilkins, Garcia, KOH, THOMAS, DESAI, TASHIMA, UNKNOWN, CHRISTEN, Millett, Pan, Randolph, GOULD, KOH, DESAI\n",
       "'sha1': 200 unique values\n",
       "'download_url': 200 unique values\n",
       "'local_path_mp3': 199 unique values\n",
       "'local_path_original_file': 200 unique values\n",
       "'filepath_ia': 200 unique values\n",
       "'ia_upload_failure_count': None\n",
       "'date_blocked': None\n",
       "'stt_google_response': \n",
       "\n",
       "Missing Values Column Summary:\n",
       "                          missing_values\n",
       "resource_uri                           0\n",
       "id                                     0\n",
       "absolute_url                           0\n",
       "docket                                 0\n",
       "date_created                           0\n",
       "date_modified                          0\n",
       "source                                 0\n",
       "case_name_short                        0\n",
       "case_name                              0\n",
       "case_name_full                         0\n",
       "judges                                 0\n",
       "sha1                                   0\n",
       "download_url                           0\n",
       "local_path_mp3                         1\n",
       "local_path_original_file               0\n",
       "filepath_ia                            0\n",
       "ia_upload_failure_count              200\n",
       "duration                               1\n",
       "processing_complete                    0\n",
       "date_blocked                         200\n",
       "blocked                                0\n",
       "stt_status                             0\n",
       "stt_google_response                    0\n",
       "insurance_found                        0\n"
      ],
      "text/plain": [
       "<IPython.core.display.Markdown object>"
      ]
     },
     "execution_count": 52,
     "metadata": {},
     "output_type": "execute_result"
    }
   ],
   "source": [
    "Markdown(f\"{dataframe_summary(df)}\")"
   ]
  },
  {
   "cell_type": "code",
   "execution_count": null,
   "metadata": {},
   "outputs": [],
   "source": []
  },
  {
   "cell_type": "code",
   "execution_count": 146,
   "metadata": {},
   "outputs": [],
   "source": [
    "class CourtListenerExtractor:\n",
    "    def __init__(self, database_path, base_url=\"https://www.courtlistener.com/api/rest/v3/audio/\"):\n",
    "        \"\"\"\n",
    "        Initializes the CourtListenerExtractor with the path to the database file.\n",
    "\n",
    "        Args:\n",
    "        database_path (str): The path to the Excel file database.\n",
    "        \"\"\"\n",
    "        self.database_path = database_path\n",
    "        self.base_url=base_url\n",
    "\n",
    "    def fetch_records(self, start_page, end_page):\n",
    "        \"\"\"\n",
    "        Fetches records from Court Listener based on a page range.\n",
    "        \n",
    "        Args:\n",
    "        start_page (int): court listener web search start\n",
    "        end_page (int): court listener web search start\n",
    "\n",
    "        Returns:\n",
    "        pd.DataFrame: A DataFrame containing the fetched records.\n",
    "        \"\"\"\n",
    "        all_results = []\n",
    "        for page in tqdm(range(start_page, end_page + 1)):\n",
    "            url = f\"{self.base_url}?page={page}\"\n",
    "            data = self.fetch_page_(url)\n",
    "            all_results.extend(data[\"results\"])\n",
    "            time.sleep(1)\n",
    "        df = pd.DataFrame.from_records(all_results)\n",
    "        return df\n",
    "\n",
    "    def add_rows_to_excel(self, input_df):\n",
    "        # Convert lists to strings in input_df\n",
    "        input_df = input_df.applymap(lambda x: str(x) if isinstance(x, list) else x)\n",
    "        \n",
    "        existing_df = pd.DataFrame()\n",
    "        if os.path.exists(self.database_path):\n",
    "            # Load the existing data\n",
    "            existing_df = pd.read_excel(self.database_path)\n",
    "\n",
    "            # Convert lists to strings in existing_df\n",
    "            existing_df = existing_df.applymap(lambda x: str(x) if isinstance(x, list) else x)\n",
    "\n",
    "        # Concatenate the existing data with the new data\n",
    "        combined_df = pd.concat([existing_df, input_df])\n",
    "\n",
    "        # Remove the 'unique_index' column before removing duplicates\n",
    "        combined_df = combined_df.drop(columns=['unique_index'])\n",
    "\n",
    "        # Remove duplicates\n",
    "        final_df = combined_df.drop_duplicates()\n",
    "\n",
    "        # Reassign the 'unique_index' column\n",
    "        final_df['unique_index'] = range(1, len(final_df) + 1)\n",
    "\n",
    "        print(f\"Total number of rows: {len(final_df)}\")\n",
    "        print(f\"Number of new rows added: {len(final_df) - len(existing_df)}\")\n",
    "\n",
    "        # Write the data to the Excel file\n",
    "        final_df.to_excel(self.database_path, index=False)\n",
    "\n",
    "    def update_database(self, new_records):\n",
    "        \"\"\"\n",
    "        Updates the database with new records.\n",
    "\n",
    "        Args:\n",
    "        new_records (pd.DataFrame): New records to be added to the database.\n",
    "        \"\"\"\n",
    "        self.add_rows_to_excel(new_records)\n",
    "        \n",
    "    @backoff.on_exception(backoff.expo, (requests.exceptions.RequestException, requests.exceptions.HTTPError), max_tries=8)\n",
    "    def fetch_page_(self, url):\n",
    "        response = requests.get(url)\n",
    "        response.raise_for_status()  # Raises a HTTPError if the status is 4xx, 5xx\n",
    "        return response.json()\n",
    "    \n",
    "    def find_subset_with_keyword(self, keyword=\"insurance\"):\n",
    "        \"\"\"\n",
    "        Finds a subset of records containing a specific keyword.\n",
    "\n",
    "        Args:\n",
    "        keyword (str, optional): The keyword to search for. Defaults to \"insurance\".\n",
    "\n",
    "        Returns:\n",
    "        pd.DataFrame: A DataFrame containing the subset of records with the keyword.\n",
    "        \"\"\"\n",
    "        if not os.path.exists(self.database_path):\n",
    "            raise FileNotFoundError(f\"Database file {self.database_path} not found.\")\n",
    "\n",
    "        # Load the existing data\n",
    "        df = pd.read_excel(self.database_path)\n",
    "\n",
    "        # Finding the subset with the keyword\n",
    "        subset_df = df[df.apply(lambda row: row.astype(str).str.contains(keyword).any(), axis=1)]\n",
    "        print(f\"Records with keyword: {keyword}: {len(subset_df)}\")\n",
    "        \n",
    "        return subset_df\n",
    "\n",
    "# Example usage:\n",
    "# extractor = CourtListenerExtractor(\"path/to/database.xlsx\")\n",
    "# new_records = extractor.fetch_records(1, 11)\n",
    "# extractor.update_database(new_records)"
   ]
  },
  {
   "cell_type": "code",
   "execution_count": 129,
   "metadata": {},
   "outputs": [],
   "source": [
    "extractor = CourtListenerExtractor(\"database.xlsx\")"
   ]
  },
  {
   "cell_type": "code",
   "execution_count": 130,
   "metadata": {},
   "outputs": [
    {
     "name": "stderr",
     "output_type": "stream",
     "text": [
      "100%|██████████| 6/6 [00:08<00:00,  1.48s/it]\n"
     ]
    }
   ],
   "source": [
    "new_records = extractor.fetch_records(1, 6)"
   ]
  },
  {
   "cell_type": "code",
   "execution_count": 131,
   "metadata": {},
   "outputs": [
    {
     "data": {
      "text/html": [
       "<div>\n",
       "<style scoped>\n",
       "    .dataframe tbody tr th:only-of-type {\n",
       "        vertical-align: middle;\n",
       "    }\n",
       "\n",
       "    .dataframe tbody tr th {\n",
       "        vertical-align: top;\n",
       "    }\n",
       "\n",
       "    .dataframe thead th {\n",
       "        text-align: right;\n",
       "    }\n",
       "</style>\n",
       "<table border=\"1\" class=\"dataframe\">\n",
       "  <thead>\n",
       "    <tr style=\"text-align: right;\">\n",
       "      <th></th>\n",
       "      <th>resource_uri</th>\n",
       "      <th>id</th>\n",
       "      <th>absolute_url</th>\n",
       "      <th>panel</th>\n",
       "      <th>docket</th>\n",
       "      <th>date_created</th>\n",
       "      <th>date_modified</th>\n",
       "      <th>source</th>\n",
       "      <th>case_name_short</th>\n",
       "      <th>case_name</th>\n",
       "      <th>case_name_full</th>\n",
       "      <th>judges</th>\n",
       "      <th>sha1</th>\n",
       "      <th>download_url</th>\n",
       "      <th>local_path_mp3</th>\n",
       "      <th>local_path_original_file</th>\n",
       "      <th>filepath_ia</th>\n",
       "      <th>ia_upload_failure_count</th>\n",
       "      <th>duration</th>\n",
       "      <th>processing_complete</th>\n",
       "      <th>date_blocked</th>\n",
       "      <th>blocked</th>\n",
       "      <th>stt_status</th>\n",
       "      <th>stt_google_response</th>\n",
       "    </tr>\n",
       "  </thead>\n",
       "  <tbody>\n",
       "    <tr>\n",
       "      <th>0</th>\n",
       "      <td>https://www.courtlistener.com/api/rest/v3/audi...</td>\n",
       "      <td>89173</td>\n",
       "      <td>/audio/89173/appvion-inc-retirement-savin-v-do...</td>\n",
       "      <td>[]</td>\n",
       "      <td>https://www.courtlistener.com/api/rest/v3/dock...</td>\n",
       "      <td>2023-12-01T14:30:43.486459-08:00</td>\n",
       "      <td>2023-12-01T14:30:43.486469-08:00</td>\n",
       "      <td>C</td>\n",
       "      <td></td>\n",
       "      <td>Appvion, Inc. Retirement Savin v. Douglas Buth</td>\n",
       "      <td></td>\n",
       "      <td></td>\n",
       "      <td>f2922a7f6a7085a3a6047ab6cd64e73d5e2d2180</td>\n",
       "      <td>http://media.ca7.uscourts.gov/sound/external/k...</td>\n",
       "      <td>mp3/2023/12/01/appvion_inc._retirement_savin_v...</td>\n",
       "      <td>mp3/2023/12/01/appvion_inc._retirement_savin_v...</td>\n",
       "      <td></td>\n",
       "      <td>None</td>\n",
       "      <td>3738.0</td>\n",
       "      <td>True</td>\n",
       "      <td>None</td>\n",
       "      <td>False</td>\n",
       "      <td>0</td>\n",
       "      <td></td>\n",
       "    </tr>\n",
       "    <tr>\n",
       "      <th>1</th>\n",
       "      <td>https://www.courtlistener.com/api/rest/v3/audi...</td>\n",
       "      <td>89172</td>\n",
       "      <td>/audio/89172/denise-evans-v-united-states/</td>\n",
       "      <td>[]</td>\n",
       "      <td>https://www.courtlistener.com/api/rest/v3/dock...</td>\n",
       "      <td>2023-12-01T14:30:37.142049-08:00</td>\n",
       "      <td>2023-12-01T14:30:37.142060-08:00</td>\n",
       "      <td>C</td>\n",
       "      <td></td>\n",
       "      <td>Denise Evans v. United States</td>\n",
       "      <td></td>\n",
       "      <td></td>\n",
       "      <td>37fa42c525b70a19c7ededd868cb9219d0bac5c8</td>\n",
       "      <td>http://media.ca7.uscourts.gov/sound/external/k...</td>\n",
       "      <td>mp3/2023/12/01/denise_evans_v._united_states_c...</td>\n",
       "      <td>mp3/2023/12/01/denise_evans_v._united_states.mp3</td>\n",
       "      <td></td>\n",
       "      <td>None</td>\n",
       "      <td>1470.0</td>\n",
       "      <td>True</td>\n",
       "      <td>None</td>\n",
       "      <td>False</td>\n",
       "      <td>0</td>\n",
       "      <td></td>\n",
       "    </tr>\n",
       "  </tbody>\n",
       "</table>\n",
       "</div>"
      ],
      "text/plain": [
       "                                        resource_uri     id  \\\n",
       "0  https://www.courtlistener.com/api/rest/v3/audi...  89173   \n",
       "1  https://www.courtlistener.com/api/rest/v3/audi...  89172   \n",
       "\n",
       "                                        absolute_url panel  \\\n",
       "0  /audio/89173/appvion-inc-retirement-savin-v-do...    []   \n",
       "1         /audio/89172/denise-evans-v-united-states/    []   \n",
       "\n",
       "                                              docket  \\\n",
       "0  https://www.courtlistener.com/api/rest/v3/dock...   \n",
       "1  https://www.courtlistener.com/api/rest/v3/dock...   \n",
       "\n",
       "                       date_created                     date_modified source  \\\n",
       "0  2023-12-01T14:30:43.486459-08:00  2023-12-01T14:30:43.486469-08:00      C   \n",
       "1  2023-12-01T14:30:37.142049-08:00  2023-12-01T14:30:37.142060-08:00      C   \n",
       "\n",
       "  case_name_short                                       case_name  \\\n",
       "0                  Appvion, Inc. Retirement Savin v. Douglas Buth   \n",
       "1                                   Denise Evans v. United States   \n",
       "\n",
       "  case_name_full judges                                      sha1  \\\n",
       "0                        f2922a7f6a7085a3a6047ab6cd64e73d5e2d2180   \n",
       "1                        37fa42c525b70a19c7ededd868cb9219d0bac5c8   \n",
       "\n",
       "                                        download_url  \\\n",
       "0  http://media.ca7.uscourts.gov/sound/external/k...   \n",
       "1  http://media.ca7.uscourts.gov/sound/external/k...   \n",
       "\n",
       "                                      local_path_mp3  \\\n",
       "0  mp3/2023/12/01/appvion_inc._retirement_savin_v...   \n",
       "1  mp3/2023/12/01/denise_evans_v._united_states_c...   \n",
       "\n",
       "                            local_path_original_file filepath_ia  \\\n",
       "0  mp3/2023/12/01/appvion_inc._retirement_savin_v...               \n",
       "1   mp3/2023/12/01/denise_evans_v._united_states.mp3               \n",
       "\n",
       "  ia_upload_failure_count  duration  processing_complete date_blocked  \\\n",
       "0                    None    3738.0                 True         None   \n",
       "1                    None    1470.0                 True         None   \n",
       "\n",
       "   blocked  stt_status stt_google_response  \n",
       "0    False           0                      \n",
       "1    False           0                      "
      ]
     },
     "execution_count": 131,
     "metadata": {},
     "output_type": "execute_result"
    }
   ],
   "source": [
    "new_records.head(2)"
   ]
  },
  {
   "cell_type": "code",
   "execution_count": 132,
   "metadata": {},
   "outputs": [
    {
     "name": "stdout",
     "output_type": "stream",
     "text": [
      "Total number of rows: 340\n",
      "Number of new rows added: 120\n"
     ]
    }
   ],
   "source": [
    "extractor.update_database(new_records)"
   ]
  },
  {
   "cell_type": "code",
   "execution_count": 145,
   "metadata": {},
   "outputs": [],
   "source": [
    "class AudioTranscriber:\n",
    "    def __init__(self, download_path, text_output_path, model_name='base'):\n",
    "        self.download_path = download_path\n",
    "        self.text_output_path = text_output_path\n",
    "        self.transcription_model = whisper.load_model(model_name)\n",
    "        self._create_directory_if_not_exists(download_path)\n",
    "        self._create_directory_if_not_exists(text_output_path)\n",
    "\n",
    "    def _create_directory_if_not_exists(self, path):\n",
    "        if not os.path.exists(path):\n",
    "            os.makedirs(path)\n",
    "\n",
    "    def download_mp3(self, url, file_name, unique_index):\n",
    "        file_path = os.path.join(self.download_path, f\"{file_name}_{unique_index}.mp3\")\n",
    "        if os.path.exists(file_path):\n",
    "            print(f\"File {file_name}.mp3 already exists.\")\n",
    "            return file_path\n",
    "\n",
    "        try:\n",
    "            response = requests.get(url, stream=True)\n",
    "            response.raise_for_status()\n",
    "\n",
    "            with open(file_path, 'wb') as file:\n",
    "                for chunk in response.iter_content(chunk_size=8192):\n",
    "                    file.write(chunk)\n",
    "\n",
    "            print(f\"File downloaded and saved as {file_path}\")\n",
    "            return file_path\n",
    "        except requests.RequestException as e:\n",
    "            print(f\"An error occurred: {e}\")\n",
    "\n",
    "    def transcribe_audio(self, file_path):\n",
    "        result = self.transcription_model.transcribe(file_path)\n",
    "        return result['text']\n",
    "    \n",
    "    def save_transcription(self, text, file_name, unique_index):\n",
    "        text_file_path = os.path.join(self.text_output_path, f\"{file_name}_{unique_index}.txt\")\n",
    "        with open(text_file_path, 'w') as file:\n",
    "            file.write(text)\n",
    "        print(f\"Transcription saved as {text_file_path}\")\n",
    "\n",
    "    def read_transcription(self, file_name, unique_index):\n",
    "        text_file_path = os.path.join(self.text_output_path, f\"{file_name}_{unique_index}.txt\")\n",
    "        if not os.path.exists(text_file_path):\n",
    "            print(f\"No transcription file found for {file_name}\")\n",
    "            return None\n",
    "        with open(text_file_path, 'r') as file:\n",
    "            return file.read()\n",
    "\n",
    "    def process_batch(self, df):\n",
    "        for _, row in df.iterrows():\n",
    "            url = row['download_url']\n",
    "            name = re.sub(r'\\W+', '', row['case_name'])\n",
    "            unique_index = row['unique_index']\n",
    "            file_path = self.download_mp3(url, name, unique_index)\n",
    "            if file_path:\n",
    "                transcription = self.transcribe_audio(file_path)\n",
    "                self.save_transcription(transcription, name, unique_index)\n",
    "\n",
    "# Example usage:\n",
    "# audio_transcriber = AudioTranscriber('path/to/download', 'path/to/text_output')\n",
    "# extractor = CourtListenerExtractor(\"database.xlsx\")\n",
    "# df = extractor.fetch_records(1, 11)\n",
    "# audio_transcriber.process_batch(df)"
   ]
  },
  {
   "cell_type": "code",
   "execution_count": 137,
   "metadata": {},
   "outputs": [],
   "source": [
    "audio_transcriber = AudioTranscriber('audio', 'transcriptions')"
   ]
  },
  {
   "cell_type": "code",
   "execution_count": 138,
   "metadata": {},
   "outputs": [],
   "source": [
    "extractor = CourtListenerExtractor(\"database.xlsx\")"
   ]
  },
  {
   "cell_type": "code",
   "execution_count": null,
   "metadata": {},
   "outputs": [],
   "source": [
    "df = extractor.fetch_records(1, 11)"
   ]
  },
  {
   "cell_type": "code",
   "execution_count": 139,
   "metadata": {},
   "outputs": [],
   "source": [
    "insurance_cases = extractor.find_subset_with_keyword()"
   ]
  },
  {
   "cell_type": "code",
   "execution_count": 141,
   "metadata": {},
   "outputs": [
    {
     "data": {
      "text/html": [
       "<div>\n",
       "<style scoped>\n",
       "    .dataframe tbody tr th:only-of-type {\n",
       "        vertical-align: middle;\n",
       "    }\n",
       "\n",
       "    .dataframe tbody tr th {\n",
       "        vertical-align: top;\n",
       "    }\n",
       "\n",
       "    .dataframe thead th {\n",
       "        text-align: right;\n",
       "    }\n",
       "</style>\n",
       "<table border=\"1\" class=\"dataframe\">\n",
       "  <thead>\n",
       "    <tr style=\"text-align: right;\">\n",
       "      <th></th>\n",
       "      <th>resource_uri</th>\n",
       "      <th>id</th>\n",
       "      <th>absolute_url</th>\n",
       "      <th>panel</th>\n",
       "      <th>docket</th>\n",
       "      <th>date_created</th>\n",
       "      <th>date_modified</th>\n",
       "      <th>source</th>\n",
       "      <th>case_name_short</th>\n",
       "      <th>case_name</th>\n",
       "      <th>case_name_full</th>\n",
       "      <th>judges</th>\n",
       "      <th>sha1</th>\n",
       "      <th>download_url</th>\n",
       "      <th>local_path_mp3</th>\n",
       "      <th>local_path_original_file</th>\n",
       "      <th>filepath_ia</th>\n",
       "      <th>ia_upload_failure_count</th>\n",
       "      <th>duration</th>\n",
       "      <th>processing_complete</th>\n",
       "      <th>date_blocked</th>\n",
       "      <th>blocked</th>\n",
       "      <th>stt_status</th>\n",
       "      <th>stt_google_response</th>\n",
       "      <th>unique_index</th>\n",
       "    </tr>\n",
       "  </thead>\n",
       "  <tbody>\n",
       "    <tr>\n",
       "      <th>16</th>\n",
       "      <td>https://www.courtlistener.com/api/rest/v3/audi...</td>\n",
       "      <td>89157</td>\n",
       "      <td>/audio/89157/mannie-v-illinois-department-of-i...</td>\n",
       "      <td>[]</td>\n",
       "      <td>https://www.courtlistener.com/api/rest/v3/dock...</td>\n",
       "      <td>2023-11-30T14:54:57.601458-08:00</td>\n",
       "      <td>2023-12-01T01:38:54.934186-08:00</td>\n",
       "      <td>C</td>\n",
       "      <td>Mannie</td>\n",
       "      <td>Mannie v. Illinois Department of Insurance</td>\n",
       "      <td>NaN</td>\n",
       "      <td>NaN</td>\n",
       "      <td>efc0ffa7dcce6495ee918087d7d986f520f89168</td>\n",
       "      <td>https://ilcourtsaudio.blob.core.windows.net/an...</td>\n",
       "      <td>mp3/2023/11/30/mannie_v._illinois_department_o...</td>\n",
       "      <td>mp3/2023/11/30/mannie_v._illinois_department_o...</td>\n",
       "      <td>https://archive.org/download/gov.uscourts.illa...</td>\n",
       "      <td>NaN</td>\n",
       "      <td>1212.0</td>\n",
       "      <td>True</td>\n",
       "      <td>NaN</td>\n",
       "      <td>False</td>\n",
       "      <td>0</td>\n",
       "      <td>NaN</td>\n",
       "      <td>17</td>\n",
       "    </tr>\n",
       "    <tr>\n",
       "      <th>18</th>\n",
       "      <td>https://www.courtlistener.com/api/rest/v3/audi...</td>\n",
       "      <td>89155</td>\n",
       "      <td>/audio/89155/till-v-national-health-insurance-co/</td>\n",
       "      <td>[]</td>\n",
       "      <td>https://www.courtlistener.com/api/rest/v3/dock...</td>\n",
       "      <td>2023-11-30T14:54:52.407621-08:00</td>\n",
       "      <td>2023-12-01T02:00:48.933627-08:00</td>\n",
       "      <td>C</td>\n",
       "      <td>Till</td>\n",
       "      <td>Till v. National Health Insurance Co.</td>\n",
       "      <td>NaN</td>\n",
       "      <td>NaN</td>\n",
       "      <td>e4cceca79c20f86832d1eb77c122bfceb6597a77</td>\n",
       "      <td>https://ilcourtsaudio.blob.core.windows.net/an...</td>\n",
       "      <td>mp3/2023/11/30/till_v._national_health_insuran...</td>\n",
       "      <td>mp3/2023/11/30/till_v._national_health_insuran...</td>\n",
       "      <td>https://archive.org/download/gov.uscourts.illa...</td>\n",
       "      <td>NaN</td>\n",
       "      <td>2153.0</td>\n",
       "      <td>True</td>\n",
       "      <td>NaN</td>\n",
       "      <td>False</td>\n",
       "      <td>0</td>\n",
       "      <td>NaN</td>\n",
       "      <td>19</td>\n",
       "    </tr>\n",
       "  </tbody>\n",
       "</table>\n",
       "</div>"
      ],
      "text/plain": [
       "                                         resource_uri     id  \\\n",
       "16  https://www.courtlistener.com/api/rest/v3/audi...  89157   \n",
       "18  https://www.courtlistener.com/api/rest/v3/audi...  89155   \n",
       "\n",
       "                                         absolute_url panel  \\\n",
       "16  /audio/89157/mannie-v-illinois-department-of-i...    []   \n",
       "18  /audio/89155/till-v-national-health-insurance-co/    []   \n",
       "\n",
       "                                               docket  \\\n",
       "16  https://www.courtlistener.com/api/rest/v3/dock...   \n",
       "18  https://www.courtlistener.com/api/rest/v3/dock...   \n",
       "\n",
       "                        date_created                     date_modified source  \\\n",
       "16  2023-11-30T14:54:57.601458-08:00  2023-12-01T01:38:54.934186-08:00      C   \n",
       "18  2023-11-30T14:54:52.407621-08:00  2023-12-01T02:00:48.933627-08:00      C   \n",
       "\n",
       "   case_name_short                                   case_name  \\\n",
       "16          Mannie  Mannie v. Illinois Department of Insurance   \n",
       "18            Till       Till v. National Health Insurance Co.   \n",
       "\n",
       "    case_name_full judges                                      sha1  \\\n",
       "16             NaN    NaN  efc0ffa7dcce6495ee918087d7d986f520f89168   \n",
       "18             NaN    NaN  e4cceca79c20f86832d1eb77c122bfceb6597a77   \n",
       "\n",
       "                                         download_url  \\\n",
       "16  https://ilcourtsaudio.blob.core.windows.net/an...   \n",
       "18  https://ilcourtsaudio.blob.core.windows.net/an...   \n",
       "\n",
       "                                       local_path_mp3  \\\n",
       "16  mp3/2023/11/30/mannie_v._illinois_department_o...   \n",
       "18  mp3/2023/11/30/till_v._national_health_insuran...   \n",
       "\n",
       "                             local_path_original_file  \\\n",
       "16  mp3/2023/11/30/mannie_v._illinois_department_o...   \n",
       "18  mp3/2023/11/30/till_v._national_health_insuran...   \n",
       "\n",
       "                                          filepath_ia  \\\n",
       "16  https://archive.org/download/gov.uscourts.illa...   \n",
       "18  https://archive.org/download/gov.uscourts.illa...   \n",
       "\n",
       "    ia_upload_failure_count  duration  processing_complete  date_blocked  \\\n",
       "16                      NaN    1212.0                 True           NaN   \n",
       "18                      NaN    2153.0                 True           NaN   \n",
       "\n",
       "    blocked  stt_status  stt_google_response  unique_index  \n",
       "16    False           0                  NaN            17  \n",
       "18    False           0                  NaN            19  "
      ]
     },
     "execution_count": 141,
     "metadata": {},
     "output_type": "execute_result"
    }
   ],
   "source": [
    "insurance_cases.head(2)"
   ]
  },
  {
   "cell_type": "code",
   "execution_count": 142,
   "metadata": {},
   "outputs": [
    {
     "name": "stdout",
     "output_type": "stream",
     "text": [
      "File downloaded and saved as audio\\MannievIllinoisDepartmentofInsurance.mp3\n",
      "Transcription saved as transcriptions\\MannievIllinoisDepartmentofInsurance.txt\n",
      "File downloaded and saved as audio\\TillvNationalHealthInsuranceCo.mp3\n",
      "Transcription saved as transcriptions\\TillvNationalHealthInsuranceCo.txt\n",
      "CPU times: total: 41min 45s\n",
      "Wall time: 5min 23s\n"
     ]
    }
   ],
   "source": [
    "%%time\n",
    "audio_transcriber.process_batch(insurance_cases.head(2))"
   ]
  },
  {
   "cell_type": "code",
   "execution_count": null,
   "metadata": {},
   "outputs": [],
   "source": []
  },
  {
   "cell_type": "code",
   "execution_count": 150,
   "metadata": {},
   "outputs": [],
   "source": [
    "class OralDocketExtractor:\n",
    "    def __init__(self, model_name=\"gpt-4-1106-preview\"):\n",
    "        self.model = ChatOpenAI(model=model_name, temperature=0.1)\n",
    "\n",
    "    def process_document(self, document_path: str) -> OralDocket:\n",
    "        loader = TextLoader(document_path)\n",
    "        doc = loader.load()\n",
    "            \n",
    "        prompt = ChatPromptTemplate.from_messages(\n",
    "        [\n",
    "            (\n",
    "                \"system\",\n",
    "                \"You are a world class algorithm for extracting information in structured formats.\",\n",
    "            ),\n",
    "            (\n",
    "                \"human\",\n",
    "                \"Use the given format to extract information from the following input: {input}\",\n",
    "            ),\n",
    "            (\"human\", \"Tip: Make sure to answer in the correct format\"),\n",
    "        ]\n",
    "    )\n",
    "\n",
    "        runnable = create_structured_output_runnable(OralDocket, self.model, prompt)\n",
    "        result = runnable.invoke({\"input\": doc})\n",
    "        \n",
    "        # Extract unique_index from the filename\n",
    "        filename = os.path.basename(document_path)\n",
    "        unique_index = filename.split(\"_\")[-1].split(\".\")[0]\n",
    "        \n",
    "        return result, unique_index\n",
    "    \n",
    "    def save_to_excel(self, data: List[OralDocket], file_name: str, unique_index: int):\n",
    "        data_dicts = [instance.dict() for instance in data]\n",
    "\n",
    "        # Save 'parties' and 'arguments' to separate sheets\n",
    "        for key in ['parties', 'arguments']:\n",
    "            df_new = pd.concat([pd.json_normalize(data_dict[key]) for data_dict in data_dicts], ignore_index=True)\n",
    "            df_new['unique_index'] = unique_index  # Add the unique_index column\n",
    "            self.write_to_excel(df_new, key, file_name)\n",
    "\n",
    "    @staticmethod\n",
    "    def write_to_excel(df_new, sheet_name, file_name='court_whisperer_data.xlsx'):\n",
    "        if os.path.exists(file_name):\n",
    "            try:\n",
    "                # Attempt to read the existing sheet\n",
    "                df_old = pd.read_excel(file_name, sheet_name=sheet_name)\n",
    "                df = pd.concat([df_old, df_new]).drop_duplicates()\n",
    "            except ValueError:\n",
    "                # If the sheet does not exist, use the new dataframe as is\n",
    "                df = df_new\n",
    "\n",
    "            # Open the existing workbook using 'a' mode (append)\n",
    "            with pd.ExcelWriter(file_name, engine='openpyxl', mode='a', if_sheet_exists='replace') as writer:\n",
    "                # If the sheet exists, it will be overwritten\n",
    "                df.to_excel(writer, sheet_name=sheet_name, index=False)\n",
    "        else:\n",
    "            # Create a new file if it doesn't exist\n",
    "            df_new.to_excel(file_name, sheet_name=sheet_name, index=False)\n"
   ]
  },
  {
   "cell_type": "code",
   "execution_count": 147,
   "metadata": {},
   "outputs": [
    {
     "name": "stderr",
     "output_type": "stream",
     "text": [
      "100%|██████████| 21/21 [00:31<00:00,  1.50s/it]\n"
     ]
    },
    {
     "name": "stdout",
     "output_type": "stream",
     "text": [
      "Records with keyword: insurance: 11\n",
      "File downloaded and saved as audio\\MariaJimenezvTravelersCommercialInsurance_249.mp3\n",
      "Transcription saved as transcriptions\\MariaJimenezvTravelersCommercialInsurance_249.txt\n",
      "File downloaded and saved as audio\\NationalFireInsuranceCovSanchez_282.mp3\n",
      "Transcription saved as transcriptions\\NationalFireInsuranceCovSanchez_282.txt\n"
     ]
    }
   ],
   "source": [
    "# Example usage:\n",
    "audio_transcriber = AudioTranscriber('audio', 'transcriptions')\n",
    "extractor = CourtListenerExtractor(\"database.xlsx\")\n",
    "df = extractor.fetch_records(1, 21)\n",
    "insurance_cases = extractor.find_subset_with_keyword()\n",
    "audio_transcriber.process_batch(insurance_cases.tail(2))"
   ]
  },
  {
   "cell_type": "code",
   "execution_count": 152,
   "metadata": {},
   "outputs": [],
   "source": [
    "llm_processor = OralDocketExtractor()"
   ]
  },
  {
   "cell_type": "code",
   "execution_count": 153,
   "metadata": {},
   "outputs": [],
   "source": [
    "text_files = [\n",
    "    \"MariaJimenezvTravelersCommercialInsurance_249.txt\",\n",
    "    \"NationalFireInsuranceCovSanchez_282.txt\"\n",
    "]\n",
    "\n",
    "for text_file in text_files:\n",
    "    result, unique_index = llm_processor.process_document(f\"transcriptions/{text_file}\")\n",
    "    llm_processor.save_to_excel([result], \"output_file_v2.xlsx\", unique_index)"
   ]
  },
  {
   "cell_type": "code",
   "execution_count": 154,
   "metadata": {},
   "outputs": [],
   "source": [
    "df_parties = pd.read_excel(\"output_file_v2.xlsx\", sheet_name=\"parties\")\n",
    "df_arguments = pd.read_excel(\"output_file_v2.xlsx\", sheet_name=\"arguments\")"
   ]
  },
  {
   "cell_type": "code",
   "execution_count": 155,
   "metadata": {},
   "outputs": [
    {
     "name": "stdout",
     "output_type": "stream",
     "text": [
      "Shape of parties df: (10, 4)\n"
     ]
    },
    {
     "data": {
      "text/markdown": [
       "| person                         | role                 | background                                                                                                                                                                                                                                                      |   unique_index |\n",
       "|:-------------------------------|:---------------------|:----------------------------------------------------------------------------------------------------------------------------------------------------------------------------------------------------------------------------------------------------------------|---------------:|\n",
       "| Mr. Keifer                     | Defendant            | Resident of Illinois, involved in a legal dispute with Travelers Commercial Insurance regarding the removal of a state court citation to discover assets. An agreement was made with the plaintiffs for a judgment and a stipulation not to execute in Florida. |            249 |\n",
       "| Travelers Commercial Insurance | Defendant/Appellee   | Insurance company from Connecticut, involved in a legal dispute over the removal of a state court citation to discover assets and a subsequent answer under oath stating no property or monies belonging to the judgment debtor.                                |            249 |\n",
       "| Mr. Bustamante                 | Plaintiff's Counsel  | Representing the plaintiffs, arguing that the removal was improper and there was no independent controversy at the time of removal. Contends that the case should not have been removed and that the removal violated the forum defendant rule.                 |            249 |\n",
       "| Mr. Valentino                  | Defendant's Counsel  | Representing Travelers Commercial Insurance, arguing for the affirmation of the district court's decisions and maintaining that the removal of the state court citation to discover assets was appropriate.                                                     |            249 |\n",
       "| Margaret Esmechbriah           | Justice              | Presiding over the case National Fire Insurance Company versus Lewis Sanchez.                                                                                                                                                                                   |            282 |\n",
       "| Ellis                          | Justice              | nan                                                                                                                                                                                                                                                             |            282 |\n",
       "| Cops                           | Justice              | nan                                                                                                                                                                                                                                                             |            282 |\n",
       "| Brad Stavis                    | Appellant's Attorney | Represents the appellant Mr. Sanchez.                                                                                                                                                                                                                           |            282 |\n",
       "| Todd Shank                     | Appellee's Attorney  | On behalf of Appellee East Continental Insurance Company and National Fire Insurance Company of Hartford.                                                                                                                                                       |            282 |\n",
       "| Lewis Sanchez                  | Appellant            | Represented a class of individuals whose biometric information was collected and used by Visual Pack and Elite Staffing.                                                                                                                                        |            282 |"
      ],
      "text/plain": [
       "<IPython.core.display.Markdown object>"
      ]
     },
     "execution_count": 155,
     "metadata": {},
     "output_type": "execute_result"
    }
   ],
   "source": [
    "print(f\"Shape of parties df: {df_parties.shape}\")\n",
    "Markdown(f\"{df_parties.to_markdown(index=False)}\")"
   ]
  },
  {
   "cell_type": "code",
   "execution_count": 156,
   "metadata": {},
   "outputs": [
    {
     "name": "stdout",
     "output_type": "stream",
     "text": [
      "Shape of arguments df: (10, 5)\n"
     ]
    },
    {
     "data": {
      "text/markdown": [
       "| topic                                           | side      | person         | summary                                                                                                                                                                                                                                                                                                                                                            |   unique_index |\n",
       "|:------------------------------------------------|:----------|:---------------|:-------------------------------------------------------------------------------------------------------------------------------------------------------------------------------------------------------------------------------------------------------------------------------------------------------------------------------------------------------------------|---------------:|\n",
       "| Improper Removal                                | Plaintiff | Mr. Bustamante | Argues that the removal of the case was improper as there was no independent controversy to adjudicate at the time of removal, and it violated the forum defendant rule.                                                                                                                                                                                           |            249 |\n",
       "| No Independent Controversy                      | Plaintiff | Mr. Bustamante | Contends that there was no actual independent controversy issue at the time of removal since Travelers had not filed an answer to the citation, preventing the district court from determining if there was an independent controversy.                                                                                                                            |            249 |\n",
       "| Answer Under Oath                               | Plaintiff | Mr. Bustamante | Points out that Travelers' answer under oath stated it had no property or monies belonging to the judgment debtor, which should have ended the citation proceeding.                                                                                                                                                                                                |            249 |\n",
       "| Forum Defendant Rule                            | Plaintiff | Mr. Bustamante | Asserts that removal was also improper under the forum defendant rule because Mr. Keifer, a defendant in the case, is a resident of Illinois.                                                                                                                                                                                                                      |            249 |\n",
       "| Defense of Proper Removal                       | Defense   | Mr. Valentino  | Defends the removal of the case, stating that the district court correctly applied relevant decisions and that the citation to discover assets presents a separate action requiring its own basis for federal jurisdiction.                                                                                                                                        |            249 |\n",
       "| Summary Judgment Appropriateness                | Defense   | Mr. Valentino  | Argues that it was appropriate for the judge to rule by summary judgment in the citation proceeding and that the plaintiffs failed to establish a factual basis for a bad faith claim against Travelers.                                                                                                                                                           |            249 |\n",
       "| No Bad Faith Claim                              | Defense   | Mr. Valentino  | Maintains that the plaintiffs cannot establish a bad faith claim against Travelers as they failed to satisfy the necessary elements and did not provide evidence of Travelers acting in bad faith.                                                                                                                                                                 |            249 |\n",
       "| Application of Insurance Policy to BIPA Claim   | Appellant | Brad Stavis    | The case involves the application of an insurance policy to a claim brought under the Biometric Information Privacy Act (BIPA). The main issues are whether estoppel applies, preventing the insurance company from asserting exclusions in the policy, and whether there is coverage under the policy based on the West Bend versus Krzysztof Supreme Court case. |            282 |\n",
       "| Estoppel and Exclusions in Insurance Policy     | Appellant | Brad Stavis    | Argues that estoppel applies due to the insurance company's delay in action, which should prevent them from asserting any exclusions. Even if estoppel does not apply, the violation of law exclusion, which is central to the case, is argued to be ambiguous and should not prevent coverage.                                                                    |            282 |\n",
       "| BIPA Violations and Insurance Policy Exclusions | Appellee  | Todd Shank     | Claims that estoppel cannot apply unless there is a breach of duty to defend, which is not the case here due to clear exclusions that apply to the BIPA violations in the Sanchez lawsuit. Argues against the ambiguity of the catch-all in the violation of law exclusion and supports the trial court's judgment in favor of CNA.                                |            282 |"
      ],
      "text/plain": [
       "<IPython.core.display.Markdown object>"
      ]
     },
     "execution_count": 156,
     "metadata": {},
     "output_type": "execute_result"
    }
   ],
   "source": [
    "print(f\"Shape of arguments df: {df_arguments.shape}\")\n",
    "Markdown(f\"{df_arguments.to_markdown(index=False)}\")"
   ]
  },
  {
   "cell_type": "code",
   "execution_count": null,
   "metadata": {},
   "outputs": [],
   "source": []
  },
  {
   "cell_type": "code",
   "execution_count": null,
   "metadata": {},
   "outputs": [],
   "source": []
  },
  {
   "cell_type": "code",
   "execution_count": 61,
   "metadata": {},
   "outputs": [],
   "source": [
    "document_path = \"MariaJimenezvTravelersCommercialInsurance_249.txt\"\n",
    "\n",
    "loader = TextLoader(document_path)\n",
    "doc = loader.load()\n",
    "\n",
    "embeddings = OpenAIEmbeddings()\n",
    "db = Chroma.from_documents(docs, embeddings)\n",
    "\n",
    "retriever = db.as_retriever()\n",
    "\n",
    "template = \"\"\"Answer the question based only on the following context:\n",
    "\n",
    "{context}\n",
    "\n",
    "Question: {question}\n",
    "\"\"\"\n",
    "prompt = ChatPromptTemplate.from_template(template)\n",
    "model = ChatOpenAI(model=\"gpt-4-1106-preview\", temperature=0)\n",
    "\n",
    "\n",
    "def format_docs(docs):\n",
    "    return \"\\n\\n\".join([d.page_content for d in docs])\n",
    "\n",
    "\n",
    "chain = (\n",
    "    {\"context\": retriever | format_docs, \"question\": RunnablePassthrough()}\n",
    "    | prompt\n",
    "    | model\n",
    "    | StrOutputParser()\n",
    ")"
   ]
  },
  {
   "cell_type": "code",
   "execution_count": 62,
   "metadata": {},
   "outputs": [],
   "source": [
    "result = chain.invoke(\"Generate a well strucured list of legal arguments.\")"
   ]
  },
  {
   "cell_type": "code",
   "execution_count": 63,
   "metadata": {},
   "outputs": [
    {
     "data": {
      "text/markdown": [
       "Based on the provided context, here is a well-structured list of legal arguments that appear to be relevant to the case:\n",
       "\n",
       "1. **Breach of Contract Argument:**\n",
       "   - The argument that there is no breach of contract by Southwest because the contract allows for various ways Southwest can perform under the agreement.\n",
       "\n",
       "2. **Definition of Loss Argument:**\n",
       "   - The costs incurred that are covered by the first definition of loss are not limited to liabilities but also include voluntary decisions made by the policyholder as a result of the system failure.\n",
       "\n",
       "3. **Excessive Costs Argument:**\n",
       "   - The carrier has the right to argue that certain costs were excessive and not solely motivated by the system failure, and this can be presented to the fact-finder.\n",
       "\n",
       "4. **Historical Practice Argument:**\n",
       "   - Southwest's actions were consistent with its historical practices, and the benefits provided were in line with what it has historically used.\n",
       "\n",
       "5. **Comparative Value Argument:**\n",
       "   - The per passenger value of the benefits provided by Southwest was less than that provided by Delta in a similar situation, suggesting that the costs were reasonable.\n",
       "\n",
       "6. **Voluntary Decision Argument:**\n",
       "   - The policy covers voluntary decisions to incur negative consequences, as indicated by the etymology of the word \"incur.\"\n",
       "\n",
       "7. **Irrelevance of the Seventh Circuit Decision Argument:**\n",
       "   - The Seventh Circuit decision is immaterial to the case at hand as it dealt with a passenger's contract claim, not the insurance policy coverage.\n",
       "\n",
       "8. **Consequential Damages Argument:**\n",
       "   - The policy is presumed to exclude consequential damages that are not directly related to the covered occurrence.\n",
       "\n",
       "9. **First Impression Argument:**\n",
       "   - This case is of first impression, meaning there is no existing precedent directly on point, and the court's decision will set a new precedent.\n",
       "\n",
       "10. **Mitigation Costs Argument:**\n",
       "    - Costs incurred by a business to mitigate further losses due to a covered occurrence should be considered a covered loss under the policy.\n",
       "\n",
       "11. **Contractual Obligation Argument:**\n",
       "    - If certain actions are required by the contract of carriage (e.g., taking care of passengers affected by a system failure), they may be excluded from coverage under the liability to third parties exclusion.\n",
       "\n",
       "12. **Policy Exclusions Argument:**\n",
       "    - Exclusions in the policy serve to narrow down coverage and should be interpreted to subtract from coverage, not to render the policy illusory.\n",
       "\n",
       "13. **Policy Interpretation Argument:**\n",
       "    - The plain language of the policy should guide the interpretation, and the court should adhere to the clear meaning of the terms used in the policy.\n",
       "\n",
       "These arguments reflect the various positions and interpretations of the insurance policy and contractual obligations at issue in the case."
      ],
      "text/plain": [
       "<IPython.core.display.Markdown object>"
      ]
     },
     "execution_count": 63,
     "metadata": {},
     "output_type": "execute_result"
    }
   ],
   "source": [
    "Markdown(f\"{result}\")"
   ]
  },
  {
   "cell_type": "code",
   "execution_count": 64,
   "metadata": {},
   "outputs": [],
   "source": [
    "result_summary = chain.invoke(f\"Based on the following list of arguments, distill each side's most important points:\\n\\n{result}\")"
   ]
  },
  {
   "cell_type": "code",
   "execution_count": 65,
   "metadata": {},
   "outputs": [
    {
     "data": {
      "text/markdown": [
       "Based on the provided context, here are the most important points distilled from each side's arguments:\n",
       "\n",
       "**Southwest's Side:**\n",
       "\n",
       "1. **Breach of Contract Argument:**\n",
       "   - Southwest contends that there is no breach of contract as the contract allows for various performance methods.\n",
       "\n",
       "2. **Definition of Loss Argument:**\n",
       "   - Southwest argues that the definition of loss includes both liabilities and voluntary decisions made due to system failure.\n",
       "\n",
       "3. **Historical Practice Argument:**\n",
       "   - Southwest maintains that its mitigation actions were consistent with historical practices, suggesting they were reasonable and should be covered.\n",
       "\n",
       "4. **Voluntary Decision Argument:**\n",
       "   - The policy is argued to cover voluntary decisions to incur negative consequences, which is consistent with the etymology and common understanding of \"incur.\"\n",
       "\n",
       "5. **Irrelevance of the Seventh Circuit Decision Argument:**\n",
       "   - Southwest asserts that the Seventh Circuit decision is not relevant to the current case, which focuses on insurance policy coverage.\n",
       "\n",
       "6. **Mitigation Costs Argument:**\n",
       "   - Southwest believes that costs incurred to mitigate further losses due to a covered occurrence are covered losses under the policy.\n",
       "\n",
       "**Insurance Carrier's Side:**\n",
       "\n",
       "1. **Consequential Damages Argument:**\n",
       "   - The carrier argues that the policy excludes consequential damages that are not directly related to the covered occurrence.\n",
       "\n",
       "2. **First Impression Argument:**\n",
       "   - The carrier notes that the case is of first impression and will set a new precedent, implying the need for careful consideration of the policy's terms.\n",
       "\n",
       "3. **Contractual Obligation Argument:**\n",
       "   - The carrier suggests that actions required by the contract of carriage may be excluded from coverage under the liability to third parties exclusion.\n",
       "\n",
       "4. **Policy Exclusions Argument:**\n",
       "   - The carrier emphasizes that exclusions in the policy are meant to narrow coverage and should not be interpreted to render the policy illusory.\n",
       "\n",
       "5. **Policy Interpretation Argument:**\n",
       "   - The carrier insists on a plain language interpretation of the policy, adhering to the clear meaning of the terms used.\n",
       "\n",
       "Both sides present arguments related to the interpretation of the insurance policy, the definition of loss, and the relevance of contractual obligations and historical practices. The court's decision will hinge on the interpretation of these arguments and how they apply to the policy in question."
      ],
      "text/plain": [
       "<IPython.core.display.Markdown object>"
      ]
     },
     "execution_count": 65,
     "metadata": {},
     "output_type": "execute_result"
    }
   ],
   "source": [
    "Markdown(f\"{result_summary}\")"
   ]
  },
  {
   "cell_type": "code",
   "execution_count": 66,
   "metadata": {},
   "outputs": [],
   "source": [
    "plaintiff_summary = chain.invoke(\"Craft a summary of the plaintiff's most key arguments in logical step-by-step fashion.\")"
   ]
  },
  {
   "cell_type": "code",
   "execution_count": 67,
   "metadata": {},
   "outputs": [
    {
     "data": {
      "text/markdown": [
       "The plaintiff's key arguments can be summarized in a logical step-by-step fashion as follows:\n",
       "\n",
       "1. **Issue of Sole Causation**: The plaintiff argues that the central question of the case is whether expenses incurred voluntarily by a policyholder to mitigate the impact of a covered business interruption can be considered as incurred solely as a result of the interruption. The plaintiff contends that this is typically a factual matter to be determined by a jury.\n",
       "\n",
       "2. **Summary Judgment Challenge**: The plaintiff challenges the district court's summary judgment, which was based on the premise that voluntary mitigation expenses cannot be solely caused by a system failure due to the policyholder's business judgment being a concurrent cause. The plaintiff asserts that this judgment is erroneous.\n",
       "\n",
       "3. **Policy Text and Precedent**: The plaintiff suggests that the case should be decided by looking at the policy text and by drawing analogies to prior court precedents, particularly when there is no existing case law directly addressing the policy language in question.\n",
       "\n",
       "4. **Analogous Case - Wells vs. Minnesota Life Insurance**: The plaintiff cites the decision in Wells vs. Minnesota Life Insurance, where the court held that subsequent events stemming from an accidental injury do not necessarily sever the sole cause link for policy coverage. The plaintiff draws a parallel between this case and the current situation, arguing that the expenses were a direct result of the system failure.\n",
       "\n",
       "5. **Evidence of Sole Causation**: The plaintiff points to evidence, including testimony from decision-makers at Southwest, affirming that the compensation decisions were made solely because of the system failure. This evidence is presented to support the argument that the expenses should be covered by the insurance policy.\n",
       "\n",
       "6. **Nexus to System Failure**: The plaintiff addresses the concern about the nexus between the system failure and the compensation of individuals who did not travel during the interruption. The argument is that the compensation was linked to individual booking numbers, which could include up to eight passengers, thus establishing a connection to the system failure.\n",
       "\n",
       "7. **Fact Finder's Role**: The plaintiff argues that it is the role of the fact finder to determine whether the compensation was excessive or beyond what was necessary due to the system failure. The plaintiff suggests that the insurer has the right to argue this point before the fact finder.\n",
       "\n",
       "8. **Historical Business Practices**: The plaintiff asserts that the compensation provided was consistent with Southwest's historical practices, which is relevant to the policy's consideration of the insured's prior business experience.\n",
       "\n",
       "9. **Definition of \"Incurs\"**: The plaintiff emphasizes the meaning of the term \"incurs,\" arguing that it refers to a loss that an individual or entity brings upon itself, often voluntarily. This interpretation supports the plaintiff's view that the policy covers the expenses in question.\n",
       "\n",
       "10. **Irrelevance of the Seven Circuit Decision**: Finally, the plaintiff dismisses a Seven Circuit decision cited by the opposition as immaterial, stating that it pertained to a passenger's contract claim against Southwest and not to the insurance policy coverage issue at hand.\n",
       "\n",
       "The plaintiff concludes by requesting that the summary judgment be reversed, allowing the matter to be decided by a fact finder, as the evidence suggests that the expenses were indeed incurred solely as a result of the system failure."
      ],
      "text/plain": [
       "<IPython.core.display.Markdown object>"
      ]
     },
     "execution_count": 67,
     "metadata": {},
     "output_type": "execute_result"
    }
   ],
   "source": [
    "Markdown(f\"{plaintiff_summary}\")"
   ]
  },
  {
   "cell_type": "code",
   "execution_count": 70,
   "metadata": {},
   "outputs": [
    {
     "data": {
      "text/markdown": [
       "Counter Argument:\n",
       "\n",
       "- **Voluntary Mitigation vs. Sole Causation:**\n",
       "  - The plaintiff conflates voluntary mitigation efforts with expenses solely caused by the system failure. Voluntary actions may have multiple motivations beyond the immediate cause.\n",
       "  - The policy language likely distinguishes between actions taken solely due to the interruption and those that are part of broader business strategies, including goodwill gestures.\n",
       "\n",
       "- **Historical Practices Not Necessarily Relevant:**\n",
       "  - Past practices of offering benefits do not automatically justify current expenses as being solely caused by the system failure.\n",
       "  - The historical context provided by the plaintiff does not address whether the scale or scope of the mitigation efforts was proportionate to the interruption.\n",
       "\n",
       "- **Excessive Compensation Claims:**\n",
       "  - The plaintiff admits that the carrier could argue against excessive compensation, suggesting that there is a limit to what can be considered solely caused by the interruption.\n",
       "  - The example of lifetime travel for goodwill exceeds reasonable mitigation and indicates that there is a line where voluntary decisions are no longer solely due to the system failure.\n",
       "\n",
       "- **Fair Saver Program for Friends:**\n",
       "  - The inclusion of friends in the compensation package lacks a direct nexus to the system failure, as they were not affected passengers.\n",
       "  - The plaintiff's argument does not adequately address why non-traveling individuals should be compensated for an interruption they did not experience.\n",
       "\n",
       "- **Advertising Costs:**\n",
       "  - The plaintiff does not justify why a full week of advertising costs would be covered when only a day was lost, suggesting a lack of proportionality in the mitigation expenses.\n",
       "\n",
       "- **Seven Circuit Decision:**\n",
       "  - The plaintiff dismisses the Seven Circuit decision as immaterial, but it may provide insight into how contractual obligations are interpreted in relation to system failures and subsequent actions.\n",
       "\n",
       "- **Etymology of \"Incur\":**\n",
       "  - The plaintiff's reliance on the etymology of \"incur\" is not a strong legal argument. The policy terms and conditions, not the Latin root of words, should determine coverage.\n",
       "\n",
       "- **Lack of Precedent:**\n",
       "  - The plaintiff acknowledges the absence of precedent in the business interruption context, which suggests that the court should be cautious in extending coverage to voluntary mitigation expenses without clear guidance.\n",
       "\n",
       "- **Fact Finder's Role:**\n",
       "  - The plaintiff's argument that all issues should go to the fact finder overlooks the possibility that some issues may be decided as a matter of law if the policy language is clear.\n",
       "\n",
       "- **Policy Interpretation:**\n",
       "  - The plaintiff's interpretation of the policy may be overly broad, potentially leading to coverage for actions that extend beyond the intent of the policy and the reasonable expectations of the insurer."
      ],
      "text/plain": [
       "<IPython.core.display.Markdown object>"
      ]
     },
     "execution_count": 70,
     "metadata": {},
     "output_type": "execute_result"
    }
   ],
   "source": [
    "defense_summary = chain.invoke(\"Using the following arguments, craft a concise, methodical, fact-focused counter argument as a bullet point list. Look for errors and omissions in the plaintiff logic:\\n\\n{plaintiff_summary}\")\n",
    "Markdown(f\"{defense_summary}\")"
   ]
  },
  {
   "cell_type": "code",
   "execution_count": 71,
   "metadata": {},
   "outputs": [
    {
     "data": {
      "text/markdown": [
       "The discussion revolves around a 'system failure' experienced by Southwest Airlines and the subsequent insurance coverage dispute. The system failure led to significant disruptions, including the stranding of approximately 400,000 passengers. Southwest made a series of decisions to mitigate the impact on customers, which included offering refunds, vouchers, and other gestures of goodwill. These decisions were not legally mandated but were made unilaterally by Southwest as a business judgment to maintain customer relations and goodwill.\n",
       "\n",
       "The crux of the argument is whether these voluntary, goodwill measures taken by Southwest in response to the system failure are covered under their business interruption insurance policy. The policy specifies coverage for losses \"solely as a result of the system failure,\" which has become a point of contention. Southwest argues that all the customer compensation decisions were undertaken solely because of the system failure, suggesting that these should be covered by the insurance.\n",
       "\n",
       "The insurer, on the other hand, contends that the measures go beyond what is covered by the policy. They argue that the policy is intended to put the insured in the position they would have been in if the system failure had not occurred, and does not cover the downstream effects such as PR or customer goodwill measures. The insurer maintains that the policy does not cover costs that are not a direct necessity or that go beyond restoring the company to the position it was in before the system failure.\n",
       "\n",
       "The discussion also touches on the nature of the benefits provided to customers, including the 'Fair Saver' promo codes, which were linked to individual booking numbers and could cover up to eight passengers. The insurer challenges the nexus between these benefits and the system failure, particularly for passengers who did not travel during the disruption. Southwest defends this by stating that the actual usage of the benefits resulted in an average of 1.5 tickets per promo code, and that these measures were consistent with their historical practices in similar situations.\n",
       "\n",
       "The debate also includes a legal analysis of what constitutes a loss that is \"incurred\" under the policy, with Southwest's counsel pointing to the etymology of the word \"incur\" to argue that it implies a self-inflicted negative consequence, which should be covered by the policy.\n",
       "\n",
       "The court is tasked with determining whether the voluntary measures taken by Southwest are indeed covered losses under the insurance policy, considering the policy's language and the intent behind the business interruption coverage. The insurer suggests that the court's role is to differentiate between out-of-pocket costs directly associated with the system failure and benefits that may extend beyond that scope. The outcome of this dispute will hinge on the interpretation of the policy language and the factual circumstances surrounding the system failure and Southwest's response."
      ],
      "text/plain": [
       "<IPython.core.display.Markdown object>"
      ]
     },
     "execution_count": 71,
     "metadata": {},
     "output_type": "execute_result"
    }
   ],
   "source": [
    "system_failure = chain.invoke(\"Generate a detailed and comprehensive summary of the 'system failure' being argued. Include facts and quotes as needed to.\")\n",
    "Markdown(f\"{system_failure}\")"
   ]
  },
  {
   "cell_type": "code",
   "execution_count": null,
   "metadata": {},
   "outputs": [],
   "source": []
  }
 ],
 "metadata": {
  "kernelspec": {
   "display_name": ".venv",
   "language": "python",
   "name": "python3"
  },
  "language_info": {
   "codemirror_mode": {
    "name": "ipython",
    "version": 3
   },
   "file_extension": ".py",
   "mimetype": "text/x-python",
   "name": "python",
   "nbconvert_exporter": "python",
   "pygments_lexer": "ipython3",
   "version": "3.10.13"
  }
 },
 "nbformat": 4,
 "nbformat_minor": 2
}
